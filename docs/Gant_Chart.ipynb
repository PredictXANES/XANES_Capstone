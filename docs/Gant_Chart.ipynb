{
 "cells": [
  {
   "cell_type": "code",
   "execution_count": null,
   "metadata": {},
   "outputs": [],
   "source": [
    "import plotly.figure_factory as ff\n",
    "\n",
    "df = [dict(Task='Literature review and task assignment', Start='2020-04-02', Finish='2020-04-10', Resource='Preparation'),\n",
    "      dict(Task='Peak picking algorithm development', Start='2020-04-11', Finish='2020-05-08', Resource=\"Data_pretreatment\"),\n",
    "      dict(Task='Feature alignment algorithm development', Start='2020-04-11', Finish='2020-05-08', Resource=\"Data_pretreatment\"),\n",
    "      dict(Task=\"Cluster function development\", Start='2020-05-09', Finish='2020-06-05', Resource='Core_feature_development'),\n",
    "      dict(Task=\"API release and final reports\", Start='2020-06-06', Finish='2020-06-20', Resource='Final_outcome')]\n",
    "\n",
    "colors = dict(Preparation = 'rgb(46, 137, 205)',\n",
    "              Data_pretreatment = 'rgb(114, 44, 121)',\n",
    "              Core_feature_development = 'rgb(198, 47, 105)',\n",
    "              Final_outcome = 'rgb(58, 149, 136)')\n",
    "\n",
    "fig = ff.create_gantt(df, colors=colors, index_col='Resource',\n",
    "                      show_colorbar=True)\n",
    "fig.show()"
   ]
  }
 ],
 "metadata": {
  "kernelspec": {
   "display_name": "Python 3",
   "language": "python",
   "name": "python3"
  },
  "language_info": {
   "codemirror_mode": {
    "name": "ipython",
    "version": 3
   },
   "file_extension": ".py",
   "mimetype": "text/x-python",
   "name": "python",
   "nbconvert_exporter": "python",
   "pygments_lexer": "ipython3",
   "version": "3.7.4"
  }
 },
 "nbformat": 4,
 "nbformat_minor": 2
}
