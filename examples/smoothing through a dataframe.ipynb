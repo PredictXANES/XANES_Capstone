{
 "cells": [
  {
   "cell_type": "code",
   "execution_count": 10,
   "metadata": {},
   "outputs": [],
   "source": [
    "import numpy as np\n",
    "import pandas as pd\n",
    "import matplotlib.pyplot as plt\n",
    "from sklearn.neural_network import MLPRegressor\n",
    "from sklearn.model_selection import train_test_split\n",
    "from sklearn.metrics import mean_squared_error\n",
    "from sklearn.metrics import r2_score\n",
    "from scipy.signal import savgol_filter"
   ]
  },
  {
   "cell_type": "code",
   "execution_count": 2,
   "metadata": {},
   "outputs": [],
   "source": [
    "import os\n",
    "import sys\n",
    "module_path = os.path.abspath(os.path.join('..'))\n",
    "if module_path not in sys.path:\n",
    "    sys.path.append(module_path)\n",
    "from PredictXANES import xanes_derivatives"
   ]
  },
  {
   "cell_type": "code",
   "execution_count": 3,
   "metadata": {},
   "outputs": [],
   "source": [
    "df = pd.read_csv('mu_cn10000.csv')"
   ]
  },
  {
   "cell_type": "code",
   "execution_count": 4,
   "metadata": {},
   "outputs": [],
   "source": [
    "X = df.drop(labels=['CN', 'Num Cu', 'Num Te'], axis=1)\n",
    "list = X.columns.tolist()\n",
    "\n",
    "X.columns = range(X.shape[1])\n",
    "\n",
    "\n",
    "noise = np.random.normal(0,0.015,[10000,100])\n",
    "X_noise = X + noise\n",
    "X_noise.columns = list\n",
    "\n",
    "y = df[['CN', 'Num Cu', 'Num Te']]\n",
    "X_train, X_test, y_train, y_test = train_test_split(X_noise, y, test_size=0.20, random_state=519)"
   ]
  },
  {
   "cell_type": "code",
   "execution_count": 11,
   "metadata": {},
   "outputs": [],
   "source": [
    "for index, row in X_noise.iterrows():\n",
    "    savgol_filter(row, 51, 2)"
   ]
  },
  {
   "cell_type": "code",
   "execution_count": 12,
   "metadata": {},
   "outputs": [
    {
     "name": "stdout",
     "output_type": "stream",
     "text": [
      "        Mu1       Mu2       Mu3       Mu4       Mu5       Mu6       Mu7  \\\n",
      "0  0.035387  0.031798  0.041136  0.029556  0.050368  0.021668  0.043154   \n",
      "1  0.040056  0.045633  0.040359  0.039113  0.041958  0.015236  0.033276   \n",
      "2  0.033025  0.028272  0.046567  0.045068  0.024072  0.040101  0.048284   \n",
      "3  0.004803  0.038047  0.027137  0.051540  0.058146  0.046480  0.080188   \n",
      "4  0.038667  0.045696  0.034715  0.047794  0.042674  0.054028  0.069221   \n",
      "\n",
      "        Mu8       Mu9      Mu10  ...      Mu91      Mu92      Mu93      Mu94  \\\n",
      "0  0.025517  0.053530  0.054676  ...  0.973148  0.971498  0.980345  0.991466   \n",
      "1  0.085677  0.075483  0.078179  ...  1.003450  1.004749  0.983023  1.027879   \n",
      "2  0.048937  0.052303  0.051820  ...  0.993113  0.985835  1.013844  1.018958   \n",
      "3  0.053426  0.056902  0.054539  ...  0.976920  0.994574  0.986105  1.036649   \n",
      "4  0.074681  0.059376  0.036929  ...  0.991685  1.006945  0.996053  1.007541   \n",
      "\n",
      "       Mu95      Mu96      Mu97      Mu98      Mu99     Mu100  \n",
      "0  0.994987  1.011497  1.015800  1.003148  1.030070  1.020731  \n",
      "1  0.995723  1.038519  1.012119  1.006765  1.024479  1.006584  \n",
      "2  1.024189  1.038906  1.000727  1.041577  1.054690  1.013234  \n",
      "3  1.027908  1.023415  1.004753  1.004938  1.021279  1.011528  \n",
      "4  1.014692  0.997349  1.003662  1.007520  1.027834  1.006966  \n",
      "\n",
      "[5 rows x 100 columns]\n"
     ]
    }
   ],
   "source": [
    "print(X_noise.head())"
   ]
  },
  {
   "cell_type": "code",
   "execution_count": null,
   "metadata": {},
   "outputs": [],
   "source": []
  }
 ],
 "metadata": {
  "kernelspec": {
   "display_name": "Python 3",
   "language": "python",
   "name": "python3"
  },
  "language_info": {
   "codemirror_mode": {
    "name": "ipython",
    "version": 3
   },
   "file_extension": ".py",
   "mimetype": "text/x-python",
   "name": "python",
   "nbconvert_exporter": "python",
   "pygments_lexer": "ipython3",
   "version": "3.7.4"
  }
 },
 "nbformat": 4,
 "nbformat_minor": 2
}
