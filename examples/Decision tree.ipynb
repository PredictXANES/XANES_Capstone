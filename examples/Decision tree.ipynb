{
 "cells": [
  {
   "cell_type": "code",
   "execution_count": 3,
   "metadata": {},
   "outputs": [],
   "source": [
    "import pandas as pd\n",
    "import numpy as np\n",
    "import matplotlib.pyplot as plt"
   ]
  },
  {
   "cell_type": "code",
   "execution_count": 1,
   "metadata": {
    "scrolled": true
   },
   "outputs": [
    {
     "name": "stdout",
     "output_type": "stream",
     "text": [
      "Decision tree.ipynb\r\n",
      "Fitting with Larch lib.ipynb\r\n",
      "GaussianProcessRegression_fitcurve.ipynb\r\n",
      "\u001b[34mLarch\u001b[m\u001b[m/\r\n",
      "Multi_Gaussin_try.ipynb\r\n",
      "RF_10000data_derivate.ipynb\r\n",
      "\u001b[34mUntitled Folder\u001b[m\u001b[m/\r\n",
      "XANES_ML_Data.xlsx\r\n",
      "__ init __.py\r\n",
      "first_second_derivate_CN_10000average_spectra.csv\r\n",
      "model_training.ipynb\r\n",
      "multiple_peak_deconvolution.ipynb\r\n",
      "predict_CN_10000sample.ipynb\r\n",
      "predict_descriptors.ipynb\r\n",
      "sample_spectrum.csv\r\n"
     ]
    }
   ],
   "source": [
    "ls"
   ]
  },
  {
   "cell_type": "code",
   "execution_count": 32,
   "metadata": {},
   "outputs": [],
   "source": [
    "from sklearn import tree\n",
    "from sklearn.externals.six import StringIO"
   ]
  },
  {
   "cell_type": "markdown",
   "metadata": {},
   "source": [
    "## generate data from local, but now used github directory instead\n",
    "from xanes_derivatives import xanes_derivatives\n",
    "mu_10000 = pd.read_csv(path1)\n",
    "sys_10000 = pd.read_csv(path2)\n",
    "weights_10000 = pd.read_csv(path3)\n",
    "\n",
    "der1_df = pd.DataFrame(der1)\n",
    "der2_df = pd.DataFrame(der2)"
   ]
  },
  {
   "cell_type": "code",
   "execution_count": 8,
   "metadata": {},
   "outputs": [],
   "source": [
    "df = pd.read_csv(\"first_second_derivate_CN_10000average_spectra.csv\")\n",
    "df = df.drop(columns = 'Unnamed: 0')"
   ]
  },
  {
   "cell_type": "code",
   "execution_count": 9,
   "metadata": {},
   "outputs": [
    {
     "data": {
      "text/html": [
       "<div>\n",
       "<style scoped>\n",
       "    .dataframe tbody tr th:only-of-type {\n",
       "        vertical-align: middle;\n",
       "    }\n",
       "\n",
       "    .dataframe tbody tr th {\n",
       "        vertical-align: top;\n",
       "    }\n",
       "\n",
       "    .dataframe thead th {\n",
       "        text-align: right;\n",
       "    }\n",
       "</style>\n",
       "<table border=\"1\" class=\"dataframe\">\n",
       "  <thead>\n",
       "    <tr style=\"text-align: right;\">\n",
       "      <th></th>\n",
       "      <th>first_derivate1</th>\n",
       "      <th>first_derivate2</th>\n",
       "      <th>first_derivate3</th>\n",
       "      <th>first_derivate4</th>\n",
       "      <th>first_derivate5</th>\n",
       "      <th>first_derivate6</th>\n",
       "      <th>first_derivate7</th>\n",
       "      <th>first_derivate8</th>\n",
       "      <th>first_derivate9</th>\n",
       "      <th>first_derivate10</th>\n",
       "      <th>...</th>\n",
       "      <th>second_derivate92</th>\n",
       "      <th>second_derivate93</th>\n",
       "      <th>second_derivate94</th>\n",
       "      <th>second_derivate95</th>\n",
       "      <th>second_derivate96</th>\n",
       "      <th>second_derivate97</th>\n",
       "      <th>second_derivate98</th>\n",
       "      <th>second_derivate99</th>\n",
       "      <th>second_derivate100</th>\n",
       "      <th>CN</th>\n",
       "    </tr>\n",
       "  </thead>\n",
       "  <tbody>\n",
       "    <tr>\n",
       "      <th>0</th>\n",
       "      <td>0.003164</td>\n",
       "      <td>0.003039</td>\n",
       "      <td>0.003061</td>\n",
       "      <td>0.003229</td>\n",
       "      <td>0.003543</td>\n",
       "      <td>0.004004</td>\n",
       "      <td>0.004612</td>\n",
       "      <td>0.005366</td>\n",
       "      <td>0.006282</td>\n",
       "      <td>0.007467</td>\n",
       "      <td>...</td>\n",
       "      <td>0.000135</td>\n",
       "      <td>0.000152</td>\n",
       "      <td>0.000168</td>\n",
       "      <td>0.000185</td>\n",
       "      <td>0.000202</td>\n",
       "      <td>0.000219</td>\n",
       "      <td>0.000235</td>\n",
       "      <td>-0.001988</td>\n",
       "      <td>0.0</td>\n",
       "      <td>9.118123</td>\n",
       "    </tr>\n",
       "    <tr>\n",
       "      <th>1</th>\n",
       "      <td>0.003099</td>\n",
       "      <td>0.002962</td>\n",
       "      <td>0.002964</td>\n",
       "      <td>0.003106</td>\n",
       "      <td>0.003388</td>\n",
       "      <td>0.003809</td>\n",
       "      <td>0.004370</td>\n",
       "      <td>0.005071</td>\n",
       "      <td>0.005919</td>\n",
       "      <td>0.007004</td>\n",
       "      <td>...</td>\n",
       "      <td>0.000506</td>\n",
       "      <td>0.000534</td>\n",
       "      <td>0.000562</td>\n",
       "      <td>0.000589</td>\n",
       "      <td>0.000617</td>\n",
       "      <td>0.000644</td>\n",
       "      <td>0.000672</td>\n",
       "      <td>-0.008119</td>\n",
       "      <td>0.0</td>\n",
       "      <td>9.982105</td>\n",
       "    </tr>\n",
       "    <tr>\n",
       "      <th>2</th>\n",
       "      <td>0.003077</td>\n",
       "      <td>0.002946</td>\n",
       "      <td>0.002954</td>\n",
       "      <td>0.003098</td>\n",
       "      <td>0.003381</td>\n",
       "      <td>0.003801</td>\n",
       "      <td>0.004359</td>\n",
       "      <td>0.005054</td>\n",
       "      <td>0.005896</td>\n",
       "      <td>0.006973</td>\n",
       "      <td>...</td>\n",
       "      <td>0.000464</td>\n",
       "      <td>0.000475</td>\n",
       "      <td>0.000486</td>\n",
       "      <td>0.000497</td>\n",
       "      <td>0.000508</td>\n",
       "      <td>0.000519</td>\n",
       "      <td>0.000530</td>\n",
       "      <td>-0.007733</td>\n",
       "      <td>0.0</td>\n",
       "      <td>9.999510</td>\n",
       "    </tr>\n",
       "    <tr>\n",
       "      <th>3</th>\n",
       "      <td>0.003110</td>\n",
       "      <td>0.002975</td>\n",
       "      <td>0.002980</td>\n",
       "      <td>0.003126</td>\n",
       "      <td>0.003412</td>\n",
       "      <td>0.003839</td>\n",
       "      <td>0.004406</td>\n",
       "      <td>0.005113</td>\n",
       "      <td>0.005972</td>\n",
       "      <td>0.007069</td>\n",
       "      <td>...</td>\n",
       "      <td>0.000301</td>\n",
       "      <td>0.000338</td>\n",
       "      <td>0.000374</td>\n",
       "      <td>0.000410</td>\n",
       "      <td>0.000447</td>\n",
       "      <td>0.000483</td>\n",
       "      <td>0.000519</td>\n",
       "      <td>-0.004295</td>\n",
       "      <td>0.0</td>\n",
       "      <td>9.739154</td>\n",
       "    </tr>\n",
       "    <tr>\n",
       "      <th>4</th>\n",
       "      <td>0.003052</td>\n",
       "      <td>0.002928</td>\n",
       "      <td>0.002942</td>\n",
       "      <td>0.003093</td>\n",
       "      <td>0.003381</td>\n",
       "      <td>0.003807</td>\n",
       "      <td>0.004369</td>\n",
       "      <td>0.005069</td>\n",
       "      <td>0.005917</td>\n",
       "      <td>0.007007</td>\n",
       "      <td>...</td>\n",
       "      <td>0.000358</td>\n",
       "      <td>0.000431</td>\n",
       "      <td>0.000505</td>\n",
       "      <td>0.000578</td>\n",
       "      <td>0.000651</td>\n",
       "      <td>0.000724</td>\n",
       "      <td>0.000797</td>\n",
       "      <td>-0.005440</td>\n",
       "      <td>0.0</td>\n",
       "      <td>9.736296</td>\n",
       "    </tr>\n",
       "  </tbody>\n",
       "</table>\n",
       "<p>5 rows × 201 columns</p>\n",
       "</div>"
      ],
      "text/plain": [
       "   first_derivate1  first_derivate2  first_derivate3  first_derivate4  \\\n",
       "0         0.003164         0.003039         0.003061         0.003229   \n",
       "1         0.003099         0.002962         0.002964         0.003106   \n",
       "2         0.003077         0.002946         0.002954         0.003098   \n",
       "3         0.003110         0.002975         0.002980         0.003126   \n",
       "4         0.003052         0.002928         0.002942         0.003093   \n",
       "\n",
       "   first_derivate5  first_derivate6  first_derivate7  first_derivate8  \\\n",
       "0         0.003543         0.004004         0.004612         0.005366   \n",
       "1         0.003388         0.003809         0.004370         0.005071   \n",
       "2         0.003381         0.003801         0.004359         0.005054   \n",
       "3         0.003412         0.003839         0.004406         0.005113   \n",
       "4         0.003381         0.003807         0.004369         0.005069   \n",
       "\n",
       "   first_derivate9  first_derivate10  ...  second_derivate92  \\\n",
       "0         0.006282          0.007467  ...           0.000135   \n",
       "1         0.005919          0.007004  ...           0.000506   \n",
       "2         0.005896          0.006973  ...           0.000464   \n",
       "3         0.005972          0.007069  ...           0.000301   \n",
       "4         0.005917          0.007007  ...           0.000358   \n",
       "\n",
       "   second_derivate93  second_derivate94  second_derivate95  second_derivate96  \\\n",
       "0           0.000152           0.000168           0.000185           0.000202   \n",
       "1           0.000534           0.000562           0.000589           0.000617   \n",
       "2           0.000475           0.000486           0.000497           0.000508   \n",
       "3           0.000338           0.000374           0.000410           0.000447   \n",
       "4           0.000431           0.000505           0.000578           0.000651   \n",
       "\n",
       "   second_derivate97  second_derivate98  second_derivate99  \\\n",
       "0           0.000219           0.000235          -0.001988   \n",
       "1           0.000644           0.000672          -0.008119   \n",
       "2           0.000519           0.000530          -0.007733   \n",
       "3           0.000483           0.000519          -0.004295   \n",
       "4           0.000724           0.000797          -0.005440   \n",
       "\n",
       "   second_derivate100        CN  \n",
       "0                 0.0  9.118123  \n",
       "1                 0.0  9.982105  \n",
       "2                 0.0  9.999510  \n",
       "3                 0.0  9.739154  \n",
       "4                 0.0  9.736296  \n",
       "\n",
       "[5 rows x 201 columns]"
      ]
     },
     "execution_count": 9,
     "metadata": {},
     "output_type": "execute_result"
    }
   ],
   "source": [
    "df.head()"
   ]
  },
  {
   "cell_type": "code",
   "execution_count": 12,
   "metadata": {},
   "outputs": [],
   "source": [
    "label = df['CN']"
   ]
  },
  {
   "cell_type": "code",
   "execution_count": 13,
   "metadata": {},
   "outputs": [],
   "source": [
    "from sklearn.model_selection import train_test_split\n",
    "X_train, X_test, y_train, y_test = train_test_split(df.loc[:, df.columns != 'CN'], df['CN'], test_size = 0.25, random_state = 42)"
   ]
  },
  {
   "cell_type": "code",
   "execution_count": 52,
   "metadata": {},
   "outputs": [],
   "source": [
    "from sklearn import tree"
   ]
  },
  {
   "cell_type": "code",
   "execution_count": 28,
   "metadata": {},
   "outputs": [],
   "source": [
    "clf = DecisionTreeRegressor(max_depth = 12)\n",
    "\n",
    "clf = clf.fit(X_train, y_train)"
   ]
  },
  {
   "cell_type": "code",
   "execution_count": 29,
   "metadata": {},
   "outputs": [
    {
     "data": {
      "text/plain": [
       "0.9715334974733519"
      ]
     },
     "execution_count": 29,
     "metadata": {},
     "output_type": "execute_result"
    }
   ],
   "source": [
    "clf.score(X_train, y_train)"
   ]
  },
  {
   "cell_type": "code",
   "execution_count": 30,
   "metadata": {
    "scrolled": true
   },
   "outputs": [
    {
     "data": {
      "text/plain": [
       "0.9040710687828911"
      ]
     },
     "execution_count": 30,
     "metadata": {},
     "output_type": "execute_result"
    }
   ],
   "source": [
    "clf.score(X_test, y_test)"
   ]
  },
  {
   "cell_type": "code",
   "execution_count": 33,
   "metadata": {},
   "outputs": [
    {
     "ename": "ModuleNotFoundError",
     "evalue": "No module named 'graphviz'",
     "output_type": "error",
     "traceback": [
      "\u001b[0;31m---------------------------------------------------------------------------\u001b[0m",
      "\u001b[0;31mModuleNotFoundError\u001b[0m                       Traceback (most recent call last)",
      "\u001b[0;32m<ipython-input-33-f7133d3517ab>\u001b[0m in \u001b[0;36m<module>\u001b[0;34m\u001b[0m\n\u001b[0;32m----> 1\u001b[0;31m \u001b[0;32mimport\u001b[0m \u001b[0mgraphviz\u001b[0m\u001b[0;34m\u001b[0m\u001b[0;34m\u001b[0m\u001b[0m\n\u001b[0m",
      "\u001b[0;31mModuleNotFoundError\u001b[0m: No module named 'graphviz'"
     ]
    }
   ],
   "source": []
  },
  {
   "cell_type": "code",
   "execution_count": 34,
   "metadata": {},
   "outputs": [],
   "source": [
    "# viz Desicion tree code\n",
    "\n",
    "dot_data = StringIO()\n",
    "tree.export_graphviz(clf,\n",
    "        out_file=dot_data)\n"
   ]
  },
  {
   "cell_type": "code",
   "execution_count": 35,
   "metadata": {},
   "outputs": [
    {
     "name": "stdout",
     "output_type": "stream",
     "text": [
      "Decision tree.ipynb\r\n",
      "Fitting with Larch lib.ipynb\r\n",
      "GaussianProcessRegression_fitcurve.ipynb\r\n",
      "\u001b[34mLarch\u001b[m\u001b[m/\r\n",
      "Multi_Gaussin_try.ipynb\r\n",
      "RF_10000data_derivate.ipynb\r\n",
      "\u001b[34mUntitled Folder\u001b[m\u001b[m/\r\n",
      "XANES_ML_Data.xlsx\r\n",
      "__ init __.py\r\n",
      "first_second_derivate_CN_10000average_spectra.csv\r\n",
      "model_training.ipynb\r\n",
      "multiple_peak_deconvolution.ipynb\r\n",
      "predict_CN_10000sample.ipynb\r\n",
      "predict_descriptors.ipynb\r\n",
      "sample_spectrum.csv\r\n"
     ]
    }
   ],
   "source": [
    "ls"
   ]
  },
  {
   "cell_type": "code",
   "execution_count": null,
   "metadata": {},
   "outputs": [],
   "source": []
  }
 ],
 "metadata": {
  "kernelspec": {
   "display_name": "Python 3",
   "language": "python",
   "name": "python3"
  },
  "language_info": {
   "codemirror_mode": {
    "name": "ipython",
    "version": 3
   },
   "file_extension": ".py",
   "mimetype": "text/x-python",
   "name": "python",
   "nbconvert_exporter": "python",
   "pygments_lexer": "ipython3",
   "version": "3.7.6"
  }
 },
 "nbformat": 4,
 "nbformat_minor": 4
}
