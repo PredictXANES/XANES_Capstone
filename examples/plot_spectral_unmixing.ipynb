{
 "cells": [
  {
   "cell_type": "code",
   "execution_count": 1,
   "metadata": {},
   "outputs": [],
   "source": [
    "%matplotlib inline"
   ]
  },
  {
   "cell_type": "markdown",
   "metadata": {},
   "source": [
    "\n",
    "# Spectral Unmixing\n",
    "\n",
    "\n",
    "Suhas Somnath, Rama K. Vasudevan, Stephen Jesse\n",
    "\n",
    "* Institute for Functional Imaging of Materials\n",
    "* Center for Nanophase Materials Sciences\n",
    "\n",
    "Oak Ridge National Laboratory, Oak Ridge TN 37831, USA\n",
    "\n",
    "In this notebook we load some spectral data, and perform basic data analysis, including:\n",
    "========================================================================================\n",
    "* KMeans Clustering\n",
    "* Non-negative Matrix Factorization\n",
    "* Principal Component Analysis\n",
    "\n",
    "Software Prerequisites:\n",
    "=======================\n",
    "* Standard distribution of **Anaconda** (includes numpy, scipy, matplotlib and sci-kit learn)\n",
    "* **pycroscopy** : Though pycroscopy is mainly used here for plotting purposes only, it's true capabilities\n",
    "  are realized through the ability to seamlessly perform these analyses on any imaging dataset (regardless\n",
    "  of origin, size, complexity) and storing the results back into the same dataset among other things\n",
    "\n",
    "\n"
   ]
  },
  {
   "cell_type": "code",
   "execution_count": 2,
   "metadata": {},
   "outputs": [
    {
     "ename": "ModuleNotFoundError",
     "evalue": "No module named 'wget'",
     "output_type": "error",
     "traceback": [
      "\u001b[0;31m---------------------------------------------------------------------------\u001b[0m",
      "\u001b[0;31mModuleNotFoundError\u001b[0m                       Traceback (most recent call last)",
      "\u001b[0;32m<ipython-input-2-0c4d25b550ea>\u001b[0m in \u001b[0;36m<module>\u001b[0;34m\u001b[0m\n\u001b[1;32m     14\u001b[0m \u001b[0;34m\u001b[0m\u001b[0m\n\u001b[1;32m     15\u001b[0m \u001b[0;31m# for downloading files:\u001b[0m\u001b[0;34m\u001b[0m\u001b[0;34m\u001b[0m\u001b[0;34m\u001b[0m\u001b[0m\n\u001b[0;32m---> 16\u001b[0;31m \u001b[0;32mimport\u001b[0m \u001b[0mwget\u001b[0m\u001b[0;34m\u001b[0m\u001b[0;34m\u001b[0m\u001b[0m\n\u001b[0m\u001b[1;32m     17\u001b[0m \u001b[0;32mimport\u001b[0m \u001b[0mos\u001b[0m\u001b[0;34m\u001b[0m\u001b[0;34m\u001b[0m\u001b[0m\n\u001b[1;32m     18\u001b[0m \u001b[0;34m\u001b[0m\u001b[0m\n",
      "\u001b[0;31mModuleNotFoundError\u001b[0m: No module named 'wget'"
     ]
    }
   ],
   "source": [
    "# Import packages\n",
    "\n",
    "# Ensure that this code works on both python 2 and python 3\n",
    "from __future__ import division, print_function, absolute_import, unicode_literals\n",
    "\n",
    "# basic numeric computation:\n",
    "import numpy as np\n",
    "\n",
    "# The package used for creating and manipulating HDF5 files:\n",
    "import h5py\n",
    "\n",
    "# Plotting and visualization:\n",
    "import matplotlib.pyplot as plt\n",
    "\n",
    "# for downloading files:\n",
    "import wget\n",
    "import os\n",
    "\n",
    "# multivariate analysis:\n",
    "from sklearn.cluster import KMeans\n",
    "from sklearn.decomposition import NMF\n",
    "import subprocess\n",
    "import sys\n",
    "\n",
    "def install(package):\n",
    "    subprocess.call([sys.executable, \"-m\", \"pip\", \"install\", package])\n",
    "# Package for downloading online files:\n",
    "# finally import pycroscopy:\n",
    "try:\n",
    "    import pyUSID as usid\n",
    "except ImportError:\n",
    "    print('pyUSID not found.  Will install with pip.')\n",
    "    import pip\n",
    "    install('pyUSID')\n",
    "    import pyUSID as usid\n",
    "try:\n",
    "    import pycroscopy as px\n",
    "except ImportError:\n",
    "    print('pycroscopy not found.  Will install with pip.')\n",
    "    import pip\n",
    "    install('pycroscopy')\n",
    "    import pycroscopy as px\n",
    "from pycroscopy.viz import cluster_utils"
   ]
  },
  {
   "cell_type": "markdown",
   "metadata": {},
   "source": [
    "The Data\n",
    "========\n",
    "\n",
    "In this example, we will work on a **Band Excitation Piezoresponse Force Microscopy (BE-PFM)** imaging dataset\n",
    "acquired from advanced atomic force microscopes. In this dataset, a spectra was collected for each position in a two\n",
    "dimensional grid of spatial locations. Thus, this is a three dimensional dataset that has been flattened to a two\n",
    "dimensional matrix in accordance with the pycroscopy data format.\n",
    "\n",
    "Fortunately, all statistical analysis, machine learning, spectral unmixing algorithms, etc. only accept data that is\n",
    "formatted in the same manner of [position x spectra] in a two dimensional matrix.\n",
    "\n",
    "We will be using an data file available on our GitHub project page by default. You are encouraged\n",
    "to download this document as a Jupyter Notebook (button at the bottom of the page) and use your own data instead.\n",
    "When using your own data, you can skip this cell and provide the path to your data using the variable - data_file_path\n",
    "\n"
   ]
  },
  {
   "cell_type": "code",
   "execution_count": null,
   "metadata": {},
   "outputs": [],
   "source": [
    "data_file_path = 'temp_um.h5'\n",
    "# download the data file from Github:\n",
    "url = 'https://raw.githubusercontent.com/pycroscopy/pycroscopy/master/data/BELine_0004.h5'\n",
    "data_file_path = wget.download(url, data_file_path, bar=None)\n",
    "\n",
    "h5_file = h5py.File(data_file_path, mode='r+')\n",
    "\n",
    "print('Contents of data file:')\n",
    "print('----------------------')\n",
    "usid.hdf_utils.print_tree(h5_file)\n",
    "print('----------------------')\n",
    "\n",
    "h5_meas_grp = h5_file['Measurement_000']\n",
    "\n",
    "# Extracting some basic parameters:\n",
    "num_rows = usid.hdf_utils.get_attr(h5_meas_grp, 'grid_num_rows')\n",
    "num_cols = usid.hdf_utils.get_attr(h5_meas_grp, 'grid_num_cols')\n",
    "\n",
    "# Getting a reference to the main dataset:\n",
    "h5_main = usid.USIDataset(h5_meas_grp['Channel_000/Raw_Data'])\n",
    "usid.hdf_utils.write_simple_attrs(h5_main, {'quantity': 'Deflection', 'units': 'V'})\n",
    "\n",
    "# Extracting the X axis - vector of frequencies\n",
    "h5_spec_vals = usid.hdf_utils.get_auxiliary_datasets(h5_main, 'Spectroscopic_Values')[-1]\n",
    "freq_vec = np.squeeze(h5_spec_vals.value) * 1E-3\n",
    "\n",
    "print('Data currently of shape:', h5_main.shape)\n",
    "\n",
    "x_label = 'Frequency (kHz)'\n",
    "y_label = 'Amplitude (a.u.)'"
   ]
  },
  {
   "cell_type": "markdown",
   "metadata": {},
   "source": [
    "1. Singular Value Decomposition (SVD)\n",
    "=====================================\n",
    "\n",
    "SVD is an eigenvector decomposition that is defined statistically, and therefore typically produces\n",
    "non-physical eigenvectors. Consequently, the interpretation of eigenvectors and abundance maps from\n",
    "SVD requires care and caution in interpretation. Nonetheless, it is a good method for quickly\n",
    "visualizing the major trends in the dataset since the resultant eigenvectors are sorted in descending\n",
    "order of variance or importance. Furthermore, SVD is also very well suited for data cleaning through\n",
    "the reconstruction of the dataset using only the first N (most significant) components.\n",
    "\n",
    "SVD results in three matrices:\n",
    "\n",
    "* V - Eigenvectors sorted by variance in descending order\n",
    "* U - corresponding abundance maps\n",
    "* S - Variance or importance of each of these components\n",
    "\n",
    "Advantage of pycroscopy:\n",
    "------------------------\n",
    "Notice that we are working with a complex valued dataset. Passing the complex values as is to SVD would result in\n",
    "complex valued eigenvectors / endmembers as well as abundance maps. Complex valued abundance maps are not physical.\n",
    "Thus, one would need to restructure the data such that it is real-valued only.\n",
    "\n",
    "One solution is to stack the real value followed by the magnitude of the imaginary component before passing to SVD.\n",
    "After SVD, the real-valued eigenvectors would need to be treated as the concatenation of the real and imaginary\n",
    "components. So, the eigenvectors would need to be restructured to get back the complex valued eigenvectors.\n",
    "\n",
    "**Pycroscopy handles all these data transformations (both for the source dataset and the eigenvectors)\n",
    "automatically.**  In general, pycroscopy handles compound / complex valued datasets everywhere possible\n",
    "\n",
    "Furthermore, while it is not discussed in this example, pycroscopy also writes back the results from SVD back to\n",
    "the same source h5 file including all relevant links to the source dataset and other ancillary datasets\n",
    "\n"
   ]
  },
  {
   "cell_type": "code",
   "execution_count": null,
   "metadata": {},
   "outputs": [],
   "source": [
    "decomposer = px.processing.svd_utils.SVD(h5_main, num_components=100)\n",
    "h5_svd_group = decomposer.compute()\n",
    "\n",
    "h5_u = h5_svd_group['U']\n",
    "h5_v = h5_svd_group['V']\n",
    "h5_s = h5_svd_group['S']\n",
    "\n",
    "# Since the two spatial dimensions (x, y) have been collapsed to one, we need to reshape the abundance maps:\n",
    "abun_maps = np.reshape(h5_u[:, :25], (num_rows, num_cols, -1))\n",
    "\n",
    "usid.plot_utils.plot_map_stack(abun_maps, num_comps=9, title='SVD Abundance Maps', reverse_dims=True,\n",
    "                             color_bar_mode='single', cmap='inferno', title_yoffset=0.95)\n",
    "\n",
    "\n",
    "# Visualize the variance / statistical importance of each component:\n",
    "usid.plot_utils.plot_scree(h5_s, title='Note the exponential drop of variance with number of components')\n",
    "\n",
    "# Visualize the eigenvectors:\n",
    "_ = usid.plot_utils.plot_complex_spectra(h5_v[:9, :], x_label=x_label, y_label=y_label,\n",
    "                                       title='SVD Eigenvectors', evenly_spaced=False)"
   ]
  },
  {
   "cell_type": "markdown",
   "metadata": {},
   "source": [
    "2. KMeans Clustering\n",
    "====================\n",
    "\n",
    "KMeans clustering is a quick and easy method to determine the types of spectral responses present in the\n",
    "data. It is not a decomposition method, but a basic clustering method. The user inputs the number of\n",
    "clusters (sets) to partition the data into. The algorithm proceeds to find the optimal labeling\n",
    "(ie., assignment of each spectra as belonging to the k<sup>th</sup> set) such that the within-cluster\n",
    "sum of squares is minimized.\n",
    "\n",
    "Set the number of clusters below\n",
    "\n"
   ]
  },
  {
   "cell_type": "code",
   "execution_count": null,
   "metadata": {},
   "outputs": [],
   "source": [
    "num_clusters = 4\n",
    "\n",
    "estimator = px.processing.Cluster(h5_main, KMeans(n_clusters=num_clusters))\n",
    "h5_kmeans_grp = estimator.compute(h5_main)\n",
    "h5_kmeans_labels = h5_kmeans_grp['Labels']\n",
    "h5_kmeans_mean_resp = h5_kmeans_grp['Mean_Response']\n",
    "\n",
    "cluster_utils.plot_cluster_h5_group(h5_kmeans_grp)"
   ]
  },
  {
   "cell_type": "markdown",
   "metadata": {},
   "source": [
    "3. Non-negative Matrix Factorization (NMF)\n",
    "===========================================\n",
    "\n",
    "NMF, or non-negative matrix factorization, is a method that is useful towards unmixing of spectral\n",
    "data. It only works on data with positive real values. It operates by approximate determination of\n",
    "factors (matrices) W and H, given a matrix V, as shown below\n",
    "\n",
    "![](https://upload.wikimedia.org/wikipedia/commons/f/f9/NMF.png)\n",
    "\n",
    "\n",
    "Unlike SVD and k-Means that can be applied to complex-valued datasets, NMF only works on non-negative datasets.\n",
    "For illustrative purposes, we will only take the amplitude component of the spectral data\n",
    "\n"
   ]
  },
  {
   "cell_type": "code",
   "execution_count": null,
   "metadata": {},
   "outputs": [],
   "source": [
    "num_comps = 4\n",
    "\n",
    "# get the non-negative portion of the dataset\n",
    "data_mat = np.abs(h5_main)\n",
    "\n",
    "model = NMF(n_components=num_comps, init='random', random_state=0)\n",
    "model.fit(data_mat)\n",
    "\n",
    "fig, axis = plt.subplots(figsize=(5.5, 5))\n",
    "usid.plot_utils.plot_line_family(axis, freq_vec, model.components_, label_prefix='NMF Component #')\n",
    "axis.set_xlabel(x_label, fontsize=12)\n",
    "axis.set_ylabel(y_label, fontsize=12)\n",
    "axis.set_title('NMF Components', fontsize=14)\n",
    "axis.legend(bbox_to_anchor=[1.0, 1.0], fontsize=12)"
   ]
  },
  {
   "cell_type": "code",
   "execution_count": null,
   "metadata": {},
   "outputs": [],
   "source": [
    "# Close and delete the h5_file\n",
    "h5_file.close()\n",
    "os.remove(data_file_path)"
   ]
  }
 ],
 "metadata": {
  "kernelspec": {
   "display_name": "Python 3",
   "language": "python",
   "name": "python3"
  },
  "language_info": {
   "codemirror_mode": {
    "name": "ipython",
    "version": 3
   },
   "file_extension": ".py",
   "mimetype": "text/x-python",
   "name": "python",
   "nbconvert_exporter": "python",
   "pygments_lexer": "ipython3",
   "version": "3.7.4"
  }
 },
 "nbformat": 4,
 "nbformat_minor": 1
}
