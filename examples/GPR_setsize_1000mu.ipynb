{
 "cells": [
  {
   "cell_type": "markdown",
   "metadata": {},
   "source": [
    "# GPR to predict the number of atoms\n"
   ]
  },
  {
   "cell_type": "code",
   "execution_count": 1,
   "metadata": {},
   "outputs": [],
   "source": [
    "import pandas as pd\n",
    "import numpy as np\n",
    "import matplotlib.pyplot as plt\n",
    "from scipy.interpolate import UnivariateSpline\n",
    "from sklearn.model_selection import train_test_split\n",
    "from scipy.signal import savgol_filter\n",
    "from sklearn.metrics import r2_score\n",
    "import sklearn.gaussian_process as gp"
   ]
  },
  {
   "cell_type": "code",
   "execution_count": 2,
   "metadata": {
    "scrolled": false
   },
   "outputs": [],
   "source": [
    "df = pd.read_csv('mu_cn10000.csv')\n"
   ]
  },
  {
   "cell_type": "code",
   "execution_count": 3,
   "metadata": {},
   "outputs": [],
   "source": [
    "def GPR_get_CN(features, labels, percent_test):\n",
    "    # Split the data into training and testing sets\n",
    "    train_features, test_features, train_labels, test_labels = train_test_split(features, labels, test_size=percent_test, random_state = 42)\n",
    "    # Import the model we are using\n",
    "    kernel = gp.kernels.ConstantKernel(1.0, (1e-1, 1e3)) * gp.kernels.RBF(10.0, (1e-3, 1e3))\n",
    "    model = gp.GaussianProcessRegressor(kernel=kernel, n_restarts_optimizer=10, alpha=0.1, normalize_y=True)\n",
    "    gpr = model.fit(train_features, train_labels)\n",
    "    params = model.kernel_.get_params()\n",
    "    pred_labels, std = model.predict(test_features, return_std=True)\n",
    "    MSE = ((pred_labels-test_labels)**2).mean()\n",
    "    RMSE = MSE**(1/2)\n",
    "    print('MSE = ', MSE)\n",
    "    print('RMSE =', RMSE)\n",
    "    rSquare = r2_score(test_labels, pred_labels)\n",
    "    print('R Squared Error:', rSquare)\n",
    "    return (RMSE, rSquare)"
   ]
  },
  {
   "cell_type": "code",
   "execution_count": 15,
   "metadata": {},
   "outputs": [],
   "source": [
    "def xanes_derivatives(mu_df, dx=0.80808080808):\n",
    "    '''\n",
    "    xanes_derivatives calculates and returns the first and second derivative of a series of XANES spectra.\n",
    "    Inputs:\n",
    "        mu_df = Pandas dataframe of averaged XANES spectra absorption values.\n",
    "        dx = distance between uniformly distributed energy values in XANES spectra. Defaulted to value provided in data.\n",
    "    '''\n",
    "    for nums in range(len(mu_df)):\n",
    "        if nums == 0:\n",
    "            pass\n",
    "\n",
    "    dmu1 = np.zeros([len(mu_df), len(mu_df.columns)])\n",
    "    dmu2 = np.zeros([len(mu_df), len(mu_df.columns)])\n",
    "    if len(mu_df.columns) == 1000:\n",
    "        dx =0.1*dx\n",
    "\n",
    "    for i in range(len(mu_df)):\n",
    "        for j in range(len(mu_df.columns)):\n",
    "            if j == len(mu_df.columns)-1:\n",
    "                pass\n",
    "            else:\n",
    "                dmu1[i, j] = (mu_df.iloc[i, j+1] - mu_df.iloc[i, j]) / dx\n",
    "\n",
    "    for i_ in range(len(mu_df)):\n",
    "        for j_ in range(len(mu_df.columns)):\n",
    "            if j_ == len(mu_df.columns)-1:\n",
    "                pass\n",
    "            else:\n",
    "                dmu2[i_, j_] = (dmu1[i_, j_+1] - dmu1[i_, j_]) / dx\n",
    "\n",
    "    return dmu1, dmu2"
   ]
  },
  {
   "cell_type": "code",
   "execution_count": 16,
   "metadata": {},
   "outputs": [],
   "source": [
    "def raw_spectra(df):\n",
    "\n",
    "    features=np.array(df.loc[:,'Mu1':'Mu100'])\n",
    "    \n",
    "    return features"
   ]
  },
  {
   "cell_type": "code",
   "execution_count": 17,
   "metadata": {},
   "outputs": [],
   "source": [
    "def one_demension_get_N_evenly_spaced_elements(arr, numElems):\n",
    "    '''\n",
    "    return nd.array\n",
    "    '''\n",
    "    idx = np.round(np.linspace(0, len(arr) - 1, numElems)).astype(int)\n",
    "    return arr[idx]"
   ]
  },
  {
   "cell_type": "code",
   "execution_count": 18,
   "metadata": {},
   "outputs": [],
   "source": [
    "def ndArray_get_N_evely_spaced_elements(after_smooth, numElems):\n",
    "    ndArray_evenly_spaced=np.array([])\n",
    "    for arr in after_smooth:\n",
    "        a_row_evenly_spaced=one_demension_get_N_evenly_spaced_elements(arr, numElems)\n",
    "        print(a_row_evenly_spaced)\n",
    "        #ndArray_evenly_spaced=np.concatenate((ndArray_evenly_spaced, [a_row_evenly_spaced]),axis=0)\n",
    "        ndArray_evenly_spaced  = np.append(ndArray_evenly_spaced, a_row_evenly_spaced, axis=0)\n",
    "    return ndArray_evenly_spaced.reshape(len(after_smooth),numElems)"
   ]
  },
  {
   "cell_type": "code",
   "execution_count": 25,
   "metadata": {},
   "outputs": [],
   "source": [
    "def setSize_vs_error (size, size_list, df):\n",
    "    spectrum_data = []\n",
    "    dmu1_data = []\n",
    "    dmu2_data = []\n",
    "    dmu_both_data = []\n",
    "    for entry in size_list:\n",
    "        df_sample = df.sample(size, random_state=26)\n",
    "        raw_df_sample = raw_spectra(df_sample)\n",
    "        dmu1, dmu2 =xanes_derivatives(pd.DataFrame(raw_df_sample))\n",
    "        dmu_both= np.concatenate((dmu1,dmu2),axis=1)\n",
    "        print('percent test =', entry)\n",
    "        print('spectrum')\n",
    "        spectrum_data.append(GPR_get_CN(raw_df_sample, np.array(df_sample['CN']), entry))\n",
    "        print('dmu1')\n",
    "        dmu1_data.append(GPR_get_CN(dmu1, np.array(df_sample['CN']), entry))        \n",
    "        print('dmu2')\n",
    "        dmu2_data.append(GPR_get_CN(dmu2, np.array(df_sample['CN']), entry))\n",
    "        print('dmu_both')\n",
    "        dmu_both_data.append(GPR_get_CN(dmu_both, np.array(df_sample['CN']), entry))\n",
    "\n",
    "    return (spectrum_data, dmu1_data, dmu2_data, dmu_both_data)"
   ]
  },
  {
   "cell_type": "code",
   "execution_count": 4,
   "metadata": {},
   "outputs": [],
   "source": [
    "def derivatives(X_smooth, x_axis):\n",
    "    '''\n",
    "    derivatives returns the first, second, and combined first and second derivitive dataframes after smoothing\n",
    "    '''\n",
    "    dmu1 = np.zeros([np.shape(X_smooth)[0], np.shape(X_smooth)[1]-1])\n",
    "    dmu2 = np.zeros([np.shape(X_smooth)[0], np.shape(X_smooth)[1]-2])\n",
    "    dx = x_axis[1] - x_axis[0]\n",
    "    for i in range(np.shape(X_smooth)[0]):\n",
    "        for j in range(np.shape(dmu1)[1]):\n",
    "            dmu1[i, j] = (X_smooth.iloc[i, j+1] - X_smooth.iloc[i, j]) / dx\n",
    "\n",
    "\n",
    "    for i in range(np.shape(X_smooth)[0]):\n",
    "        for j in range(np.shape(dmu2)[1]):\n",
    "            dmu2[i, j] = (dmu1[i, j+1] - dmu1[i, j]) / dx\n",
    "    \n",
    "    df1 = pd.DataFrame(dmu1)\n",
    "    df2 = pd.DataFrame(dmu2)\n",
    "    df3 = pd.concat([df1, df2], axis=1)\n",
    "\n",
    "    return df1, df2, df3"
   ]
  },
  {
   "cell_type": "code",
   "execution_count": 5,
   "metadata": {},
   "outputs": [],
   "source": [
    "X = df.drop(labels=['CN', 'Num Cu', 'Num Te'], axis=1)\n",
    "\n",
    "xs = np.linspace(8970, 9050, 1000)\n",
    "energies = np.linspace(8970, 9050, 100)\n",
    "\n",
    "X_1000 = np.empty([10000,1000])\n",
    "for i in range(X.shape[0]):\n",
    "    s1 = UnivariateSpline(energies, X.loc[i], s=0)\n",
    "    y1 = s1(xs) # generate a line with 1000 data\n",
    "    X_1000[i] = y1\n",
    "X_1000 = pd.DataFrame(X_1000)\n",
    "y = df[['CN']]"
   ]
  },
  {
   "cell_type": "code",
   "execution_count": 6,
   "metadata": {},
   "outputs": [],
   "source": [
    "df1, df2, df3 = derivatives(X_1000, xs)"
   ]
  },
  {
   "cell_type": "code",
   "execution_count": 19,
   "metadata": {},
   "outputs": [
    {
     "name": "stdout",
     "output_type": "stream",
     "text": [
      "0.9\n",
      "MSE =  CN    0.002632\n",
      "dtype: float64\n",
      "RMSE = CN    0.051301\n",
      "dtype: float64\n",
      "R Squared Error: 0.986258289977784\n",
      "\n",
      "0.8\n",
      "MSE =  CN    0.001833\n",
      "dtype: float64\n",
      "RMSE = CN    0.04281\n",
      "dtype: float64\n",
      "R Squared Error: 0.9904835974896185\n",
      "\n",
      "0.7\n",
      "MSE =  CN    0.001481\n",
      "dtype: float64\n",
      "RMSE = CN    0.038482\n",
      "dtype: float64\n",
      "R Squared Error: 0.992328291539023\n",
      "\n",
      "0.6\n",
      "MSE =  CN    0.001263\n",
      "dtype: float64\n",
      "RMSE = CN    0.035543\n",
      "dtype: float64\n",
      "R Squared Error: 0.9934134312719107\n",
      "\n",
      "0.5\n",
      "MSE =  CN    0.001083\n",
      "dtype: float64\n",
      "RMSE = CN    0.032915\n",
      "dtype: float64\n",
      "R Squared Error: 0.9944179387867282\n",
      "\n",
      "0.4\n",
      "MSE =  CN    0.001002\n",
      "dtype: float64\n",
      "RMSE = CN    0.031655\n",
      "dtype: float64\n",
      "R Squared Error: 0.9948287968355571\n",
      "\n",
      "0.3\n",
      "MSE =  CN    0.000924\n",
      "dtype: float64\n",
      "RMSE = CN    0.03039\n",
      "dtype: float64\n",
      "R Squared Error: 0.9952029458440723\n",
      "\n",
      "0.2\n",
      "MSE =  CN    0.000849\n",
      "dtype: float64\n",
      "RMSE = CN    0.029134\n",
      "dtype: float64\n",
      "R Squared Error: 0.9955712749209173\n",
      "\n",
      "0.1\n",
      "MSE =  CN    0.000801\n",
      "dtype: float64\n",
      "RMSE = CN    0.028303\n",
      "dtype: float64\n",
      "R Squared Error: 0.9956957248876399\n",
      "\n"
     ]
    }
   ],
   "source": [
    "size_list = [0.9, 0.8, 0.7, 0.6, 0.5, 0.4, 0.3, 0.2, 0.1]\n",
    "for entry in size_list:\n",
    "    print(entry)\n",
    "    GPR_get_CN(X_1000, y, entry)\n",
    "    print()"
   ]
  },
  {
   "cell_type": "code",
   "execution_count": 21,
   "metadata": {
    "scrolled": true
   },
   "outputs": [
    {
     "name": "stdout",
     "output_type": "stream",
     "text": [
      "0.9\n",
      "MSE =  CN    0.001645\n",
      "dtype: float64\n",
      "RMSE = CN    0.040561\n",
      "dtype: float64\n",
      "R Squared Error: 0.991409640499966\n",
      "\n",
      "0.8\n",
      "MSE =  CN    0.001077\n",
      "dtype: float64\n",
      "RMSE = CN    0.032811\n",
      "dtype: float64\n",
      "R Squared Error: 0.9944098503130887\n",
      "\n",
      "0.7\n",
      "MSE =  CN    0.000907\n",
      "dtype: float64\n",
      "RMSE = CN    0.030122\n",
      "dtype: float64\n",
      "R Squared Error: 0.9952994003711444\n",
      "\n",
      "0.6\n",
      "MSE =  CN    0.000823\n",
      "dtype: float64\n",
      "RMSE = CN    0.028688\n",
      "dtype: float64\n",
      "R Squared Error: 0.9957090940399326\n",
      "\n",
      "0.5\n",
      "MSE =  CN    0.000765\n",
      "dtype: float64\n",
      "RMSE = CN    0.027662\n",
      "dtype: float64\n",
      "R Squared Error: 0.9960575572325517\n",
      "\n",
      "0.4\n",
      "MSE =  CN    0.00074\n",
      "dtype: float64\n",
      "RMSE = CN    0.027212\n",
      "dtype: float64\n",
      "R Squared Error: 0.9961785484577734\n",
      "\n",
      "0.3\n",
      "MSE =  CN    0.000705\n",
      "dtype: float64\n",
      "RMSE = CN    0.026555\n",
      "dtype: float64\n",
      "R Squared Error: 0.9963371844893519\n",
      "\n",
      "0.2\n"
     ]
    },
    {
     "name": "stderr",
     "output_type": "stream",
     "text": [
      "/home/jpothoof/anaconda3/lib/python3.7/site-packages/sklearn/gaussian_process/_gpr.py:494: ConvergenceWarning: lbfgs failed to converge (status=2):\n",
      "ABNORMAL_TERMINATION_IN_LNSRCH.\n",
      "\n",
      "Increase the number of iterations (max_iter) or scale the data as shown in:\n",
      "    https://scikit-learn.org/stable/modules/preprocessing.html\n",
      "  _check_optimize_result(\"lbfgs\", opt_res)\n"
     ]
    },
    {
     "name": "stdout",
     "output_type": "stream",
     "text": [
      "MSE =  CN    0.000691\n",
      "dtype: float64\n",
      "RMSE = CN    0.02628\n",
      "dtype: float64\n",
      "R Squared Error: 0.9963965724440909\n",
      "\n",
      "0.1\n",
      "MSE =  CN    0.000691\n",
      "dtype: float64\n",
      "RMSE = CN    0.02628\n",
      "dtype: float64\n",
      "R Squared Error: 0.996289101039623\n",
      "\n"
     ]
    }
   ],
   "source": [
    "for entry in size_list:\n",
    "    print(entry)\n",
    "    GPR_get_CN(df1, y, entry)\n",
    "    print()"
   ]
  },
  {
   "cell_type": "code",
   "execution_count": 8,
   "metadata": {
    "scrolled": true
   },
   "outputs": [
    {
     "name": "stdout",
     "output_type": "stream",
     "text": [
      "0.9\n",
      "MSE =  CN    0.002327\n",
      "dtype: float64\n",
      "RMSE = CN    0.048237\n",
      "dtype: float64\n",
      "R Squared Error: 0.9878508823917556\n",
      "\n",
      "0.8\n",
      "MSE =  CN    0.001385\n",
      "dtype: float64\n",
      "RMSE = CN    0.037212\n",
      "dtype: float64\n",
      "R Squared Error: 0.9928098010335344\n",
      "\n",
      "0.7\n",
      "MSE =  CN    0.001039\n",
      "dtype: float64\n",
      "RMSE = CN    0.03223\n",
      "dtype: float64\n",
      "R Squared Error: 0.9946184405409206\n",
      "\n",
      "0.6\n",
      "MSE =  CN    0.000856\n",
      "dtype: float64\n",
      "RMSE = CN    0.029252\n",
      "dtype: float64\n",
      "R Squared Error: 0.9955385166011148\n",
      "\n",
      "0.5\n"
     ]
    },
    {
     "name": "stderr",
     "output_type": "stream",
     "text": [
      "/home/jpothoof/anaconda3/lib/python3.7/site-packages/sklearn/gaussian_process/gpr.py:480: ConvergenceWarning: fmin_l_bfgs_b terminated abnormally with the  state: {'grad': array([-4.13479452e+00,  2.14143064e-05]), 'task': b'ABNORMAL_TERMINATION_IN_LNSRCH', 'funcalls': 55, 'nit': 13, 'warnflag': 2}\n",
      "  ConvergenceWarning)\n"
     ]
    },
    {
     "name": "stdout",
     "output_type": "stream",
     "text": [
      "MSE =  CN    0.000763\n",
      "dtype: float64\n",
      "RMSE = CN    0.027631\n",
      "dtype: float64\n",
      "R Squared Error: 0.9960664113182867\n",
      "\n",
      "0.4\n",
      "MSE =  CN    0.000694\n",
      "dtype: float64\n",
      "RMSE = CN    0.026336\n",
      "dtype: float64\n",
      "R Squared Error: 0.9964204805818428\n",
      "\n",
      "0.3\n",
      "MSE =  CN    0.000628\n",
      "dtype: float64\n",
      "RMSE = CN    0.025052\n",
      "dtype: float64\n",
      "R Squared Error: 0.9967400942085917\n",
      "\n",
      "0.2\n",
      "MSE =  CN    0.000602\n",
      "dtype: float64\n",
      "RMSE = CN    0.024533\n",
      "dtype: float64\n",
      "R Squared Error: 0.996859569284186\n",
      "\n",
      "0.1\n",
      "MSE =  CN    0.000578\n",
      "dtype: float64\n",
      "RMSE = CN    0.02405\n",
      "dtype: float64\n",
      "R Squared Error: 0.9968922305826192\n",
      "\n"
     ]
    }
   ],
   "source": [
    "size_list = [0.9, 0.8, 0.7, 0.6, 0.5, 0.4, 0.3, 0.2, 0.1]\n",
    "for entry in size_list:\n",
    "    print(entry)\n",
    "    GPR_get_CN(df2, y, entry)\n",
    "    print()"
   ]
  },
  {
   "cell_type": "code",
   "execution_count": 9,
   "metadata": {
    "scrolled": true
   },
   "outputs": [
    {
     "name": "stdout",
     "output_type": "stream",
     "text": [
      "0.9\n",
      "MSE =  CN    0.001571\n",
      "dtype: float64\n",
      "RMSE = CN    0.039638\n",
      "dtype: float64\n",
      "R Squared Error: 0.9917961136235818\n",
      "\n",
      "0.8\n",
      "MSE =  CN    0.001015\n",
      "dtype: float64\n",
      "RMSE = CN    0.031859\n",
      "dtype: float64\n",
      "R Squared Error: 0.9947295262625819\n",
      "\n",
      "0.7\n",
      "MSE =  CN    0.000839\n",
      "dtype: float64\n",
      "RMSE = CN    0.028974\n",
      "dtype: float64\n",
      "R Squared Error: 0.9956510069466752\n",
      "\n",
      "0.6\n",
      "MSE =  CN    0.000745\n",
      "dtype: float64\n",
      "RMSE = CN    0.027296\n",
      "dtype: float64\n",
      "R Squared Error: 0.9961152219204875\n",
      "\n",
      "0.5\n",
      "MSE =  CN    0.000689\n",
      "dtype: float64\n",
      "RMSE = CN    0.026249\n",
      "dtype: float64\n",
      "R Squared Error: 0.9964501483936371\n",
      "\n",
      "0.4\n",
      "MSE =  CN    0.000656\n",
      "dtype: float64\n",
      "RMSE = CN    0.025621\n",
      "dtype: float64\n",
      "R Squared Error: 0.99661220370367\n",
      "\n",
      "0.3\n",
      "MSE =  CN    0.000619\n",
      "dtype: float64\n",
      "RMSE = CN    0.024887\n",
      "dtype: float64\n",
      "R Squared Error: 0.996783059324858\n",
      "\n",
      "0.2\n",
      "MSE =  CN    0.000604\n",
      "dtype: float64\n",
      "RMSE = CN    0.024569\n",
      "dtype: float64\n",
      "R Squared Error: 0.9968504244447691\n",
      "\n",
      "0.1\n",
      "MSE =  CN    0.000605\n",
      "dtype: float64\n",
      "RMSE = CN    0.024599\n",
      "dtype: float64\n",
      "R Squared Error: 0.9967486349150907\n",
      "\n"
     ]
    }
   ],
   "source": [
    "size_list = [0.9, 0.8, 0.7, 0.6, 0.5, 0.4, 0.3, 0.2, 0.1] \n",
    "for entry in size_list:\n",
    "    print(entry)\n",
    "    GPR_get_CN(df3, y, entry)\n",
    "    print()"
   ]
  },
  {
   "cell_type": "code",
   "execution_count": 16,
   "metadata": {},
   "outputs": [],
   "source": [
    "spectrum_data = [(0.051301, 0.986258289977784), (0.04281, 0.9904835974896185), \n",
    "                 (0.038482, 0.992328291539023), (0.035543, 0.9934134312719107), \n",
    "                 (0.032915, 0.9944179387867282), (0.031655, 0.9948287968355571), \n",
    "                 (0.03039, 0.9952029458440723), (0.029134, 0.9955712749209173),\n",
    "                 (0.028303, 0.9956957248876399)]\n",
    "\n",
    "dmu1_data = [(0.040561, 0.991409640499966), (0.032811, 0.9944098503130887), \n",
    "                 (0.030122, 0.9952994003711444), (0.028688, 0.9957090940399326), \n",
    "                 (0.027662, 0.9960575572325517), (0.027212, 0.9961785484577734), \n",
    "                 (0.026555, 0.9963371844893519), (0.02628, 0.9963965724440909),\n",
    "                 (0.02628, 0.996289101039623)]\n",
    "\n",
    "dmu2_data = [(0.048237, 0.9878508823917556), (0.037212, 0.9928098010335344), \n",
    "                 (0.03223, 0.9946184405409206), (0.029252, 0.9955385166011148), \n",
    "                 (0.027631, 0.9960664113182867), (0.026336, 0.9964204805818428), \n",
    "                 (0.025052, 0.9967400942085917), (0.024533, 0.996859569284186),\n",
    "                 (0.02405, 0.9968922305826192)]\n",
    "\n",
    "dmu_both_data = [(0.039638, 0.9917961136235818),(0.031859, 0.9947295262625819), \n",
    "                 (0.028974, 0.9956510069466752), (0.027296, 0.9961152219204875), \n",
    "                 (0.026249, 0.9964501483936371), (0.025621, 0.99661220370367), \n",
    "                 (0.024887, 0.996783059324858), (0.024569, 0.9968504244447691),\n",
    "                 (0.024599, 0.9967486349150907)]\n"
   ]
  },
  {
   "cell_type": "code",
   "execution_count": 17,
   "metadata": {},
   "outputs": [],
   "source": [
    "spectrum_RMSE = []\n",
    "spectrum_R2 = []\n",
    "for entry in spectrum_data:\n",
    "    spectrum_RMSE.append(entry[0])\n",
    "    spectrum_R2.append(entry[1])\n",
    "    \n",
    "dmu1_RMSE = []\n",
    "dmu1_R2 = []\n",
    "for entry in dmu1_data:\n",
    "    dmu1_RMSE.append(entry[0])\n",
    "    dmu1_R2.append(entry[1])\n",
    "    \n",
    "dmu2_RMSE = []\n",
    "dmu2_R2 = []\n",
    "for entry in dmu2_data:\n",
    "    dmu2_RMSE.append(entry[0])\n",
    "    dmu2_R2.append(entry[1])\n",
    "    \n",
    "dmu_both_RMSE = []\n",
    "dmu_both_R2 = []\n",
    "for entry in dmu_both_data:\n",
    "    dmu_both_RMSE.append(entry[0])\n",
    "    dmu_both_R2.append(entry[1])"
   ]
  },
  {
   "cell_type": "code",
   "execution_count": 18,
   "metadata": {},
   "outputs": [
    {
     "data": {
      "image/png": "[encoded data removed]",
      "text/plain": [
       "<Figure size 864x360 with 2 Axes>"
      ]
     },
     "metadata": {
      "needs_background": "light"
     },
     "output_type": "display_data"
    }
   ],
   "source": [
    "plt.rcParams.update({'font.size': 14})\n",
    "fig, (ax1, ax2) = plt.subplots(1, 2, figsize=[12,5])\n",
    "plt.subplots_adjust(wspace=0.3)\n",
    "ax1.plot(size_list, spectrum_R2, c='blue', lw=2.5, label='Spectrum')\n",
    "ax1.plot(size_list, dmu1_R2, c='red', lw=2.5, label='First Derivative')\n",
    "ax1.plot(size_list, dmu2_R2, c='darkorange', lw=2.5, label='Second Derivative')\n",
    "ax1.plot(size_list, dmu_both_R2, c='green', lw=2.5, label='Both Derivatives')\n",
    "ax1.set_xlabel('Percent Test', fontsize=16)\n",
    "ax1.set_ylabel('$R^2$', fontsize=16)\n",
    "ax2.plot(size_list, spectrum_RMSE, c='blue', lw=2.5)\n",
    "ax2.plot(size_list, dmu1_RMSE, c='red', lw=2.5)\n",
    "ax2.plot(size_list, dmu2_RMSE, c='darkorange', lw=2.5)\n",
    "ax2.plot(size_list, dmu_both_RMSE, c='green', lw=2.5)\n",
    "ax2.set_xlabel('Percent Test', fontsize=16)\n",
    "ax2.set_ylabel('RMSE', fontsize=16)\n",
    "ax1.legend()\n",
    "plt.show()"
   ]
  },
  {
   "cell_type": "code",
   "execution_count": null,
   "metadata": {},
   "outputs": [],
   "source": []
  }
 ],
 "metadata": {
  "kernelspec": {
   "display_name": "Python 3",
   "language": "python",
   "name": "python3"
  },
  "language_info": {
   "codemirror_mode": {
    "name": "ipython",
    "version": 3
   },
   "file_extension": ".py",
   "mimetype": "text/x-python",
   "name": "python",
   "nbconvert_exporter": "python",
   "pygments_lexer": "ipython3",
   "version": "3.7.3"
  }
 },
 "nbformat": 4,
 "nbformat_minor": 4
}
