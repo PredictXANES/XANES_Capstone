{
 "cells": [
  {
   "cell_type": "markdown",
   "metadata": {},
   "source": [
    "# GPR to predict the number of atoms\n"
   ]
  },
  {
   "cell_type": "code",
   "execution_count": 1,
   "metadata": {},
   "outputs": [],
   "source": [
    "import pandas as pd\n",
    "import numpy as np\n",
    "import matplotlib.pyplot as plt\n",
    "from scipy.interpolate import UnivariateSpline\n",
    "from sklearn.model_selection import train_test_split\n",
    "from scipy.signal import savgol_filter\n",
    "from sklearn.metrics import r2_score\n",
    "import sklearn.gaussian_process as gp"
   ]
  },
  {
   "cell_type": "code",
   "execution_count": 58,
   "metadata": {
    "scrolled": false
   },
   "outputs": [],
   "source": [
    "# Original data file - 10,000 averaged samples each with 100 mu energy values\n",
    "df = pd.read_csv('mu_cn1000_energies.csv')\n"
   ]
  },
  {
   "cell_type": "code",
   "execution_count": 59,
   "metadata": {},
   "outputs": [],
   "source": [
    "def GPR_get_CN(features, labels, percent_test):\n",
    "    # Split the data into training and testing sets\n",
    "    train_features, test_features, train_labels, test_labels = train_test_split(features, labels, test_size=percent_test, random_state = 42)\n",
    "    # Import the model we are using\n",
    "    kernel = gp.kernels.ConstantKernel(1.0, (1e-1, 1e3)) * gp.kernels.RBF(10.0, (1e-3, 1e3))\n",
    "    model = gp.GaussianProcessRegressor(kernel=kernel, n_restarts_optimizer=10, alpha=0.1, normalize_y=True)\n",
    "    gpr = model.fit(train_features, train_labels)\n",
    "    params = model.kernel_.get_params()\n",
    "    pred_labels, std = model.predict(test_features, return_std=True)\n",
    "    MSE = ((pred_labels-test_labels)**2).mean()\n",
    "    RMSE = MSE**(1/2)\n",
    "    print('MSE = ', MSE)\n",
    "    print('RMSE =', RMSE)\n",
    "    rSquare = r2_score(test_labels, pred_labels)\n",
    "    print('R Squared Error:', rSquare)\n",
    "    return (RMSE, rSquare)"
   ]
  },
  {
   "cell_type": "code",
   "execution_count": 60,
   "metadata": {},
   "outputs": [],
   "source": [
    "def derivatives_zero_noise(mu_df, dx=0.80808080808):\n",
    "    '''\n",
    "    Calculates and returns the first and second derivative of the spectra - only used when there is zero noise.\n",
    "    '''\n",
    "\n",
    "    dmu1 = np.zeros([len(mu_df), len(mu_df.columns)-1])\n",
    "    dmu2 = np.zeros([len(mu_df), len(mu_df.columns)-2])\n",
    "\n",
    "    if len(mu_df.columns) == 1000:\n",
    "        dx =0.1*dx\n",
    "\n",
    "    for i in range(len(mu_df)):\n",
    "        for j in range(len(mu_df.columns)-1):\n",
    "            dmu1[i, j] = (mu_df.iloc[i, j+1] - mu_df.iloc[i, j]) / dx\n",
    "\n",
    "    for i_ in range(len(mu_df)):\n",
    "        for j_ in range(len(mu_df.columns)-2):\n",
    "            dmu2[i_, j_] = (dmu1[i_, j_+1] - dmu1[i_, j_]) / dx\n",
    "\n",
    "    return dmu1, dmu2"
   ]
  },
  {
   "cell_type": "code",
   "execution_count": 61,
   "metadata": {},
   "outputs": [],
   "source": [
    "def derivatives_noise(features, dx=0.80808080808):\n",
    "    '''\n",
    "    raw_spectra applies noise and smooths the spectra then returns the smoothed spectra 'features', this functions uses \n",
    "    the smoothed spectra to calculate the first derivative, smooth the first derivative, then calculate the second derivative.\n",
    "    It returns the smoothed first derivative and the calculated second derivative.\n",
    "    '''\n",
    "    \n",
    "    dmu1 = np.zeros([len(features), len(features.columns)-1])\n",
    "    dmu2 = np.zeros([len(features), len(features.columns)-2])\n",
    "    \n",
    "    if len(features.columns) == 1000:\n",
    "        dx =0.1*dx\n",
    "\n",
    "    for i in range(len(features)):\n",
    "        for j in range(len(features.columns)-1):\n",
    "            dmu1[i, j] = (features.iloc[i, j+1] - features.iloc[i, j]) / dx\n",
    "    \n",
    "    dmu1 = pd.DataFrame(dmu1)\n",
    "    for index, row in dmu1.iterrows():\n",
    "        dmu1.loc[index, :] = savgol_filter(row, 51,2)\n",
    "    dmu1 = np.asarray(dmu1)\n",
    "\n",
    "    for i_ in range(len(features)):\n",
    "        for j_ in range(len(features.columns)-2):\n",
    "            dmu2[i_, j_] = (dmu1[i_, j_+1] - dmu1[i_, j_]) / dx\n",
    "\n",
    "    return dmu1, dmu2"
   ]
  },
  {
   "cell_type": "code",
   "execution_count": 62,
   "metadata": {},
   "outputs": [],
   "source": [
    "def raw_spectra(df, noise_std):\n",
    "    '''\n",
    "    Applies and smooths noise to averaged spectra.\n",
    "    '''\n",
    "    X = df.drop(labels=['CN', 'Num Cu', 'Num Te'], axis=1)\n",
    "    list = X.columns.tolist()\n",
    "\n",
    "    X.columns = range(X.shape[1])\n",
    "\n",
    "    #I might need to make a random seed here\n",
    "    noise = np.random.normal(0, noise_std, [10000,1000])\n",
    "    X_noise = X + noise\n",
    "    X_noise.columns = list\n",
    "    for index, row in X_noise.iterrows():\n",
    "        X_noise.loc[index] = savgol_filter(row, 101, 3)\n",
    "\n",
    "    for index, row in X_noise.iterrows():\n",
    "        X_noise.loc[index] = savgol_filter(row, 51, 2)  \n",
    "\n",
    "    if noise_std == 0:\n",
    "        features = X\n",
    "    else:\n",
    "        features=X_noise\n",
    "\n",
    "    return features"
   ]
  },
  {
   "cell_type": "code",
   "execution_count": 63,
   "metadata": {},
   "outputs": [],
   "source": [
    "def one_demension_get_N_evenly_spaced_elements(arr, numElems):\n",
    "    '''\n",
    "    return nd.array\n",
    "    '''\n",
    "    idx = np.round(np.linspace(0, len(arr) - 1, numElems)).astype(int)\n",
    "    return arr[idx]"
   ]
  },
  {
   "cell_type": "code",
   "execution_count": 64,
   "metadata": {},
   "outputs": [],
   "source": [
    "def ndArray_get_N_evely_spaced_elements(after_smooth, numElems):\n",
    "    ndArray_evenly_spaced=np.array([])\n",
    "    for arr in after_smooth:\n",
    "        a_row_evenly_spaced=one_demension_get_N_evenly_spaced_elements(arr, numElems)\n",
    "        print(a_row_evenly_spaced)\n",
    "        #ndArray_evenly_spaced=np.concatenate((ndArray_evenly_spaced, [a_row_evenly_spaced]),axis=0)\n",
    "        ndArray_evenly_spaced  = np.append(ndArray_evenly_spaced, a_row_evenly_spaced, axis=0)\n",
    "    return ndArray_evenly_spaced.reshape(len(after_smooth),numElems)"
   ]
  },
  {
   "cell_type": "code",
   "execution_count": 65,
   "metadata": {},
   "outputs": [],
   "source": [
    "def noise_vs_error(test_percent, noise_list, df):\n",
    "    spectrum_data = []\n",
    "    dmu1_data = []\n",
    "    dmu2_data = []\n",
    "    dmu_both_data = []\n",
    "    for entry in noise_list:\n",
    "        raw_df_sample = raw_spectra(df, entry)\n",
    "        if entry == 0:\n",
    "            dmu1, dmu2 =derivatives_zero_noise(pd.DataFrame(raw_df_sample))\n",
    "        else:\n",
    "            dmu1, dmu2 =derivatives_noise(pd.DataFrame(raw_df_sample))\n",
    "            \n",
    "        dmu_both= np.concatenate((dmu1,dmu2),axis=1)\n",
    "        print('noise STD =', entry)\n",
    "        print('spectrum')\n",
    "        spectrum_data.append(GPR_get_CN(raw_df_sample, np.array(df['CN']), test_percent))\n",
    "        print('dmu1')\n",
    "        dmu1_data.append(GPR_get_CN(dmu1, np.array(df['CN']), test_percent))        \n",
    "        print('dmu2')\n",
    "        dmu2_data.append(GPR_get_CN(dmu2, np.array(df['CN']), test_percent))\n",
    "        print('dmu_both')\n",
    "        dmu_both_data.append(GPR_get_CN(dmu_both, np.array(df['CN']), test_percent))\n",
    "\n",
    "    return (spectrum_data, dmu1_data, dmu2_data, dmu_both_data)"
   ]
  },
  {
   "cell_type": "code",
   "execution_count": null,
   "metadata": {},
   "outputs": [
    {
     "name": "stdout",
     "output_type": "stream",
     "text": [
      "noise STD = 0\n",
      "spectrum\n",
      "MSE =  0.0011700571818132768\n",
      "RMSE = 0.03420609860555975\n",
      "R Squared Error: 0.9937946752822078\n",
      "dmu1\n"
     ]
    },
    {
     "name": "stderr",
     "output_type": "stream",
     "text": [
      "/home/jpothoof/anaconda3/lib/python3.7/site-packages/sklearn/gaussian_process/_gpr.py:494: ConvergenceWarning: lbfgs failed to converge (status=2):\n",
      "ABNORMAL_TERMINATION_IN_LNSRCH.\n",
      "\n",
      "Increase the number of iterations (max_iter) or scale the data as shown in:\n",
      "    https://scikit-learn.org/stable/modules/preprocessing.html\n",
      "  _check_optimize_result(\"lbfgs\", opt_res)\n"
     ]
    },
    {
     "name": "stdout",
     "output_type": "stream",
     "text": [
      "MSE =  0.000757344885723116\n",
      "RMSE = 0.027519899813100993\n",
      "R Squared Error: 0.9959834690027815\n",
      "dmu2\n",
      "MSE =  0.0008496870291404726\n",
      "RMSE = 0.02914939157410447\n",
      "R Squared Error: 0.9954937382494916\n",
      "dmu_both\n",
      "MSE =  0.0007145952011374165\n",
      "RMSE = 0.02673191353303045\n",
      "R Squared Error: 0.9962101892678769\n",
      "noise STD = 0.005\n",
      "spectrum\n",
      "MSE =  0.01628877731033744\n",
      "RMSE = 0.12762749433541912\n",
      "R Squared Error: 0.9136134933937101\n",
      "dmu1\n",
      "MSE =  0.02611192026619675\n",
      "RMSE = 0.1615918323003881\n",
      "R Squared Error: 0.8615170721778386\n",
      "dmu2\n",
      "MSE =  0.04753221084138231\n",
      "RMSE = 0.21801883139165368\n",
      "R Squared Error: 0.7479159075215097\n",
      "dmu_both\n",
      "MSE =  0.028583103812292676\n",
      "RMSE = 0.16906538324651998\n",
      "R Squared Error: 0.8484113055716065\n",
      "noise STD = 0.01\n",
      "spectrum\n",
      "MSE =  0.03581499768358561\n",
      "RMSE = 0.18924850774467314\n",
      "R Squared Error: 0.8100574109983193\n",
      "dmu1\n"
     ]
    },
    {
     "name": "stderr",
     "output_type": "stream",
     "text": [
      "/home/jpothoof/anaconda3/lib/python3.7/site-packages/sklearn/gaussian_process/_gpr.py:494: ConvergenceWarning: lbfgs failed to converge (status=2):\n",
      "ABNORMAL_TERMINATION_IN_LNSRCH.\n",
      "\n",
      "Increase the number of iterations (max_iter) or scale the data as shown in:\n",
      "    https://scikit-learn.org/stable/modules/preprocessing.html\n",
      "  _check_optimize_result(\"lbfgs\", opt_res)\n"
     ]
    },
    {
     "name": "stdout",
     "output_type": "stream",
     "text": [
      "MSE =  0.054175314526515465\n",
      "RMSE = 0.23275591190454317\n",
      "R Squared Error: 0.712684624691102\n",
      "dmu2\n",
      "MSE =  0.07481108197530287\n",
      "RMSE = 0.27351614573056354\n",
      "R Squared Error: 0.6032441291230769\n",
      "dmu_both\n",
      "MSE =  0.057466250544887305\n",
      "RMSE = 0.2397211933577991\n",
      "R Squared Error: 0.6952313523751049\n",
      "noise STD = 0.015\n",
      "spectrum\n",
      "MSE =  0.05403287152551695\n",
      "RMSE = 0.23244971827368807\n",
      "R Squared Error: 0.7134400621933982\n",
      "dmu1\n",
      "MSE =  0.07792040857182511\n",
      "RMSE = 0.27914227299322675\n",
      "R Squared Error: 0.5867540109604867\n",
      "dmu2\n",
      "MSE =  0.09355782177719009\n",
      "RMSE = 0.30587223113121936\n",
      "R Squared Error: 0.5038219729423083\n",
      "dmu_both\n",
      "MSE =  0.08099365259151799\n",
      "RMSE = 0.28459383793666015\n",
      "R Squared Error: 0.5704552544760788\n",
      "noise STD = 0.02\n",
      "spectrum\n",
      "MSE =  0.07213866822592614\n",
      "RMSE = 0.26858642598971033\n",
      "R Squared Error: 0.6174171074637385\n",
      "dmu1\n",
      "MSE =  0.09429202761177428\n",
      "RMSE = 0.3070700695472847\n",
      "R Squared Error: 0.49992815844836025\n",
      "dmu2\n",
      "MSE =  0.10679034300383178\n",
      "RMSE = 0.3267879174691619\n",
      "R Squared Error: 0.4336441283696715\n",
      "dmu_both\n",
      "MSE =  0.09650002345585391\n",
      "RMSE = 0.3106445290937117\n",
      "R Squared Error: 0.48821819127665644\n",
      "noise STD = 0.025\n",
      "spectrum\n",
      "MSE =  0.08507882625419073\n",
      "RMSE = 0.2916827493256856\n",
      "R Squared Error: 0.5487897927367035\n",
      "dmu1\n",
      "MSE =  0.10288026078725156\n",
      "RMSE = 0.3207495296758073\n",
      "R Squared Error: 0.4543810036303688\n",
      "dmu2\n",
      "MSE =  0.11250172928171993\n",
      "RMSE = 0.33541277447604756\n",
      "R Squared Error: 0.4033541502438893\n",
      "dmu_both\n",
      "MSE =  0.10435817080121536\n",
      "RMSE = 0.3230451528830225\n",
      "R Squared Error: 0.4465430007678851\n",
      "noise STD = 0.03\n",
      "spectrum\n",
      "MSE =  0.09362726479175303\n",
      "RMSE = 0.30598572645101113\n",
      "R Squared Error: 0.5034536862795338\n",
      "dmu1\n",
      "MSE =  0.11243383437863161\n",
      "RMSE = 0.33531154823332826\n",
      "R Squared Error: 0.4037142265947675\n",
      "dmu2\n"
     ]
    },
    {
     "name": "stderr",
     "output_type": "stream",
     "text": [
      "/home/jpothoof/anaconda3/lib/python3.7/site-packages/sklearn/gaussian_process/_gpr.py:494: ConvergenceWarning: lbfgs failed to converge (status=2):\n",
      "ABNORMAL_TERMINATION_IN_LNSRCH.\n",
      "\n",
      "Increase the number of iterations (max_iter) or scale the data as shown in:\n",
      "    https://scikit-learn.org/stable/modules/preprocessing.html\n",
      "  _check_optimize_result(\"lbfgs\", opt_res)\n"
     ]
    },
    {
     "name": "stdout",
     "output_type": "stream",
     "text": [
      "MSE =  0.12064625806898262\n",
      "RMSE = 0.34734170217378535\n",
      "R Squared Error: 0.36016015375899224\n",
      "dmu_both\n",
      "MSE =  0.11277517508664348\n",
      "RMSE = 0.3358201528893754\n",
      "R Squared Error: 0.40190394760538317\n",
      "noise STD = 0.035\n",
      "spectrum\n"
     ]
    }
   ],
   "source": [
    "size = 10000\n",
    "test_percent = 0.5\n",
    "noise_list = [0, 0.005, 0.01, 0.015, 0.02, 0.025, 0.03, 0.035, 0.04, 0.045, 0.05]\n",
    "noise_vs_error(size, test_percent, noise_list, df)"
   ]
  },
  {
   "cell_type": "code",
   "execution_count": 1,
   "metadata": {},
   "outputs": [],
   "source": [
    "#This is hard coded, but run the cell below for it to automatically obtain the data.\n",
    "\n",
    "spectrum_data = [(0.03420609860555975, 0.9937946752822078), (0.12762749433541912, 0.9136134933937101), \n",
    "                 (0.18924850774467314, 0.8100574109983193), (0.23244971827368807, 0.7134400621933982), \n",
    "                 (0.26858642598971033, 0.6174171074637385), (0.2916827493256856, 0.5487897927367035),\n",
    "                 (0.30598572645101113, 0.5034536862795338)]\n",
    "\n",
    "dmu1_data =     [(0.027519899813100993, 0.9959834690027815), (0.1615918323003881, 0.8615170721778386), \n",
    "                 (0.23275591190454317, 0.712684624691102), (0.27914227299322675, 0.5867540109604867), \n",
    "                 (0.3070700695472847, 0.49992815844836025), (0.3207495296758073, 0.4543810036303688),\n",
    "                 (0.33531154823332826, 0.4037142265947675)]\n",
    "\n",
    "dmu2_data =     [(0.02914939157410447, 0.9954937382494916), (0.21801883139165368, 0.7479159075215097), \n",
    "                 (0.27351614573056354, 0.6032441291230769), (0.30587223113121936, 0.5038219729423083), \n",
    "                 (0.3267879174691619, 0.4336441283696715), (0.33541277447604756, 0.4033541502438893),\n",
    "                 (0.34734170217378535, 0.36016015375899224)]\n",
    "\n",
    "dmu_both_data = [(0.02673191353303045, 0.9962101892678769), (0.16906538324651998, 0.8484113055716065), \n",
    "                 (0.2397211933577991, 0.6952313523751049), (0.28459383793666015, 0.5704552544760788), \n",
    "                 (0.3106445290937117, 0.48821819127665644), (0.3230451528830225, 0.4465430007678851),\n",
    "                 (0.3358201528893754, 0.40190394760538317)]"
   ]
  },
  {
   "cell_type": "code",
   "execution_count": 66,
   "metadata": {},
   "outputs": [
    {
     "name": "stdout",
     "output_type": "stream",
     "text": [
      "noise STD = 0\n",
      "spectrum\n",
      "MSE =  0.001002029289426162\n",
      "RMSE = 0.031654846223385165\n",
      "R Squared Error: 0.994828796992925\n",
      "dmu1\n",
      "MSE =  0.0007404864648556823\n",
      "RMSE = 0.027211880950343773\n",
      "R Squared Error: 0.9961785489963543\n",
      "dmu2\n",
      "MSE =  0.0006936076568458895\n",
      "RMSE = 0.0263364321206554\n",
      "R Squared Error: 0.9964204778855659\n",
      "dmu_both\n",
      "MSE =  0.000657049221176188\n",
      "RMSE = 0.025632971368458008\n",
      "R Squared Error: 0.9966091461155907\n",
      "noise STD = 0.005\n",
      "spectrum\n",
      "MSE =  0.005205756533674697\n",
      "RMSE = 0.07215092884831557\n",
      "R Squared Error: 0.9731344940461218\n",
      "dmu1\n",
      "MSE =  0.006401644501267528\n",
      "RMSE = 0.08001027747275676\n",
      "R Squared Error: 0.9669628386669838\n",
      "dmu2\n",
      "MSE =  0.00985451766445911\n",
      "RMSE = 0.09926992326207928\n",
      "R Squared Error: 0.9491434911958433\n",
      "dmu_both\n",
      "MSE =  0.006553660872884368\n",
      "RMSE = 0.08095468407006705\n",
      "R Squared Error: 0.9661783231579812\n",
      "noise STD = 0.01\n",
      "spectrum\n",
      "MSE =  0.009117951683306914\n",
      "RMSE = 0.09548796617012488\n",
      "R Squared Error: 0.9529447096400913\n",
      "dmu1\n",
      "MSE =  0.012794792960424618\n",
      "RMSE = 0.11311407056783263\n",
      "R Squared Error: 0.9339695231166941\n",
      "dmu2\n",
      "MSE =  0.019003166438907492\n",
      "RMSE = 0.1378519729235222\n",
      "R Squared Error: 0.9019297814247513\n",
      "dmu_both\n",
      "MSE =  0.013019471475638185\n",
      "RMSE = 0.1141028986294309\n",
      "R Squared Error: 0.9328100178749233\n",
      "noise STD = 0.015\n",
      "spectrum\n",
      "MSE =  0.013602107307031416\n",
      "RMSE = 0.11662807255130052\n",
      "R Squared Error: 0.9298031914326985\n",
      "dmu1\n",
      "MSE =  0.021095646421935746\n",
      "RMSE = 0.14524340405655517\n",
      "R Squared Error: 0.8911310563828151\n",
      "dmu2\n"
     ]
    },
    {
     "name": "stderr",
     "output_type": "stream",
     "text": [
      "/home/jpothoof/anaconda3/lib/python3.7/site-packages/sklearn/gaussian_process/_gpr.py:494: ConvergenceWarning: lbfgs failed to converge (status=2):\n",
      "ABNORMAL_TERMINATION_IN_LNSRCH.\n",
      "\n",
      "Increase the number of iterations (max_iter) or scale the data as shown in:\n",
      "    https://scikit-learn.org/stable/modules/preprocessing.html\n",
      "  _check_optimize_result(\"lbfgs\", opt_res)\n"
     ]
    },
    {
     "name": "stdout",
     "output_type": "stream",
     "text": [
      "MSE =  0.03025715098896907\n",
      "RMSE = 0.1739458277423436\n",
      "R Squared Error: 0.8438510013322238\n",
      "dmu_both\n",
      "MSE =  0.02143546824600301\n",
      "RMSE = 0.14640856616333284\n",
      "R Squared Error: 0.8893773275676697\n",
      "noise STD = 0.02\n",
      "spectrum\n",
      "MSE =  0.020157981050227036\n",
      "RMSE = 0.14197880493308512\n",
      "R Squared Error: 0.8959700945636122\n",
      "dmu1\n",
      "MSE =  0.030347157935154016\n",
      "RMSE = 0.1742043568202415\n",
      "R Squared Error: 0.8433864997496046\n",
      "dmu2\n"
     ]
    },
    {
     "name": "stderr",
     "output_type": "stream",
     "text": [
      "/home/jpothoof/anaconda3/lib/python3.7/site-packages/sklearn/gaussian_process/_gpr.py:494: ConvergenceWarning: lbfgs failed to converge (status=2):\n",
      "ABNORMAL_TERMINATION_IN_LNSRCH.\n",
      "\n",
      "Increase the number of iterations (max_iter) or scale the data as shown in:\n",
      "    https://scikit-learn.org/stable/modules/preprocessing.html\n",
      "  _check_optimize_result(\"lbfgs\", opt_res)\n"
     ]
    },
    {
     "name": "stdout",
     "output_type": "stream",
     "text": [
      "MSE =  0.04147702506506941\n",
      "RMSE = 0.20365909030796883\n",
      "R Squared Error: 0.785948256199335\n",
      "dmu_both\n",
      "MSE =  0.03084318843346685\n",
      "RMSE = 0.17562228911350306\n",
      "R Squared Error: 0.8408266200818703\n"
     ]
    }
   ],
   "source": [
    "noise_list = [0, 0.005, 0.01, 0.015, 0.02]\n",
    "spectrum_data, dmu1_data, dmu2_data, dmu_both_data = noise_vs_error(test_percent=0.40, noise_list=noise_list, df=df)"
   ]
  },
  {
   "cell_type": "code",
   "execution_count": 7,
   "metadata": {},
   "outputs": [],
   "source": [
    "# This noise list is only shorter because the kernal failed before making it all of the way through.. it should be\n",
    "# the same as above - used for plotting\n",
    "noise_list = [0, 0.005, 0.01, 0.015, 0.02, 0.025, 0.03]"
   ]
  },
  {
   "cell_type": "code",
   "execution_count": 8,
   "metadata": {},
   "outputs": [],
   "source": [
    "spectrum_RMSE = []\n",
    "spectrum_R2 = []\n",
    "for entry in spectrum_data:\n",
    "    spectrum_RMSE.append(entry[0])\n",
    "    spectrum_R2.append(entry[1])\n",
    "dmu1_RMSE = []\n",
    "dmu1_R2 = []\n",
    "for entry in dmu1_data:\n",
    "    dmu1_RMSE.append(entry[0])\n",
    "    dmu1_R2.append(entry[1])\n",
    "dmu2_RMSE = []\n",
    "dmu2_R2 = []\n",
    "for entry in dmu2_data:\n",
    "    dmu2_RMSE.append(entry[0])\n",
    "    dmu2_R2.append(entry[1])\n",
    "dmu_both_RMSE = []\n",
    "dmu_both_R2 = []\n",
    "for entry in dmu_both_data:\n",
    "    dmu_both_RMSE.append(entry[0])\n",
    "    dmu_both_R2.append(entry[1])"
   ]
  },
  {
   "cell_type": "code",
   "execution_count": 9,
   "metadata": {},
   "outputs": [
    {
     "data": {
      "image/png": "[encoded data removed]",
      "text/plain": [
       "<Figure size 864x360 with 2 Axes>"
      ]
     },
     "metadata": {
      "needs_background": "light"
     },
     "output_type": "display_data"
    }
   ],
   "source": [
    "plt.rcParams.update({'font.size': 14})\n",
    "fig, (ax1, ax2) = plt.subplots(1, 2, figsize=[12,5])\n",
    "plt.subplots_adjust(wspace=0.3)\n",
    "ax1.plot(noise_list, spectrum_R2, c='blue', lw=2.5, label='Spectrum')\n",
    "ax1.plot(noise_list, dmu1_R2, c='red', lw=2.5, label='First Derivative')\n",
    "ax1.plot(noise_list, dmu2_R2, c='darkorange', lw=2.5, label='Second Derivative')\n",
    "ax1.plot(noise_list, dmu_both_R2, c='green', lw=2.5, label='Both Derivatives')\n",
    "ax1.set_xlabel('Noise STD', fontsize=16)\n",
    "ax1.set_ylabel('$R^2$', fontsize=16)\n",
    "ax2.plot(noise_list, spectrum_RMSE, c='blue', lw=2.5)\n",
    "ax2.plot(noise_list, dmu1_RMSE, c='red', lw=2.5)\n",
    "ax2.plot(noise_list, dmu2_RMSE, c='darkorange', lw=2.5)\n",
    "ax2.plot(noise_list, dmu_both_RMSE, c='green', lw=2.5)\n",
    "ax2.set_xlabel('Noise STD', fontsize=16)\n",
    "ax2.set_ylabel('RMSE', fontsize=16)\n",
    "ax1.legend()\n",
    "plt.show()"
   ]
  },
  {
   "cell_type": "code",
   "execution_count": null,
   "metadata": {},
   "outputs": [],
   "source": []
  }
 ],
 "metadata": {
  "kernelspec": {
   "display_name": "Python 3",
   "language": "python",
   "name": "python3"
  },
  "language_info": {
   "codemirror_mode": {
    "name": "ipython",
    "version": 3
   },
   "file_extension": ".py",
   "mimetype": "text/x-python",
   "name": "python",
   "nbconvert_exporter": "python",
   "pygments_lexer": "ipython3",
   "version": "3.7.5"
  }
 },
 "nbformat": 4,
 "nbformat_minor": 4
}
