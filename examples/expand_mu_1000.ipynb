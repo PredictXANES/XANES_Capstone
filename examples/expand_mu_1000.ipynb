{
 "cells": [
  {
   "cell_type": "code",
   "execution_count": 8,
   "metadata": {},
   "outputs": [],
   "source": [
    "import numpy as np\n",
    "import pandas as pd\n",
    "from scipy.interpolate import UnivariateSpline"
   ]
  },
  {
   "cell_type": "markdown",
   "metadata": {},
   "source": [
    "#### This notebook takes the 100 mu energy values from the averaged 10,000 samples file and expands it using a Univariate Spline (smoothing parameter = 0) to 1000 mu energy values."
   ]
  },
  {
   "cell_type": "code",
   "execution_count": 9,
   "metadata": {},
   "outputs": [],
   "source": [
    "# Load 10,000 averaged samples file and select just the 100 mu energy values.\n",
    "\n",
    "mu_cn = pd.read_csv('mu_cn10000.csv')\n",
    "mu100 = mu_cn.drop(['CN', 'Num Cu', 'Num Te'], axis=1)"
   ]
  },
  {
   "cell_type": "code",
   "execution_count": 11,
   "metadata": {},
   "outputs": [],
   "source": [
    "# Use UnivariateSpline to expand the 100 to 1000 mu energy values - should increase the resolution of peaks for\n",
    "# machine learning training.\n",
    "\n",
    "xs = np.linspace(8970, 9050, 1000)\n",
    "energies = np.linspace(8970, 9050, 100)\n",
    "\n",
    "mu1000 = np.empty([10000,1000])\n",
    "for i in range(mu100.shape[0]):\n",
    "    s1 = UnivariateSpline(energies, mu100.loc[i], s=0)\n",
    "    y1 = s1(xs) # generate a line with 1000 data\n",
    "    mu1000[i] = y1\n",
    "mu1000 = pd.DataFrame(mu1000)"
   ]
  },
  {
   "cell_type": "code",
   "execution_count": 17,
   "metadata": {},
   "outputs": [],
   "source": [
    "# Select the coordination number and number of copper/tellurium associated with the 10,000 samples\n",
    "\n",
    "cn_cu_te = mu_cn.loc[:, ['CN', 'Num Cu', 'Num Te']]"
   ]
  },
  {
   "cell_type": "code",
   "execution_count": 22,
   "metadata": {},
   "outputs": [],
   "source": [
    "# Combine the CN/Cu/Te with the 1000 mu energy values for complete DataFrame.\n",
    "\n",
    "mu_cn1000_energies = pd.concat([cn_cu_te, mu1000], axis=1)"
   ]
  },
  {
   "cell_type": "code",
   "execution_count": 24,
   "metadata": {},
   "outputs": [],
   "source": [
    "# Saves DataFrame to a csv file in your current directory... only need to run once.\n",
    "\n",
    "mu_cn1000_energies.to_csv('mu_cn1000_energies')"
   ]
  },
  {
   "cell_type": "code",
   "execution_count": null,
   "metadata": {},
   "outputs": [],
   "source": []
  }
 ],
 "metadata": {
  "kernelspec": {
   "display_name": "Python 3",
   "language": "python",
   "name": "python3"
  },
  "language_info": {
   "codemirror_mode": {
    "name": "ipython",
    "version": 3
   },
   "file_extension": ".py",
   "mimetype": "text/x-python",
   "name": "python",
   "nbconvert_exporter": "python",
   "pygments_lexer": "ipython3",
   "version": "3.7.5"
  }
 },
 "nbformat": 4,
 "nbformat_minor": 4
}
