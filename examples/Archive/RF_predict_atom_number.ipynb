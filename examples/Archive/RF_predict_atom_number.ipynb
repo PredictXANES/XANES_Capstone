{
 "cells": [
  {
   "cell_type": "markdown",
   "metadata": {},
   "source": [
    "# GPR to predict the number of atoms\n",
    "## input spectra, for predict Cu,Te seperately and predict them both \n",
    "## input 1st and/or 2nd derivative data to predict Cu,Te together\n",
    "### summary: for individual predict, spectra better predict Te, derivate better predict Cu; If predict Cu and Te together, using first derivative data will give the best result. "
   ]
  },
  {
   "cell_type": "code",
   "execution_count": 1,
   "metadata": {},
   "outputs": [],
   "source": [
    "import pandas as pd\n",
    "import numpy as np\n",
    "import matplotlib.pyplot as plt\n",
    "\n",
    "from sklearn.externals.six import StringIO\n",
    "from sklearn.metrics import r2_score\n",
    "from sklearn.model_selection import train_test_split"
   ]
  },
  {
   "cell_type": "code",
   "execution_count": 4,
   "metadata": {
    "scrolled": true
   },
   "outputs": [
    {
     "data": {
      "text/html": [
       "<div>\n",
       "<style scoped>\n",
       "    .dataframe tbody tr th:only-of-type {\n",
       "        vertical-align: middle;\n",
       "    }\n",
       "\n",
       "    .dataframe tbody tr th {\n",
       "        vertical-align: top;\n",
       "    }\n",
       "\n",
       "    .dataframe thead th {\n",
       "        text-align: right;\n",
       "    }\n",
       "</style>\n",
       "<table border=\"1\" class=\"dataframe\">\n",
       "  <thead>\n",
       "    <tr style=\"text-align: right;\">\n",
       "      <th></th>\n",
       "      <th>CN</th>\n",
       "      <th>Num Cu</th>\n",
       "      <th>Num Te</th>\n",
       "      <th>Mu1</th>\n",
       "      <th>Mu2</th>\n",
       "      <th>Mu3</th>\n",
       "      <th>Mu4</th>\n",
       "      <th>Mu5</th>\n",
       "      <th>Mu6</th>\n",
       "      <th>Mu7</th>\n",
       "      <th>...</th>\n",
       "      <th>Mu91</th>\n",
       "      <th>Mu92</th>\n",
       "      <th>Mu93</th>\n",
       "      <th>Mu94</th>\n",
       "      <th>Mu95</th>\n",
       "      <th>Mu96</th>\n",
       "      <th>Mu97</th>\n",
       "      <th>Mu98</th>\n",
       "      <th>Mu99</th>\n",
       "      <th>Mu100</th>\n",
       "    </tr>\n",
       "  </thead>\n",
       "  <tbody>\n",
       "    <tr>\n",
       "      <th>0</th>\n",
       "      <td>9.920706</td>\n",
       "      <td>5.641016</td>\n",
       "      <td>4.279690</td>\n",
       "      <td>0.030303</td>\n",
       "      <td>0.032757</td>\n",
       "      <td>0.035112</td>\n",
       "      <td>0.037475</td>\n",
       "      <td>0.039958</td>\n",
       "      <td>0.042668</td>\n",
       "      <td>0.045714</td>\n",
       "      <td>...</td>\n",
       "      <td>0.994119</td>\n",
       "      <td>0.995957</td>\n",
       "      <td>0.998090</td>\n",
       "      <td>1.000540</td>\n",
       "      <td>1.003327</td>\n",
       "      <td>1.006472</td>\n",
       "      <td>1.009996</td>\n",
       "      <td>1.013918</td>\n",
       "      <td>1.018260</td>\n",
       "      <td>1.023043</td>\n",
       "    </tr>\n",
       "    <tr>\n",
       "      <th>1</th>\n",
       "      <td>9.038954</td>\n",
       "      <td>4.685766</td>\n",
       "      <td>4.353189</td>\n",
       "      <td>0.031529</td>\n",
       "      <td>0.034154</td>\n",
       "      <td>0.036671</td>\n",
       "      <td>0.039203</td>\n",
       "      <td>0.041875</td>\n",
       "      <td>0.044810</td>\n",
       "      <td>0.048132</td>\n",
       "      <td>...</td>\n",
       "      <td>0.999269</td>\n",
       "      <td>1.000942</td>\n",
       "      <td>1.002782</td>\n",
       "      <td>1.004773</td>\n",
       "      <td>1.006900</td>\n",
       "      <td>1.009148</td>\n",
       "      <td>1.011502</td>\n",
       "      <td>1.013947</td>\n",
       "      <td>1.016467</td>\n",
       "      <td>1.019047</td>\n",
       "    </tr>\n",
       "    <tr>\n",
       "      <th>2</th>\n",
       "      <td>9.725820</td>\n",
       "      <td>5.599930</td>\n",
       "      <td>4.125890</td>\n",
       "      <td>0.030576</td>\n",
       "      <td>0.033095</td>\n",
       "      <td>0.035505</td>\n",
       "      <td>0.037921</td>\n",
       "      <td>0.040456</td>\n",
       "      <td>0.043223</td>\n",
       "      <td>0.046335</td>\n",
       "      <td>...</td>\n",
       "      <td>0.994823</td>\n",
       "      <td>0.997591</td>\n",
       "      <td>1.000637</td>\n",
       "      <td>1.003974</td>\n",
       "      <td>1.007616</td>\n",
       "      <td>1.011577</td>\n",
       "      <td>1.015872</td>\n",
       "      <td>1.020514</td>\n",
       "      <td>1.025518</td>\n",
       "      <td>1.030897</td>\n",
       "    </tr>\n",
       "    <tr>\n",
       "      <th>3</th>\n",
       "      <td>9.374672</td>\n",
       "      <td>5.139779</td>\n",
       "      <td>4.234893</td>\n",
       "      <td>0.030891</td>\n",
       "      <td>0.033427</td>\n",
       "      <td>0.035861</td>\n",
       "      <td>0.038308</td>\n",
       "      <td>0.040883</td>\n",
       "      <td>0.043703</td>\n",
       "      <td>0.046883</td>\n",
       "      <td>...</td>\n",
       "      <td>0.999852</td>\n",
       "      <td>1.002114</td>\n",
       "      <td>1.004576</td>\n",
       "      <td>1.007246</td>\n",
       "      <td>1.010132</td>\n",
       "      <td>1.013241</td>\n",
       "      <td>1.016581</td>\n",
       "      <td>1.020158</td>\n",
       "      <td>1.023981</td>\n",
       "      <td>1.028057</td>\n",
       "    </tr>\n",
       "    <tr>\n",
       "      <th>4</th>\n",
       "      <td>9.599938</td>\n",
       "      <td>5.271755</td>\n",
       "      <td>4.328182</td>\n",
       "      <td>0.031077</td>\n",
       "      <td>0.033681</td>\n",
       "      <td>0.036170</td>\n",
       "      <td>0.038665</td>\n",
       "      <td>0.041287</td>\n",
       "      <td>0.044156</td>\n",
       "      <td>0.047393</td>\n",
       "      <td>...</td>\n",
       "      <td>0.998475</td>\n",
       "      <td>1.000035</td>\n",
       "      <td>1.001807</td>\n",
       "      <td>1.003776</td>\n",
       "      <td>1.005926</td>\n",
       "      <td>1.008242</td>\n",
       "      <td>1.010709</td>\n",
       "      <td>1.013311</td>\n",
       "      <td>1.016034</td>\n",
       "      <td>1.018861</td>\n",
       "    </tr>\n",
       "    <tr>\n",
       "      <th>...</th>\n",
       "      <td>...</td>\n",
       "      <td>...</td>\n",
       "      <td>...</td>\n",
       "      <td>...</td>\n",
       "      <td>...</td>\n",
       "      <td>...</td>\n",
       "      <td>...</td>\n",
       "      <td>...</td>\n",
       "      <td>...</td>\n",
       "      <td>...</td>\n",
       "      <td>...</td>\n",
       "      <td>...</td>\n",
       "      <td>...</td>\n",
       "      <td>...</td>\n",
       "      <td>...</td>\n",
       "      <td>...</td>\n",
       "      <td>...</td>\n",
       "      <td>...</td>\n",
       "      <td>...</td>\n",
       "      <td>...</td>\n",
       "      <td>...</td>\n",
       "    </tr>\n",
       "    <tr>\n",
       "      <th>9995</th>\n",
       "      <td>9.360022</td>\n",
       "      <td>5.084340</td>\n",
       "      <td>4.275681</td>\n",
       "      <td>0.030950</td>\n",
       "      <td>0.033483</td>\n",
       "      <td>0.035915</td>\n",
       "      <td>0.038363</td>\n",
       "      <td>0.040943</td>\n",
       "      <td>0.043770</td>\n",
       "      <td>0.046960</td>\n",
       "      <td>...</td>\n",
       "      <td>1.001789</td>\n",
       "      <td>1.003715</td>\n",
       "      <td>1.005820</td>\n",
       "      <td>1.008111</td>\n",
       "      <td>1.010590</td>\n",
       "      <td>1.013262</td>\n",
       "      <td>1.016131</td>\n",
       "      <td>1.019201</td>\n",
       "      <td>1.022478</td>\n",
       "      <td>1.025964</td>\n",
       "    </tr>\n",
       "    <tr>\n",
       "      <th>9996</th>\n",
       "      <td>9.758551</td>\n",
       "      <td>5.435938</td>\n",
       "      <td>4.322612</td>\n",
       "      <td>0.030927</td>\n",
       "      <td>0.033519</td>\n",
       "      <td>0.035994</td>\n",
       "      <td>0.038473</td>\n",
       "      <td>0.041074</td>\n",
       "      <td>0.043918</td>\n",
       "      <td>0.047124</td>\n",
       "      <td>...</td>\n",
       "      <td>1.000563</td>\n",
       "      <td>1.002288</td>\n",
       "      <td>1.004220</td>\n",
       "      <td>1.006344</td>\n",
       "      <td>1.008645</td>\n",
       "      <td>1.011110</td>\n",
       "      <td>1.013723</td>\n",
       "      <td>1.016471</td>\n",
       "      <td>1.019338</td>\n",
       "      <td>1.022312</td>\n",
       "    </tr>\n",
       "    <tr>\n",
       "      <th>9997</th>\n",
       "      <td>10.181228</td>\n",
       "      <td>6.181228</td>\n",
       "      <td>4.000000</td>\n",
       "      <td>0.030587</td>\n",
       "      <td>0.033143</td>\n",
       "      <td>0.035582</td>\n",
       "      <td>0.038020</td>\n",
       "      <td>0.040572</td>\n",
       "      <td>0.043356</td>\n",
       "      <td>0.046485</td>\n",
       "      <td>...</td>\n",
       "      <td>0.992527</td>\n",
       "      <td>0.996200</td>\n",
       "      <td>1.000256</td>\n",
       "      <td>1.004671</td>\n",
       "      <td>1.009423</td>\n",
       "      <td>1.014490</td>\n",
       "      <td>1.019850</td>\n",
       "      <td>1.025479</td>\n",
       "      <td>1.031355</td>\n",
       "      <td>1.037456</td>\n",
       "    </tr>\n",
       "    <tr>\n",
       "      <th>9998</th>\n",
       "      <td>10.156260</td>\n",
       "      <td>6.020380</td>\n",
       "      <td>4.135880</td>\n",
       "      <td>0.030699</td>\n",
       "      <td>0.033247</td>\n",
       "      <td>0.035682</td>\n",
       "      <td>0.038120</td>\n",
       "      <td>0.040676</td>\n",
       "      <td>0.043465</td>\n",
       "      <td>0.046604</td>\n",
       "      <td>...</td>\n",
       "      <td>0.994741</td>\n",
       "      <td>0.997739</td>\n",
       "      <td>1.001036</td>\n",
       "      <td>1.004613</td>\n",
       "      <td>1.008451</td>\n",
       "      <td>1.012532</td>\n",
       "      <td>1.016838</td>\n",
       "      <td>1.021350</td>\n",
       "      <td>1.026048</td>\n",
       "      <td>1.030916</td>\n",
       "    </tr>\n",
       "    <tr>\n",
       "      <th>9999</th>\n",
       "      <td>9.684431</td>\n",
       "      <td>5.368862</td>\n",
       "      <td>4.315569</td>\n",
       "      <td>0.030927</td>\n",
       "      <td>0.033503</td>\n",
       "      <td>0.035965</td>\n",
       "      <td>0.038432</td>\n",
       "      <td>0.041022</td>\n",
       "      <td>0.043855</td>\n",
       "      <td>0.047050</td>\n",
       "      <td>...</td>\n",
       "      <td>0.995139</td>\n",
       "      <td>0.996878</td>\n",
       "      <td>0.998857</td>\n",
       "      <td>1.001069</td>\n",
       "      <td>1.003506</td>\n",
       "      <td>1.006159</td>\n",
       "      <td>1.009022</td>\n",
       "      <td>1.012084</td>\n",
       "      <td>1.015339</td>\n",
       "      <td>1.018778</td>\n",
       "    </tr>\n",
       "  </tbody>\n",
       "</table>\n",
       "<p>10000 rows × 103 columns</p>\n",
       "</div>"
      ],
      "text/plain": [
       "             CN    Num Cu    Num Te       Mu1       Mu2       Mu3       Mu4  \\\n",
       "0      9.920706  5.641016  4.279690  0.030303  0.032757  0.035112  0.037475   \n",
       "1      9.038954  4.685766  4.353189  0.031529  0.034154  0.036671  0.039203   \n",
       "2      9.725820  5.599930  4.125890  0.030576  0.033095  0.035505  0.037921   \n",
       "3      9.374672  5.139779  4.234893  0.030891  0.033427  0.035861  0.038308   \n",
       "4      9.599938  5.271755  4.328182  0.031077  0.033681  0.036170  0.038665   \n",
       "...         ...       ...       ...       ...       ...       ...       ...   \n",
       "9995   9.360022  5.084340  4.275681  0.030950  0.033483  0.035915  0.038363   \n",
       "9996   9.758551  5.435938  4.322612  0.030927  0.033519  0.035994  0.038473   \n",
       "9997  10.181228  6.181228  4.000000  0.030587  0.033143  0.035582  0.038020   \n",
       "9998  10.156260  6.020380  4.135880  0.030699  0.033247  0.035682  0.038120   \n",
       "9999   9.684431  5.368862  4.315569  0.030927  0.033503  0.035965  0.038432   \n",
       "\n",
       "           Mu5       Mu6       Mu7  ...      Mu91      Mu92      Mu93  \\\n",
       "0     0.039958  0.042668  0.045714  ...  0.994119  0.995957  0.998090   \n",
       "1     0.041875  0.044810  0.048132  ...  0.999269  1.000942  1.002782   \n",
       "2     0.040456  0.043223  0.046335  ...  0.994823  0.997591  1.000637   \n",
       "3     0.040883  0.043703  0.046883  ...  0.999852  1.002114  1.004576   \n",
       "4     0.041287  0.044156  0.047393  ...  0.998475  1.000035  1.001807   \n",
       "...        ...       ...       ...  ...       ...       ...       ...   \n",
       "9995  0.040943  0.043770  0.046960  ...  1.001789  1.003715  1.005820   \n",
       "9996  0.041074  0.043918  0.047124  ...  1.000563  1.002288  1.004220   \n",
       "9997  0.040572  0.043356  0.046485  ...  0.992527  0.996200  1.000256   \n",
       "9998  0.040676  0.043465  0.046604  ...  0.994741  0.997739  1.001036   \n",
       "9999  0.041022  0.043855  0.047050  ...  0.995139  0.996878  0.998857   \n",
       "\n",
       "          Mu94      Mu95      Mu96      Mu97      Mu98      Mu99     Mu100  \n",
       "0     1.000540  1.003327  1.006472  1.009996  1.013918  1.018260  1.023043  \n",
       "1     1.004773  1.006900  1.009148  1.011502  1.013947  1.016467  1.019047  \n",
       "2     1.003974  1.007616  1.011577  1.015872  1.020514  1.025518  1.030897  \n",
       "3     1.007246  1.010132  1.013241  1.016581  1.020158  1.023981  1.028057  \n",
       "4     1.003776  1.005926  1.008242  1.010709  1.013311  1.016034  1.018861  \n",
       "...        ...       ...       ...       ...       ...       ...       ...  \n",
       "9995  1.008111  1.010590  1.013262  1.016131  1.019201  1.022478  1.025964  \n",
       "9996  1.006344  1.008645  1.011110  1.013723  1.016471  1.019338  1.022312  \n",
       "9997  1.004671  1.009423  1.014490  1.019850  1.025479  1.031355  1.037456  \n",
       "9998  1.004613  1.008451  1.012532  1.016838  1.021350  1.026048  1.030916  \n",
       "9999  1.001069  1.003506  1.006159  1.009022  1.012084  1.015339  1.018778  \n",
       "\n",
       "[10000 rows x 103 columns]"
      ]
     },
     "execution_count": 4,
     "metadata": {},
     "output_type": "execute_result"
    }
   ],
   "source": [
    "df = pd.read_csv('mu_cn10000.csv')\n",
    "df"
   ]
  },
  {
   "cell_type": "markdown",
   "metadata": {},
   "source": [
    "use 500 random data to do the Machine Learning"
   ]
  },
  {
   "cell_type": "code",
   "execution_count": 5,
   "metadata": {},
   "outputs": [
    {
     "data": {
      "text/html": [
       "<div>\n",
       "<style scoped>\n",
       "    .dataframe tbody tr th:only-of-type {\n",
       "        vertical-align: middle;\n",
       "    }\n",
       "\n",
       "    .dataframe tbody tr th {\n",
       "        vertical-align: top;\n",
       "    }\n",
       "\n",
       "    .dataframe thead th {\n",
       "        text-align: right;\n",
       "    }\n",
       "</style>\n",
       "<table border=\"1\" class=\"dataframe\">\n",
       "  <thead>\n",
       "    <tr style=\"text-align: right;\">\n",
       "      <th></th>\n",
       "      <th>CN</th>\n",
       "      <th>Num Cu</th>\n",
       "      <th>Num Te</th>\n",
       "      <th>Mu1</th>\n",
       "      <th>Mu2</th>\n",
       "      <th>Mu3</th>\n",
       "      <th>Mu4</th>\n",
       "      <th>Mu5</th>\n",
       "      <th>Mu6</th>\n",
       "      <th>Mu7</th>\n",
       "      <th>...</th>\n",
       "      <th>Mu91</th>\n",
       "      <th>Mu92</th>\n",
       "      <th>Mu93</th>\n",
       "      <th>Mu94</th>\n",
       "      <th>Mu95</th>\n",
       "      <th>Mu96</th>\n",
       "      <th>Mu97</th>\n",
       "      <th>Mu98</th>\n",
       "      <th>Mu99</th>\n",
       "      <th>Mu100</th>\n",
       "    </tr>\n",
       "  </thead>\n",
       "  <tbody>\n",
       "    <tr>\n",
       "      <th>9019</th>\n",
       "      <td>9.741153</td>\n",
       "      <td>5.422555</td>\n",
       "      <td>4.318599</td>\n",
       "      <td>0.030794</td>\n",
       "      <td>0.033367</td>\n",
       "      <td>0.035825</td>\n",
       "      <td>0.038286</td>\n",
       "      <td>0.040868</td>\n",
       "      <td>0.043691</td>\n",
       "      <td>0.046872</td>\n",
       "      <td>...</td>\n",
       "      <td>0.999811</td>\n",
       "      <td>1.001200</td>\n",
       "      <td>1.002792</td>\n",
       "      <td>1.004592</td>\n",
       "      <td>1.006606</td>\n",
       "      <td>1.008838</td>\n",
       "      <td>1.011293</td>\n",
       "      <td>1.013978</td>\n",
       "      <td>1.016897</td>\n",
       "      <td>1.020055</td>\n",
       "    </tr>\n",
       "    <tr>\n",
       "      <th>1629</th>\n",
       "      <td>10.123336</td>\n",
       "      <td>6.123336</td>\n",
       "      <td>4.000000</td>\n",
       "      <td>0.030185</td>\n",
       "      <td>0.032570</td>\n",
       "      <td>0.034869</td>\n",
       "      <td>0.037187</td>\n",
       "      <td>0.039627</td>\n",
       "      <td>0.042294</td>\n",
       "      <td>0.045290</td>\n",
       "      <td>...</td>\n",
       "      <td>0.985114</td>\n",
       "      <td>0.988789</td>\n",
       "      <td>0.992882</td>\n",
       "      <td>0.997415</td>\n",
       "      <td>1.002407</td>\n",
       "      <td>1.007882</td>\n",
       "      <td>1.013859</td>\n",
       "      <td>1.020361</td>\n",
       "      <td>1.027409</td>\n",
       "      <td>1.035023</td>\n",
       "    </tr>\n",
       "    <tr>\n",
       "      <th>4116</th>\n",
       "      <td>9.579579</td>\n",
       "      <td>5.475511</td>\n",
       "      <td>4.104068</td>\n",
       "      <td>0.030818</td>\n",
       "      <td>0.033316</td>\n",
       "      <td>0.035717</td>\n",
       "      <td>0.038136</td>\n",
       "      <td>0.040683</td>\n",
       "      <td>0.043473</td>\n",
       "      <td>0.046616</td>\n",
       "      <td>...</td>\n",
       "      <td>0.994053</td>\n",
       "      <td>0.997287</td>\n",
       "      <td>1.000783</td>\n",
       "      <td>1.004546</td>\n",
       "      <td>1.008581</td>\n",
       "      <td>1.012892</td>\n",
       "      <td>1.017485</td>\n",
       "      <td>1.022365</td>\n",
       "      <td>1.027535</td>\n",
       "      <td>1.033002</td>\n",
       "    </tr>\n",
       "    <tr>\n",
       "      <th>1044</th>\n",
       "      <td>9.708867</td>\n",
       "      <td>5.360576</td>\n",
       "      <td>4.348292</td>\n",
       "      <td>0.030533</td>\n",
       "      <td>0.033034</td>\n",
       "      <td>0.035430</td>\n",
       "      <td>0.037835</td>\n",
       "      <td>0.040362</td>\n",
       "      <td>0.043124</td>\n",
       "      <td>0.046236</td>\n",
       "      <td>...</td>\n",
       "      <td>0.999663</td>\n",
       "      <td>1.000791</td>\n",
       "      <td>1.002100</td>\n",
       "      <td>1.003627</td>\n",
       "      <td>1.005411</td>\n",
       "      <td>1.007488</td>\n",
       "      <td>1.009896</td>\n",
       "      <td>1.012675</td>\n",
       "      <td>1.015860</td>\n",
       "      <td>1.019491</td>\n",
       "    </tr>\n",
       "    <tr>\n",
       "      <th>9974</th>\n",
       "      <td>9.754716</td>\n",
       "      <td>5.345189</td>\n",
       "      <td>4.409527</td>\n",
       "      <td>0.030702</td>\n",
       "      <td>0.033262</td>\n",
       "      <td>0.035707</td>\n",
       "      <td>0.038154</td>\n",
       "      <td>0.040720</td>\n",
       "      <td>0.043522</td>\n",
       "      <td>0.046680</td>\n",
       "      <td>...</td>\n",
       "      <td>0.995986</td>\n",
       "      <td>0.996990</td>\n",
       "      <td>0.998210</td>\n",
       "      <td>0.999649</td>\n",
       "      <td>1.001308</td>\n",
       "      <td>1.003190</td>\n",
       "      <td>1.005297</td>\n",
       "      <td>1.007630</td>\n",
       "      <td>1.010192</td>\n",
       "      <td>1.012985</td>\n",
       "    </tr>\n",
       "    <tr>\n",
       "      <th>...</th>\n",
       "      <td>...</td>\n",
       "      <td>...</td>\n",
       "      <td>...</td>\n",
       "      <td>...</td>\n",
       "      <td>...</td>\n",
       "      <td>...</td>\n",
       "      <td>...</td>\n",
       "      <td>...</td>\n",
       "      <td>...</td>\n",
       "      <td>...</td>\n",
       "      <td>...</td>\n",
       "      <td>...</td>\n",
       "      <td>...</td>\n",
       "      <td>...</td>\n",
       "      <td>...</td>\n",
       "      <td>...</td>\n",
       "      <td>...</td>\n",
       "      <td>...</td>\n",
       "      <td>...</td>\n",
       "      <td>...</td>\n",
       "      <td>...</td>\n",
       "    </tr>\n",
       "    <tr>\n",
       "      <th>6233</th>\n",
       "      <td>9.641663</td>\n",
       "      <td>5.149398</td>\n",
       "      <td>4.492265</td>\n",
       "      <td>0.030843</td>\n",
       "      <td>0.033416</td>\n",
       "      <td>0.035875</td>\n",
       "      <td>0.038338</td>\n",
       "      <td>0.040926</td>\n",
       "      <td>0.043755</td>\n",
       "      <td>0.046945</td>\n",
       "      <td>...</td>\n",
       "      <td>1.002346</td>\n",
       "      <td>1.002726</td>\n",
       "      <td>1.003244</td>\n",
       "      <td>1.003901</td>\n",
       "      <td>1.004701</td>\n",
       "      <td>1.005647</td>\n",
       "      <td>1.006743</td>\n",
       "      <td>1.007992</td>\n",
       "      <td>1.009397</td>\n",
       "      <td>1.010961</td>\n",
       "    </tr>\n",
       "    <tr>\n",
       "      <th>8023</th>\n",
       "      <td>9.080917</td>\n",
       "      <td>4.280325</td>\n",
       "      <td>4.800592</td>\n",
       "      <td>0.031321</td>\n",
       "      <td>0.033950</td>\n",
       "      <td>0.036464</td>\n",
       "      <td>0.038988</td>\n",
       "      <td>0.041647</td>\n",
       "      <td>0.044565</td>\n",
       "      <td>0.047868</td>\n",
       "      <td>...</td>\n",
       "      <td>1.009017</td>\n",
       "      <td>1.007224</td>\n",
       "      <td>1.005381</td>\n",
       "      <td>1.003511</td>\n",
       "      <td>1.001641</td>\n",
       "      <td>0.999795</td>\n",
       "      <td>0.997997</td>\n",
       "      <td>0.996273</td>\n",
       "      <td>0.994647</td>\n",
       "      <td>0.993145</td>\n",
       "    </tr>\n",
       "    <tr>\n",
       "      <th>2770</th>\n",
       "      <td>9.697560</td>\n",
       "      <td>5.380304</td>\n",
       "      <td>4.317257</td>\n",
       "      <td>0.030762</td>\n",
       "      <td>0.033285</td>\n",
       "      <td>0.035705</td>\n",
       "      <td>0.038135</td>\n",
       "      <td>0.040690</td>\n",
       "      <td>0.043485</td>\n",
       "      <td>0.046634</td>\n",
       "      <td>...</td>\n",
       "      <td>0.998657</td>\n",
       "      <td>1.000311</td>\n",
       "      <td>1.002172</td>\n",
       "      <td>1.004248</td>\n",
       "      <td>1.006548</td>\n",
       "      <td>1.009082</td>\n",
       "      <td>1.011858</td>\n",
       "      <td>1.014884</td>\n",
       "      <td>1.018171</td>\n",
       "      <td>1.021726</td>\n",
       "    </tr>\n",
       "    <tr>\n",
       "      <th>9250</th>\n",
       "      <td>8.798593</td>\n",
       "      <td>4.798593</td>\n",
       "      <td>4.000000</td>\n",
       "      <td>0.031030</td>\n",
       "      <td>0.033532</td>\n",
       "      <td>0.035944</td>\n",
       "      <td>0.038380</td>\n",
       "      <td>0.040954</td>\n",
       "      <td>0.043780</td>\n",
       "      <td>0.046973</td>\n",
       "      <td>...</td>\n",
       "      <td>0.990618</td>\n",
       "      <td>0.994578</td>\n",
       "      <td>0.998856</td>\n",
       "      <td>1.003442</td>\n",
       "      <td>1.008329</td>\n",
       "      <td>1.013510</td>\n",
       "      <td>1.018977</td>\n",
       "      <td>1.024722</td>\n",
       "      <td>1.030738</td>\n",
       "      <td>1.037017</td>\n",
       "    </tr>\n",
       "    <tr>\n",
       "      <th>2551</th>\n",
       "      <td>9.425466</td>\n",
       "      <td>4.782936</td>\n",
       "      <td>4.642530</td>\n",
       "      <td>0.031073</td>\n",
       "      <td>0.033710</td>\n",
       "      <td>0.036221</td>\n",
       "      <td>0.038732</td>\n",
       "      <td>0.041364</td>\n",
       "      <td>0.044244</td>\n",
       "      <td>0.047494</td>\n",
       "      <td>...</td>\n",
       "      <td>1.000708</td>\n",
       "      <td>1.000055</td>\n",
       "      <td>0.999476</td>\n",
       "      <td>0.998978</td>\n",
       "      <td>0.998569</td>\n",
       "      <td>0.998255</td>\n",
       "      <td>0.998046</td>\n",
       "      <td>0.997947</td>\n",
       "      <td>0.997966</td>\n",
       "      <td>0.998111</td>\n",
       "    </tr>\n",
       "  </tbody>\n",
       "</table>\n",
       "<p>500 rows × 103 columns</p>\n",
       "</div>"
      ],
      "text/plain": [
       "             CN    Num Cu    Num Te       Mu1       Mu2       Mu3       Mu4  \\\n",
       "9019   9.741153  5.422555  4.318599  0.030794  0.033367  0.035825  0.038286   \n",
       "1629  10.123336  6.123336  4.000000  0.030185  0.032570  0.034869  0.037187   \n",
       "4116   9.579579  5.475511  4.104068  0.030818  0.033316  0.035717  0.038136   \n",
       "1044   9.708867  5.360576  4.348292  0.030533  0.033034  0.035430  0.037835   \n",
       "9974   9.754716  5.345189  4.409527  0.030702  0.033262  0.035707  0.038154   \n",
       "...         ...       ...       ...       ...       ...       ...       ...   \n",
       "6233   9.641663  5.149398  4.492265  0.030843  0.033416  0.035875  0.038338   \n",
       "8023   9.080917  4.280325  4.800592  0.031321  0.033950  0.036464  0.038988   \n",
       "2770   9.697560  5.380304  4.317257  0.030762  0.033285  0.035705  0.038135   \n",
       "9250   8.798593  4.798593  4.000000  0.031030  0.033532  0.035944  0.038380   \n",
       "2551   9.425466  4.782936  4.642530  0.031073  0.033710  0.036221  0.038732   \n",
       "\n",
       "           Mu5       Mu6       Mu7  ...      Mu91      Mu92      Mu93  \\\n",
       "9019  0.040868  0.043691  0.046872  ...  0.999811  1.001200  1.002792   \n",
       "1629  0.039627  0.042294  0.045290  ...  0.985114  0.988789  0.992882   \n",
       "4116  0.040683  0.043473  0.046616  ...  0.994053  0.997287  1.000783   \n",
       "1044  0.040362  0.043124  0.046236  ...  0.999663  1.000791  1.002100   \n",
       "9974  0.040720  0.043522  0.046680  ...  0.995986  0.996990  0.998210   \n",
       "...        ...       ...       ...  ...       ...       ...       ...   \n",
       "6233  0.040926  0.043755  0.046945  ...  1.002346  1.002726  1.003244   \n",
       "8023  0.041647  0.044565  0.047868  ...  1.009017  1.007224  1.005381   \n",
       "2770  0.040690  0.043485  0.046634  ...  0.998657  1.000311  1.002172   \n",
       "9250  0.040954  0.043780  0.046973  ...  0.990618  0.994578  0.998856   \n",
       "2551  0.041364  0.044244  0.047494  ...  1.000708  1.000055  0.999476   \n",
       "\n",
       "          Mu94      Mu95      Mu96      Mu97      Mu98      Mu99     Mu100  \n",
       "9019  1.004592  1.006606  1.008838  1.011293  1.013978  1.016897  1.020055  \n",
       "1629  0.997415  1.002407  1.007882  1.013859  1.020361  1.027409  1.035023  \n",
       "4116  1.004546  1.008581  1.012892  1.017485  1.022365  1.027535  1.033002  \n",
       "1044  1.003627  1.005411  1.007488  1.009896  1.012675  1.015860  1.019491  \n",
       "9974  0.999649  1.001308  1.003190  1.005297  1.007630  1.010192  1.012985  \n",
       "...        ...       ...       ...       ...       ...       ...       ...  \n",
       "6233  1.003901  1.004701  1.005647  1.006743  1.007992  1.009397  1.010961  \n",
       "8023  1.003511  1.001641  0.999795  0.997997  0.996273  0.994647  0.993145  \n",
       "2770  1.004248  1.006548  1.009082  1.011858  1.014884  1.018171  1.021726  \n",
       "9250  1.003442  1.008329  1.013510  1.018977  1.024722  1.030738  1.037017  \n",
       "2551  0.998978  0.998569  0.998255  0.998046  0.997947  0.997966  0.998111  \n",
       "\n",
       "[500 rows x 103 columns]"
      ]
     },
     "execution_count": 5,
     "metadata": {},
     "output_type": "execute_result"
    }
   ],
   "source": [
    "df_test=df.sample(500)\n",
    "df_test"
   ]
  },
  {
   "cell_type": "markdown",
   "metadata": {},
   "source": [
    "# Predict Num Cu"
   ]
  },
  {
   "cell_type": "code",
   "execution_count": 10,
   "metadata": {
    "scrolled": false
   },
   "outputs": [
    {
     "name": "stdout",
     "output_type": "stream",
     "text": [
      "The shape of our features is: (500, 100)\n",
      "The shape of our labels is: (500,)\n"
     ]
    }
   ],
   "source": [
    "features=np.array(df_test.loc[:,'Mu1':'Mu100'])\n",
    "#y = np.array(df[\"Num Cu\"])\n",
    "labels = np.array(df_test['Num Cu'])\n",
    "print('The shape of our features is:', features.shape)\n",
    "print('The shape of our labels is:', labels.shape)"
   ]
  },
  {
   "cell_type": "code",
   "execution_count": 11,
   "metadata": {},
   "outputs": [],
   "source": [
    "# Using Skicit-learn to split data into training and testing sets\n",
    "# Split the data into training and testing sets\n",
    "train_features, test_features, train_labels, test_labels = train_test_split(features, labels, test_size = 0.25, random_state = 42)"
   ]
  },
  {
   "cell_type": "code",
   "execution_count": 8,
   "metadata": {},
   "outputs": [
    {
     "name": "stdout",
     "output_type": "stream",
     "text": [
      "Training Features Shape: (375, 100)\n",
      "Training Labels Shape: (375,)\n",
      "Testing Features Shape: (125, 100)\n",
      "Testing Labels Shape: (125,)\n"
     ]
    }
   ],
   "source": [
    "print('Training Features Shape:', train_features.shape)\n",
    "print('Training Labels Shape:', train_labels.shape)\n",
    "print('Testing Features Shape:', test_features.shape)\n",
    "print('Testing Labels Shape:', test_labels.shape)"
   ]
  },
  {
   "cell_type": "code",
   "execution_count": 21,
   "metadata": {},
   "outputs": [],
   "source": [
    "from sklearn.ensemble import RandomForestRegressor\n",
    "# Instantiate model with 1000 decision trees\n",
    "rf = RandomForestRegressor(n_estimators = 1000)\n"
   ]
  },
  {
   "cell_type": "code",
   "execution_count": 24,
   "metadata": {},
   "outputs": [],
   "source": [
    "def RFRegression(max_depth, X_train, X_test, y_train, y_test, plot_min, plot_max):\n",
    "    clf = RandomForestRegressor(n_estimators = 1000, random_state = 42)\n",
    "    clf = clf.fit(X_train, y_train)\n",
    "    \n",
    "    y_pred = clf.predict(X_test)\n",
    "    MSE = ((y_pred-y_test)**2).mean()\n",
    "    print(\"RMSE = \" , np.sqrt(MSE))\n",
    "    print('R-squared of training data is', clf.score(X_train, y_train))\n",
    "    print('R-squared of testing data is' , clf.score(X_test, y_test))\n",
    "    \n",
    "    \n",
    "    \n",
    "    fig, axs = plt.subplots(1,1,figsize=(8,8))\n",
    "    axs.scatter(clf.predict(X_test), y_test)\n",
    "    axs.plot(np.linspace( plot_min, plot_max), np.linspace( plot_min, plot_max))\n",
    "    axs.set_xlabel('Predicted_test')\n",
    "    axs.set_ylabel('Actual_test')\n",
    "\n",
    "    "
   ]
  },
  {
   "cell_type": "code",
   "execution_count": 25,
   "metadata": {},
   "outputs": [
    {
     "name": "stdout",
     "output_type": "stream",
     "text": [
      "RMSE =  0.15253437326805888\n",
      "R-squared of training data is 0.9932494741395189\n",
      "R-squared of testing data is 0.9242680894611714\n"
     ]
    },
    {
     "data": {
      "image/png": "[encoded data removed]",
      "text/plain": [
       "<Figure size 576x576 with 1 Axes>"
      ]
     },
     "metadata": {
      "needs_background": "light"
     },
     "output_type": "display_data"
    }
   ],
   "source": [
    "RFRegression(10, train_features, test_features, train_labels,test_labels, 4, 8)"
   ]
  },
  {
   "cell_type": "markdown",
   "metadata": {},
   "source": [
    "# predict only Num of Te"
   ]
  },
  {
   "cell_type": "code",
   "execution_count": 26,
   "metadata": {},
   "outputs": [
    {
     "name": "stdout",
     "output_type": "stream",
     "text": [
      "The shape of our features is: (500, 100)\n",
      "The shape of our labels is: (500,)\n"
     ]
    }
   ],
   "source": [
    "features=np.array(df_test.loc[:,'Mu1':'Mu100'])\n",
    "labels = np.array(df_test['Num Te'])\n",
    "print('The shape of our features is:', features.shape)\n",
    "print('The shape of our labels is:', labels.shape)"
   ]
  },
  {
   "cell_type": "code",
   "execution_count": 30,
   "metadata": {},
   "outputs": [
    {
     "data": {
      "text/plain": [
       "5.000000000000001"
      ]
     },
     "execution_count": 30,
     "metadata": {},
     "output_type": "execute_result"
    }
   ],
   "source": [
    "max(df_test['Num Te'])"
   ]
  },
  {
   "cell_type": "code",
   "execution_count": 28,
   "metadata": {},
   "outputs": [
    {
     "name": "stdout",
     "output_type": "stream",
     "text": [
      "Training Features Shape: (375, 100)\n",
      "Training Labels Shape: (375,)\n",
      "Testing Features Shape: (125, 100)\n",
      "Testing Labels Shape: (125,)\n"
     ]
    }
   ],
   "source": [
    "train_features, test_features, train_labels, test_labels = train_test_split(features, labels, test_size = 0.25, random_state = 42)\n",
    "print('Training Features Shape:', train_features.shape)\n",
    "print('Training Labels Shape:', train_labels.shape)\n",
    "print('Testing Features Shape:', test_features.shape)\n",
    "print('Testing Labels Shape:', test_labels.shape)"
   ]
  },
  {
   "cell_type": "code",
   "execution_count": 31,
   "metadata": {},
   "outputs": [
    {
     "name": "stdout",
     "output_type": "stream",
     "text": [
      "RMSE =  0.022444667855156655\n",
      "R-squared of training data is 0.9985688194145506\n",
      "R-squared of testing data is 0.9872339633278504\n"
     ]
    },
    {
     "data": {
      "image/png": "[encoded data removed]",
      "text/plain": [
       "<Figure size 576x576 with 1 Axes>"
      ]
     },
     "metadata": {
      "needs_background": "light"
     },
     "output_type": "display_data"
    }
   ],
   "source": [
    "RFRegression(10, train_features, test_features, train_labels,test_labels, 4, 5)"
   ]
  },
  {
   "cell_type": "markdown",
   "metadata": {},
   "source": [
    "# use spectra predict Num of Cu, Te as multi target regression"
   ]
  },
  {
   "cell_type": "code",
   "execution_count": 32,
   "metadata": {},
   "outputs": [
    {
     "name": "stdout",
     "output_type": "stream",
     "text": [
      "The shape of our features is: (500, 100)\n",
      "The shape of our labels is: (500, 2)\n",
      "Training Features Shape: (375, 100)\n",
      "Training Labels Shape: (375, 2)\n",
      "Testing Features Shape: (125, 100)\n",
      "Testing Labels Shape: (125, 2)\n"
     ]
    }
   ],
   "source": [
    "# Multi target regression\n",
    "features=np.array(df_test.loc[:,'Mu1':'Mu100'])\n",
    "labels = np.array(df_test.loc[:,'Num Cu':'Num Te'])\n",
    "print('The shape of our features is:', features.shape)\n",
    "print('The shape of our labels is:', labels.shape)\n",
    "train_features, test_features, train_labels, test_labels = train_test_split(features, labels, test_size = 0.25, random_state = 42)\n",
    "print('Training Features Shape:', train_features.shape)\n",
    "print('Training Labels Shape:', train_labels.shape)\n",
    "print('Testing Features Shape:', test_features.shape)\n",
    "print('Testing Labels Shape:', test_labels.shape)"
   ]
  },
  {
   "cell_type": "code",
   "execution_count": 33,
   "metadata": {},
   "outputs": [
    {
     "name": "stdout",
     "output_type": "stream",
     "text": [
      "RMSE =  0.12161024732183845\n",
      "R-squared of training data is 0.9927963870043905\n"
     ]
    },
    {
     "name": "stderr",
     "output_type": "stream",
     "text": [
      "/Users/hsiaoyuhsien/opt/anaconda3/lib/python3.7/site-packages/sklearn/base.py:434: FutureWarning: The default value of multioutput (not exposed in score method) will change from 'variance_weighted' to 'uniform_average' in 0.23 to keep consistent with 'metrics.r2_score'. To specify the default value manually and avoid the warning, please either call 'metrics.r2_score' directly or make a custom scorer with 'metrics.make_scorer' (the built-in scorer 'r2' uses multioutput='uniform_average').\n",
      "  \"multioutput='uniform_average').\", FutureWarning)\n",
      "/Users/hsiaoyuhsien/opt/anaconda3/lib/python3.7/site-packages/sklearn/base.py:434: FutureWarning: The default value of multioutput (not exposed in score method) will change from 'variance_weighted' to 'uniform_average' in 0.23 to keep consistent with 'metrics.r2_score'. To specify the default value manually and avoid the warning, please either call 'metrics.r2_score' directly or make a custom scorer with 'metrics.make_scorer' (the built-in scorer 'r2' uses multioutput='uniform_average').\n",
      "  \"multioutput='uniform_average').\", FutureWarning)\n"
     ]
    },
    {
     "name": "stdout",
     "output_type": "stream",
     "text": [
      "R-squared of testing data is 0.9146833478822011\n"
     ]
    },
    {
     "data": {
      "image/png": "[encoded data removed]",
      "text/plain": [
       "<Figure size 576x576 with 1 Axes>"
      ]
     },
     "metadata": {
      "needs_background": "light"
     },
     "output_type": "display_data"
    }
   ],
   "source": [
    "RFRegression(10, train_features, test_features, train_labels,test_labels, 4, 8)"
   ]
  },
  {
   "cell_type": "markdown",
   "metadata": {},
   "source": [
    "from the above, we can see that if we use multi target regression, the predicted values are still reasonable.\n",
    "In the following, I am trying to use 1st and/or 2nd derivate to predict the number of atoms by multi target regression."
   ]
  },
  {
   "cell_type": "markdown",
   "metadata": {},
   "source": [
    "generate a derivate dataframe from the test dataframe."
   ]
  },
  {
   "cell_type": "code",
   "execution_count": 34,
   "metadata": {},
   "outputs": [],
   "source": [
    "import sys\n",
    "sys.path.append('../PredictXANES')\n",
    "import xanes_derivatives"
   ]
  },
  {
   "cell_type": "code",
   "execution_count": 35,
   "metadata": {},
   "outputs": [],
   "source": [
    "dmu1, dmu2 = xanes_derivatives.xanes_derivatives(df_test)"
   ]
  },
  {
   "cell_type": "code",
   "execution_count": 36,
   "metadata": {},
   "outputs": [
    {
     "name": "stdout",
     "output_type": "stream",
     "text": [
      "The shape of our features is: (500, 99)\n",
      "The shape of our labels is: (500, 2)\n",
      "Training Features Shape: (375, 99)\n",
      "Training Labels Shape: (375, 2)\n",
      "Testing Features Shape: (125, 99)\n",
      "Testing Labels Shape: (125, 2)\n"
     ]
    }
   ],
   "source": [
    "# use first derivate only \n",
    "features=dmu1\n",
    "labels = np.array(df_test.loc[:,'Num Cu':'Num Te'])\n",
    "print('The shape of our features is:', features.shape)\n",
    "print('The shape of our labels is:', labels.shape)\n",
    "train_features, test_features, train_labels, test_labels = train_test_split(features, labels, test_size = 0.25, random_state = 42)\n",
    "print('Training Features Shape:', train_features.shape)\n",
    "print('Training Labels Shape:', train_labels.shape)\n",
    "print('Testing Features Shape:', test_features.shape)\n",
    "print('Testing Labels Shape:', test_labels.shape)"
   ]
  },
  {
   "cell_type": "code",
   "execution_count": 37,
   "metadata": {},
   "outputs": [
    {
     "name": "stdout",
     "output_type": "stream",
     "text": [
      "RMSE =  0.14799739385024813\n",
      "R-squared of training data is 0.9865330645534786\n"
     ]
    },
    {
     "name": "stderr",
     "output_type": "stream",
     "text": [
      "/Users/hsiaoyuhsien/opt/anaconda3/lib/python3.7/site-packages/sklearn/base.py:434: FutureWarning: The default value of multioutput (not exposed in score method) will change from 'variance_weighted' to 'uniform_average' in 0.23 to keep consistent with 'metrics.r2_score'. To specify the default value manually and avoid the warning, please either call 'metrics.r2_score' directly or make a custom scorer with 'metrics.make_scorer' (the built-in scorer 'r2' uses multioutput='uniform_average').\n",
      "  \"multioutput='uniform_average').\", FutureWarning)\n",
      "/Users/hsiaoyuhsien/opt/anaconda3/lib/python3.7/site-packages/sklearn/base.py:434: FutureWarning: The default value of multioutput (not exposed in score method) will change from 'variance_weighted' to 'uniform_average' in 0.23 to keep consistent with 'metrics.r2_score'. To specify the default value manually and avoid the warning, please either call 'metrics.r2_score' directly or make a custom scorer with 'metrics.make_scorer' (the built-in scorer 'r2' uses multioutput='uniform_average').\n",
      "  \"multioutput='uniform_average').\", FutureWarning)\n"
     ]
    },
    {
     "name": "stdout",
     "output_type": "stream",
     "text": [
      "R-squared of testing data is 0.8736423334292251\n"
     ]
    },
    {
     "data": {
      "image/png": "[encoded data removed]",
      "text/plain": [
       "<Figure size 576x576 with 1 Axes>"
      ]
     },
     "metadata": {
      "needs_background": "light"
     },
     "output_type": "display_data"
    }
   ],
   "source": [
    "RFRegression(10, train_features, test_features, train_labels,test_labels, 4, 8)"
   ]
  },
  {
   "cell_type": "code",
   "execution_count": 38,
   "metadata": {},
   "outputs": [
    {
     "name": "stdout",
     "output_type": "stream",
     "text": [
      "The shape of our features is: (500, 98)\n",
      "The shape of our labels is: (500, 2)\n",
      "Training Features Shape: (375, 98)\n",
      "Training Labels Shape: (375, 2)\n",
      "Testing Features Shape: (125, 98)\n",
      "Testing Labels Shape: (125, 2)\n"
     ]
    }
   ],
   "source": [
    "# use second derivate only \n",
    "features=dmu2\n",
    "labels = np.array(df_test.loc[:,'Num Cu':'Num Te'])\n",
    "print('The shape of our features is:', features.shape)\n",
    "print('The shape of our labels is:', labels.shape)\n",
    "train_features, test_features, train_labels, test_labels = train_test_split(features, labels, test_size = 0.25, random_state = 42)\n",
    "print('Training Features Shape:', train_features.shape)\n",
    "print('Training Labels Shape:', train_labels.shape)\n",
    "print('Testing Features Shape:', test_features.shape)\n",
    "print('Testing Labels Shape:', test_labels.shape)"
   ]
  },
  {
   "cell_type": "code",
   "execution_count": 39,
   "metadata": {},
   "outputs": [
    {
     "name": "stdout",
     "output_type": "stream",
     "text": [
      "RMSE =  0.10332430612540788\n",
      "R-squared of training data is 0.9917598729602484\n"
     ]
    },
    {
     "name": "stderr",
     "output_type": "stream",
     "text": [
      "/Users/hsiaoyuhsien/opt/anaconda3/lib/python3.7/site-packages/sklearn/base.py:434: FutureWarning: The default value of multioutput (not exposed in score method) will change from 'variance_weighted' to 'uniform_average' in 0.23 to keep consistent with 'metrics.r2_score'. To specify the default value manually and avoid the warning, please either call 'metrics.r2_score' directly or make a custom scorer with 'metrics.make_scorer' (the built-in scorer 'r2' uses multioutput='uniform_average').\n",
      "  \"multioutput='uniform_average').\", FutureWarning)\n",
      "/Users/hsiaoyuhsien/opt/anaconda3/lib/python3.7/site-packages/sklearn/base.py:434: FutureWarning: The default value of multioutput (not exposed in score method) will change from 'variance_weighted' to 'uniform_average' in 0.23 to keep consistent with 'metrics.r2_score'. To specify the default value manually and avoid the warning, please either call 'metrics.r2_score' directly or make a custom scorer with 'metrics.make_scorer' (the built-in scorer 'r2' uses multioutput='uniform_average').\n",
      "  \"multioutput='uniform_average').\", FutureWarning)\n"
     ]
    },
    {
     "name": "stdout",
     "output_type": "stream",
     "text": [
      "R-squared of testing data is 0.9384116659620472\n"
     ]
    },
    {
     "data": {
      "image/png": "[encoded data removed]",
      "text/plain": [
       "<Figure size 576x576 with 1 Axes>"
      ]
     },
     "metadata": {
      "needs_background": "light"
     },
     "output_type": "display_data"
    }
   ],
   "source": [
    "RFRegression(10, train_features, test_features, train_labels,test_labels, 4, 8)"
   ]
  },
  {
   "cell_type": "markdown",
   "metadata": {},
   "source": [
    "# use first and second derivate together, multi target regressor implementing GPR"
   ]
  },
  {
   "cell_type": "code",
   "execution_count": 40,
   "metadata": {},
   "outputs": [
    {
     "name": "stdout",
     "output_type": "stream",
     "text": [
      "The shape of first derivate is: (500, 99)\n",
      "The shape of second derivate is: (500, 98)\n",
      "The shape of the concatenate derivate is: (500, 197)\n"
     ]
    }
   ],
   "source": [
    "dmu_both = np.concatenate((dmu1,dmu2),axis=1)\n",
    "print('The shape of first derivate is:', dmu1.shape)\n",
    "print('The shape of second derivate is:', dmu2.shape)\n",
    "print('The shape of the concatenate derivate is:', dmu_both.shape)"
   ]
  },
  {
   "cell_type": "code",
   "execution_count": 41,
   "metadata": {},
   "outputs": [
    {
     "name": "stdout",
     "output_type": "stream",
     "text": [
      "The shape of our features is: (500, 197)\n",
      "The shape of our labels is: (500, 2)\n",
      "Training Features Shape: (375, 197)\n",
      "Training Labels Shape: (375, 2)\n",
      "Testing Features Shape: (125, 197)\n",
      "Testing Labels Shape: (125, 2)\n"
     ]
    }
   ],
   "source": [
    "# use first and second derivate together\n",
    "features=dmu_both\n",
    "labels = np.array(df_test.loc[:,'Num Cu':'Num Te'])\n",
    "print('The shape of our features is:', features.shape)\n",
    "print('The shape of our labels is:', labels.shape)\n",
    "train_features, test_features, train_labels, test_labels = train_test_split(features, labels, test_size = 0.25, random_state = 42)\n",
    "print('Training Features Shape:', train_features.shape)\n",
    "print('Training Labels Shape:', train_labels.shape)\n",
    "print('Testing Features Shape:', test_features.shape)\n",
    "print('Testing Labels Shape:', test_labels.shape)\n"
   ]
  },
  {
   "cell_type": "code",
   "execution_count": 42,
   "metadata": {},
   "outputs": [
    {
     "name": "stdout",
     "output_type": "stream",
     "text": [
      "RMSE =  0.10173146127869288\n",
      "R-squared of training data is 0.9918860390856082\n"
     ]
    },
    {
     "name": "stderr",
     "output_type": "stream",
     "text": [
      "/Users/hsiaoyuhsien/opt/anaconda3/lib/python3.7/site-packages/sklearn/base.py:434: FutureWarning: The default value of multioutput (not exposed in score method) will change from 'variance_weighted' to 'uniform_average' in 0.23 to keep consistent with 'metrics.r2_score'. To specify the default value manually and avoid the warning, please either call 'metrics.r2_score' directly or make a custom scorer with 'metrics.make_scorer' (the built-in scorer 'r2' uses multioutput='uniform_average').\n",
      "  \"multioutput='uniform_average').\", FutureWarning)\n",
      "/Users/hsiaoyuhsien/opt/anaconda3/lib/python3.7/site-packages/sklearn/base.py:434: FutureWarning: The default value of multioutput (not exposed in score method) will change from 'variance_weighted' to 'uniform_average' in 0.23 to keep consistent with 'metrics.r2_score'. To specify the default value manually and avoid the warning, please either call 'metrics.r2_score' directly or make a custom scorer with 'metrics.make_scorer' (the built-in scorer 'r2' uses multioutput='uniform_average').\n",
      "  \"multioutput='uniform_average').\", FutureWarning)\n"
     ]
    },
    {
     "name": "stdout",
     "output_type": "stream",
     "text": [
      "R-squared of testing data is 0.9402959177032012\n"
     ]
    },
    {
     "data": {
      "image/png": "[encoded data removed]",
      "text/plain": [
       "<Figure size 576x576 with 1 Axes>"
      ]
     },
     "metadata": {
      "needs_background": "light"
     },
     "output_type": "display_data"
    }
   ],
   "source": [
    "RFRegression(10, train_features, test_features, train_labels,test_labels, 4, 8)"
   ]
  },
  {
   "cell_type": "markdown",
   "metadata": {},
   "source": [
    "# use first and/or derivative to predict num of Cu, Te seperatly "
   ]
  },
  {
   "cell_type": "code",
   "execution_count": 37,
   "metadata": {},
   "outputs": [
    {
     "name": "stdout",
     "output_type": "stream",
     "text": [
      "The shape of our features is: (500, 99)\n",
      "The shape of our labels is: (500,)\n",
      "Training Features Shape: (375, 99)\n",
      "Training Labels Shape: (375,)\n",
      "Testing Features Shape: (125, 99)\n",
      "Testing Labels Shape: (125,)\n"
     ]
    }
   ],
   "source": [
    "# use first derivate to predict Cu \n",
    "features=dmu1\n",
    "labels = np.array(df_test['Num Cu'])\n",
    "print('The shape of our features is:', features.shape)\n",
    "print('The shape of our labels is:', labels.shape)\n",
    "train_features, test_features, train_labels, test_labels = train_test_split(features, labels, test_size = 0.25, random_state = 42)\n",
    "print('Training Features Shape:', train_features.shape)\n",
    "print('Training Labels Shape:', train_labels.shape)\n",
    "print('Testing Features Shape:', test_features.shape)\n",
    "print('Testing Labels Shape:', test_labels.shape)"
   ]
  },
  {
   "cell_type": "code",
   "execution_count": 38,
   "metadata": {},
   "outputs": [
    {
     "name": "stdout",
     "output_type": "stream",
     "text": [
      "MSE =  0.02973692754328555\n",
      "R-squared of training data is 0.9854122639115278\n",
      "R-squared of testing data is 0.8989251818839482\n"
     ]
    },
    {
     "data": {
      "image/png": "[encoded data removed]",
      "text/plain": [
       "<Figure size 864x864 with 1 Axes>"
      ]
     },
     "metadata": {
      "needs_background": "light"
     },
     "output_type": "display_data"
    }
   ],
   "source": [
    "RFRegression(10, train_features, test_features, train_labels,test_labels, 4, 8)"
   ]
  },
  {
   "cell_type": "code",
   "execution_count": 39,
   "metadata": {},
   "outputs": [
    {
     "name": "stdout",
     "output_type": "stream",
     "text": [
      "The shape of our features is: (500, 99)\n",
      "The shape of our labels is: (500,)\n",
      "Training Features Shape: (375, 99)\n",
      "Training Labels Shape: (375,)\n",
      "Testing Features Shape: (125, 99)\n",
      "Testing Labels Shape: (125,)\n"
     ]
    }
   ],
   "source": [
    "# use first derivate to predict Te\n",
    "features=dmu1\n",
    "labels = np.array(df_test['Num Te'])\n",
    "print('The shape of our features is:', features.shape)\n",
    "print('The shape of our labels is:', labels.shape)\n",
    "train_features, test_features, train_labels, test_labels = train_test_split(features, labels, test_size = 0.25, random_state = 42)\n",
    "print('Training Features Shape:', train_features.shape)\n",
    "print('Training Labels Shape:', train_labels.shape)\n",
    "print('Testing Features Shape:', test_features.shape)\n",
    "print('Testing Labels Shape:', test_labels.shape)\n"
   ]
  },
  {
   "cell_type": "code",
   "execution_count": 40,
   "metadata": {
    "scrolled": true
   },
   "outputs": [
    {
     "name": "stdout",
     "output_type": "stream",
     "text": [
      "MSE =  0.00032681006226142006\n",
      "R-squared of training data is 0.9993270093597788\n",
      "R-squared of testing data is 0.9922480785366776\n"
     ]
    },
    {
     "data": {
      "image/png": "[encoded data removed]",
      "text/plain": [
       "<Figure size 864x864 with 1 Axes>"
      ]
     },
     "metadata": {
      "needs_background": "light"
     },
     "output_type": "display_data"
    }
   ],
   "source": [
    "RFRegression(10, train_features, test_features, train_labels,test_labels, 4, 5)"
   ]
  },
  {
   "cell_type": "markdown",
   "metadata": {},
   "source": [
    "# This result is pretty good!"
   ]
  },
  {
   "cell_type": "markdown",
   "metadata": {},
   "source": [
    "# The follwing is using second derivate to predict Cu,Te seperately"
   ]
  },
  {
   "cell_type": "code",
   "execution_count": 41,
   "metadata": {},
   "outputs": [
    {
     "name": "stdout",
     "output_type": "stream",
     "text": [
      "The shape of our features is: (500, 98)\n",
      "The shape of our labels is: (500,)\n"
     ]
    },
    {
     "ename": "NameError",
     "evalue": "name 'trin_features' is not defined",
     "output_type": "error",
     "traceback": [
      "\u001b[0;31m---------------------------------------------------------------------------\u001b[0m",
      "\u001b[0;31mNameError\u001b[0m                                 Traceback (most recent call last)",
      "\u001b[0;32m<ipython-input-41-d571c675403b>\u001b[0m in \u001b[0;36m<module>\u001b[0;34m\u001b[0m\n\u001b[1;32m      5\u001b[0m \u001b[0mprint\u001b[0m\u001b[0;34m(\u001b[0m\u001b[0;34m'The shape of our labels is:'\u001b[0m\u001b[0;34m,\u001b[0m \u001b[0mlabels\u001b[0m\u001b[0;34m.\u001b[0m\u001b[0mshape\u001b[0m\u001b[0;34m)\u001b[0m\u001b[0;34m\u001b[0m\u001b[0;34m\u001b[0m\u001b[0m\n\u001b[1;32m      6\u001b[0m \u001b[0mtrain_features\u001b[0m\u001b[0;34m,\u001b[0m \u001b[0mtest_features\u001b[0m\u001b[0;34m,\u001b[0m \u001b[0mtrain_labels\u001b[0m\u001b[0;34m,\u001b[0m \u001b[0mtest_labels\u001b[0m \u001b[0;34m=\u001b[0m \u001b[0mtrain_test_split\u001b[0m\u001b[0;34m(\u001b[0m\u001b[0mfeatures\u001b[0m\u001b[0;34m,\u001b[0m \u001b[0mlabels\u001b[0m\u001b[0;34m,\u001b[0m \u001b[0mtest_size\u001b[0m \u001b[0;34m=\u001b[0m \u001b[0;36m0.25\u001b[0m\u001b[0;34m,\u001b[0m \u001b[0mrandom_state\u001b[0m \u001b[0;34m=\u001b[0m \u001b[0;36m42\u001b[0m\u001b[0;34m)\u001b[0m\u001b[0;34m\u001b[0m\u001b[0;34m\u001b[0m\u001b[0m\n\u001b[0;32m----> 7\u001b[0;31m \u001b[0mprint\u001b[0m\u001b[0;34m(\u001b[0m\u001b[0;34m'Training Features Shape:'\u001b[0m\u001b[0;34m,\u001b[0m \u001b[0mtrin_features\u001b[0m\u001b[0;34m.\u001b[0m\u001b[0mshape\u001b[0m\u001b[0;34m)\u001b[0m\u001b[0;34m\u001b[0m\u001b[0;34m\u001b[0m\u001b[0m\n\u001b[0m\u001b[1;32m      8\u001b[0m \u001b[0mprint\u001b[0m\u001b[0;34m(\u001b[0m\u001b[0;34m'Training Labels Shape:'\u001b[0m\u001b[0;34m,\u001b[0m \u001b[0mtrain_labels\u001b[0m\u001b[0;34m.\u001b[0m\u001b[0mshape\u001b[0m\u001b[0;34m)\u001b[0m\u001b[0;34m\u001b[0m\u001b[0;34m\u001b[0m\u001b[0m\n\u001b[1;32m      9\u001b[0m \u001b[0mprint\u001b[0m\u001b[0;34m(\u001b[0m\u001b[0;34m'Testing Features Shape:'\u001b[0m\u001b[0;34m,\u001b[0m \u001b[0mtest_features\u001b[0m\u001b[0;34m.\u001b[0m\u001b[0mshape\u001b[0m\u001b[0;34m)\u001b[0m\u001b[0;34m\u001b[0m\u001b[0;34m\u001b[0m\u001b[0m\n",
      "\u001b[0;31mNameError\u001b[0m: name 'trin_features' is not defined"
     ]
    }
   ],
   "source": [
    "# use second derivate to predict Cu\n",
    "features=dmu2\n",
    "labels = np.array(df_test['Num Cu'])\n",
    "print('The shape of our features is:', features.shape)\n",
    "print('The shape of our labels is:', labels.shape)\n",
    "train_features, test_features, train_labels, test_labels = train_test_split(features, labels, test_size = 0.25, random_state = 42)\n",
    "print('Training Features Shape:', trin_features.shape)\n",
    "print('Training Labels Shape:', train_labels.shape)\n",
    "print('Testing Features Shape:', test_features.shape)\n",
    "print('Testing Labels Shape:', test_labels.shape)"
   ]
  },
  {
   "cell_type": "code",
   "execution_count": null,
   "metadata": {},
   "outputs": [],
   "source": [
    "RFRegression(10, train_features, test_features, train_labels,test_labels, 4, 8)"
   ]
  },
  {
   "cell_type": "code",
   "execution_count": null,
   "metadata": {},
   "outputs": [],
   "source": []
  },
  {
   "cell_type": "code",
   "execution_count": null,
   "metadata": {
    "scrolled": true
   },
   "outputs": [],
   "source": [
    "# use second derivate to predict Te\n",
    "features=dmu2\n",
    "labels = np.array(df_test['Num Te'])\n",
    "print('The shape of our features is:', features.shape)\n",
    "print('The shape of our labels is:', labels.shape)\n",
    "train_features, test_features, train_labels, test_labels = train_test_split(features, labels, test_size = 0.25, random_state = 42)\n",
    "print('Training Features Shape:', train_features.shape)\n",
    "print('Training Labels Shape:', train_labels.shape)\n",
    "print('Testing Features Shape:', test_features.shape)\n",
    "print('Testing Labels Shape:', test_labels.shape)"
   ]
  },
  {
   "cell_type": "code",
   "execution_count": null,
   "metadata": {},
   "outputs": [],
   "source": [
    "RFRegression(10, train_features, test_features, train_labels,test_labels, 4, 5)"
   ]
  },
  {
   "cell_type": "markdown",
   "metadata": {},
   "source": [
    "## Compared with spectra and first derivate, using second derivative data, both R2 for  Cu, Te are lower. Still the Cu has higher R2 compared with Te"
   ]
  },
  {
   "cell_type": "code",
   "execution_count": null,
   "metadata": {},
   "outputs": [],
   "source": []
  }
 ],
 "metadata": {
  "kernelspec": {
   "display_name": "Python 3",
   "language": "python",
   "name": "python3"
  },
  "language_info": {
   "codemirror_mode": {
    "name": "ipython",
    "version": 3
   },
   "file_extension": ".py",
   "mimetype": "text/x-python",
   "name": "python",
   "nbconvert_exporter": "python",
   "pygments_lexer": "ipython3",
   "version": "3.7.6"
  }
 },
 "nbformat": 4,
 "nbformat_minor": 4
}
