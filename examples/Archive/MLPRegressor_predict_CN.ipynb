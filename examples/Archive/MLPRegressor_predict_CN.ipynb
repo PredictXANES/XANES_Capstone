{
 "cells": [
  {
   "cell_type": "code",
   "execution_count": 1,
   "metadata": {},
   "outputs": [],
   "source": [
    "import numpy as np\n",
    "import pandas as pd\n",
    "import matplotlib.pyplot as plt\n",
    "from sklearn.neural_network import MLPRegressor\n",
    "from sklearn.model_selection import train_test_split\n",
    "from sklearn.metrics import mean_squared_error\n",
    "from xanes_derivatives import xanes_derivatives"
   ]
  },
  {
   "cell_type": "markdown",
   "metadata": {},
   "source": [
    "This Notebook uses a dataframe of 10,000 averaged XANES spectra and attempts to predict the coordination from the spectra, first derivative of the spectra, second derivative of the spectra, and a combination using the sklearn multilayer perceptron regression neural network."
   ]
  },
  {
   "cell_type": "code",
   "execution_count": 2,
   "metadata": {},
   "outputs": [],
   "source": [
    "df = pd.read_csv('mu10000.csv')"
   ]
  },
  {
   "cell_type": "code",
   "execution_count": 3,
   "metadata": {
    "scrolled": true
   },
   "outputs": [
    {
     "data": {
      "text/html": [
       "<div>\n",
       "<style scoped>\n",
       "    .dataframe tbody tr th:only-of-type {\n",
       "        vertical-align: middle;\n",
       "    }\n",
       "\n",
       "    .dataframe tbody tr th {\n",
       "        vertical-align: top;\n",
       "    }\n",
       "\n",
       "    .dataframe thead th {\n",
       "        text-align: right;\n",
       "    }\n",
       "</style>\n",
       "<table border=\"1\" class=\"dataframe\">\n",
       "  <thead>\n",
       "    <tr style=\"text-align: right;\">\n",
       "      <th></th>\n",
       "      <th>CN</th>\n",
       "      <th>Mu1</th>\n",
       "      <th>Mu2</th>\n",
       "      <th>Mu3</th>\n",
       "      <th>Mu4</th>\n",
       "      <th>Mu5</th>\n",
       "      <th>Mu6</th>\n",
       "      <th>Mu7</th>\n",
       "      <th>Mu8</th>\n",
       "      <th>Mu9</th>\n",
       "      <th>...</th>\n",
       "      <th>Mu91</th>\n",
       "      <th>Mu92</th>\n",
       "      <th>Mu93</th>\n",
       "      <th>Mu94</th>\n",
       "      <th>Mu95</th>\n",
       "      <th>Mu96</th>\n",
       "      <th>Mu97</th>\n",
       "      <th>Mu98</th>\n",
       "      <th>Mu99</th>\n",
       "      <th>Mu100</th>\n",
       "    </tr>\n",
       "  </thead>\n",
       "  <tbody>\n",
       "    <tr>\n",
       "      <th>0</th>\n",
       "      <td>9.118123</td>\n",
       "      <td>0.031128</td>\n",
       "      <td>0.033685</td>\n",
       "      <td>0.036141</td>\n",
       "      <td>0.038614</td>\n",
       "      <td>0.041223</td>\n",
       "      <td>0.044086</td>\n",
       "      <td>0.047322</td>\n",
       "      <td>0.051048</td>\n",
       "      <td>0.055384</td>\n",
       "      <td>...</td>\n",
       "      <td>1.006451</td>\n",
       "      <td>1.006826</td>\n",
       "      <td>1.007279</td>\n",
       "      <td>1.007820</td>\n",
       "      <td>1.008459</td>\n",
       "      <td>1.009209</td>\n",
       "      <td>1.010079</td>\n",
       "      <td>1.011081</td>\n",
       "      <td>1.012226</td>\n",
       "      <td>1.013524</td>\n",
       "    </tr>\n",
       "    <tr>\n",
       "      <th>1</th>\n",
       "      <td>9.982105</td>\n",
       "      <td>0.030359</td>\n",
       "      <td>0.032863</td>\n",
       "      <td>0.035257</td>\n",
       "      <td>0.037652</td>\n",
       "      <td>0.040162</td>\n",
       "      <td>0.042900</td>\n",
       "      <td>0.045978</td>\n",
       "      <td>0.049510</td>\n",
       "      <td>0.053607</td>\n",
       "      <td>...</td>\n",
       "      <td>0.990334</td>\n",
       "      <td>0.992630</td>\n",
       "      <td>0.995239</td>\n",
       "      <td>0.998179</td>\n",
       "      <td>1.001467</td>\n",
       "      <td>1.005122</td>\n",
       "      <td>1.009162</td>\n",
       "      <td>1.013604</td>\n",
       "      <td>1.018468</td>\n",
       "      <td>1.023769</td>\n",
       "    </tr>\n",
       "    <tr>\n",
       "      <th>2</th>\n",
       "      <td>9.999510</td>\n",
       "      <td>0.030369</td>\n",
       "      <td>0.032855</td>\n",
       "      <td>0.035236</td>\n",
       "      <td>0.037623</td>\n",
       "      <td>0.040127</td>\n",
       "      <td>0.042859</td>\n",
       "      <td>0.045930</td>\n",
       "      <td>0.049452</td>\n",
       "      <td>0.053537</td>\n",
       "      <td>...</td>\n",
       "      <td>0.994056</td>\n",
       "      <td>0.996536</td>\n",
       "      <td>0.999312</td>\n",
       "      <td>1.002392</td>\n",
       "      <td>1.005782</td>\n",
       "      <td>1.009490</td>\n",
       "      <td>1.013522</td>\n",
       "      <td>1.017886</td>\n",
       "      <td>1.022590</td>\n",
       "      <td>1.027639</td>\n",
       "    </tr>\n",
       "    <tr>\n",
       "      <th>3</th>\n",
       "      <td>9.739154</td>\n",
       "      <td>0.030461</td>\n",
       "      <td>0.032974</td>\n",
       "      <td>0.035378</td>\n",
       "      <td>0.037786</td>\n",
       "      <td>0.040312</td>\n",
       "      <td>0.043069</td>\n",
       "      <td>0.046171</td>\n",
       "      <td>0.049731</td>\n",
       "      <td>0.053863</td>\n",
       "      <td>...</td>\n",
       "      <td>1.001889</td>\n",
       "      <td>1.002645</td>\n",
       "      <td>1.003574</td>\n",
       "      <td>1.004699</td>\n",
       "      <td>1.006045</td>\n",
       "      <td>1.007635</td>\n",
       "      <td>1.009494</td>\n",
       "      <td>1.011643</td>\n",
       "      <td>1.014109</td>\n",
       "      <td>1.016913</td>\n",
       "    </tr>\n",
       "    <tr>\n",
       "      <th>4</th>\n",
       "      <td>9.736296</td>\n",
       "      <td>0.030375</td>\n",
       "      <td>0.032841</td>\n",
       "      <td>0.035208</td>\n",
       "      <td>0.037585</td>\n",
       "      <td>0.040085</td>\n",
       "      <td>0.042817</td>\n",
       "      <td>0.045893</td>\n",
       "      <td>0.049424</td>\n",
       "      <td>0.053520</td>\n",
       "      <td>...</td>\n",
       "      <td>0.997625</td>\n",
       "      <td>0.998350</td>\n",
       "      <td>0.999261</td>\n",
       "      <td>1.000406</td>\n",
       "      <td>1.001833</td>\n",
       "      <td>1.003589</td>\n",
       "      <td>1.005722</td>\n",
       "      <td>1.008281</td>\n",
       "      <td>1.011312</td>\n",
       "      <td>1.014864</td>\n",
       "    </tr>\n",
       "    <tr>\n",
       "      <th>...</th>\n",
       "      <td>...</td>\n",
       "      <td>...</td>\n",
       "      <td>...</td>\n",
       "      <td>...</td>\n",
       "      <td>...</td>\n",
       "      <td>...</td>\n",
       "      <td>...</td>\n",
       "      <td>...</td>\n",
       "      <td>...</td>\n",
       "      <td>...</td>\n",
       "      <td>...</td>\n",
       "      <td>...</td>\n",
       "      <td>...</td>\n",
       "      <td>...</td>\n",
       "      <td>...</td>\n",
       "      <td>...</td>\n",
       "      <td>...</td>\n",
       "      <td>...</td>\n",
       "      <td>...</td>\n",
       "      <td>...</td>\n",
       "      <td>...</td>\n",
       "    </tr>\n",
       "    <tr>\n",
       "      <th>9995</th>\n",
       "      <td>9.141965</td>\n",
       "      <td>0.030467</td>\n",
       "      <td>0.032891</td>\n",
       "      <td>0.035230</td>\n",
       "      <td>0.037590</td>\n",
       "      <td>0.040081</td>\n",
       "      <td>0.042811</td>\n",
       "      <td>0.045888</td>\n",
       "      <td>0.049421</td>\n",
       "      <td>0.053517</td>\n",
       "      <td>...</td>\n",
       "      <td>1.007059</td>\n",
       "      <td>1.006536</td>\n",
       "      <td>1.006068</td>\n",
       "      <td>1.005712</td>\n",
       "      <td>1.005527</td>\n",
       "      <td>1.005574</td>\n",
       "      <td>1.005910</td>\n",
       "      <td>1.006595</td>\n",
       "      <td>1.007687</td>\n",
       "      <td>1.009246</td>\n",
       "    </tr>\n",
       "    <tr>\n",
       "      <th>9996</th>\n",
       "      <td>9.721995</td>\n",
       "      <td>0.030587</td>\n",
       "      <td>0.033079</td>\n",
       "      <td>0.035471</td>\n",
       "      <td>0.037874</td>\n",
       "      <td>0.040401</td>\n",
       "      <td>0.043163</td>\n",
       "      <td>0.046274</td>\n",
       "      <td>0.049843</td>\n",
       "      <td>0.053985</td>\n",
       "      <td>...</td>\n",
       "      <td>0.994157</td>\n",
       "      <td>0.997098</td>\n",
       "      <td>1.000359</td>\n",
       "      <td>1.003936</td>\n",
       "      <td>1.007828</td>\n",
       "      <td>1.012035</td>\n",
       "      <td>1.016554</td>\n",
       "      <td>1.021383</td>\n",
       "      <td>1.026521</td>\n",
       "      <td>1.031967</td>\n",
       "    </tr>\n",
       "    <tr>\n",
       "      <th>9997</th>\n",
       "      <td>9.335612</td>\n",
       "      <td>0.031082</td>\n",
       "      <td>0.033661</td>\n",
       "      <td>0.036129</td>\n",
       "      <td>0.038608</td>\n",
       "      <td>0.041217</td>\n",
       "      <td>0.044078</td>\n",
       "      <td>0.047311</td>\n",
       "      <td>0.051039</td>\n",
       "      <td>0.055381</td>\n",
       "      <td>...</td>\n",
       "      <td>1.001893</td>\n",
       "      <td>1.000900</td>\n",
       "      <td>0.999983</td>\n",
       "      <td>0.999175</td>\n",
       "      <td>0.998510</td>\n",
       "      <td>0.998019</td>\n",
       "      <td>0.997736</td>\n",
       "      <td>0.997696</td>\n",
       "      <td>0.997929</td>\n",
       "      <td>0.998471</td>\n",
       "    </tr>\n",
       "    <tr>\n",
       "      <th>9998</th>\n",
       "      <td>9.087615</td>\n",
       "      <td>0.031005</td>\n",
       "      <td>0.033524</td>\n",
       "      <td>0.035947</td>\n",
       "      <td>0.038390</td>\n",
       "      <td>0.040969</td>\n",
       "      <td>0.043799</td>\n",
       "      <td>0.046996</td>\n",
       "      <td>0.050677</td>\n",
       "      <td>0.054956</td>\n",
       "      <td>...</td>\n",
       "      <td>0.999137</td>\n",
       "      <td>0.999958</td>\n",
       "      <td>1.000910</td>\n",
       "      <td>1.002006</td>\n",
       "      <td>1.003256</td>\n",
       "      <td>1.004673</td>\n",
       "      <td>1.006269</td>\n",
       "      <td>1.008056</td>\n",
       "      <td>1.010046</td>\n",
       "      <td>1.012250</td>\n",
       "    </tr>\n",
       "    <tr>\n",
       "      <th>9999</th>\n",
       "      <td>9.713638</td>\n",
       "      <td>0.031125</td>\n",
       "      <td>0.033764</td>\n",
       "      <td>0.036279</td>\n",
       "      <td>0.038795</td>\n",
       "      <td>0.041436</td>\n",
       "      <td>0.044326</td>\n",
       "      <td>0.047588</td>\n",
       "      <td>0.051346</td>\n",
       "      <td>0.055725</td>\n",
       "      <td>...</td>\n",
       "      <td>1.000278</td>\n",
       "      <td>1.001009</td>\n",
       "      <td>1.001874</td>\n",
       "      <td>1.002861</td>\n",
       "      <td>1.003955</td>\n",
       "      <td>1.005145</td>\n",
       "      <td>1.006415</td>\n",
       "      <td>1.007753</td>\n",
       "      <td>1.009144</td>\n",
       "      <td>1.010576</td>\n",
       "    </tr>\n",
       "  </tbody>\n",
       "</table>\n",
       "<p>10000 rows × 101 columns</p>\n",
       "</div>"
      ],
      "text/plain": [
       "            CN       Mu1       Mu2       Mu3       Mu4       Mu5       Mu6  \\\n",
       "0     9.118123  0.031128  0.033685  0.036141  0.038614  0.041223  0.044086   \n",
       "1     9.982105  0.030359  0.032863  0.035257  0.037652  0.040162  0.042900   \n",
       "2     9.999510  0.030369  0.032855  0.035236  0.037623  0.040127  0.042859   \n",
       "3     9.739154  0.030461  0.032974  0.035378  0.037786  0.040312  0.043069   \n",
       "4     9.736296  0.030375  0.032841  0.035208  0.037585  0.040085  0.042817   \n",
       "...        ...       ...       ...       ...       ...       ...       ...   \n",
       "9995  9.141965  0.030467  0.032891  0.035230  0.037590  0.040081  0.042811   \n",
       "9996  9.721995  0.030587  0.033079  0.035471  0.037874  0.040401  0.043163   \n",
       "9997  9.335612  0.031082  0.033661  0.036129  0.038608  0.041217  0.044078   \n",
       "9998  9.087615  0.031005  0.033524  0.035947  0.038390  0.040969  0.043799   \n",
       "9999  9.713638  0.031125  0.033764  0.036279  0.038795  0.041436  0.044326   \n",
       "\n",
       "           Mu7       Mu8       Mu9  ...      Mu91      Mu92      Mu93  \\\n",
       "0     0.047322  0.051048  0.055384  ...  1.006451  1.006826  1.007279   \n",
       "1     0.045978  0.049510  0.053607  ...  0.990334  0.992630  0.995239   \n",
       "2     0.045930  0.049452  0.053537  ...  0.994056  0.996536  0.999312   \n",
       "3     0.046171  0.049731  0.053863  ...  1.001889  1.002645  1.003574   \n",
       "4     0.045893  0.049424  0.053520  ...  0.997625  0.998350  0.999261   \n",
       "...        ...       ...       ...  ...       ...       ...       ...   \n",
       "9995  0.045888  0.049421  0.053517  ...  1.007059  1.006536  1.006068   \n",
       "9996  0.046274  0.049843  0.053985  ...  0.994157  0.997098  1.000359   \n",
       "9997  0.047311  0.051039  0.055381  ...  1.001893  1.000900  0.999983   \n",
       "9998  0.046996  0.050677  0.054956  ...  0.999137  0.999958  1.000910   \n",
       "9999  0.047588  0.051346  0.055725  ...  1.000278  1.001009  1.001874   \n",
       "\n",
       "          Mu94      Mu95      Mu96      Mu97      Mu98      Mu99     Mu100  \n",
       "0     1.007820  1.008459  1.009209  1.010079  1.011081  1.012226  1.013524  \n",
       "1     0.998179  1.001467  1.005122  1.009162  1.013604  1.018468  1.023769  \n",
       "2     1.002392  1.005782  1.009490  1.013522  1.017886  1.022590  1.027639  \n",
       "3     1.004699  1.006045  1.007635  1.009494  1.011643  1.014109  1.016913  \n",
       "4     1.000406  1.001833  1.003589  1.005722  1.008281  1.011312  1.014864  \n",
       "...        ...       ...       ...       ...       ...       ...       ...  \n",
       "9995  1.005712  1.005527  1.005574  1.005910  1.006595  1.007687  1.009246  \n",
       "9996  1.003936  1.007828  1.012035  1.016554  1.021383  1.026521  1.031967  \n",
       "9997  0.999175  0.998510  0.998019  0.997736  0.997696  0.997929  0.998471  \n",
       "9998  1.002006  1.003256  1.004673  1.006269  1.008056  1.010046  1.012250  \n",
       "9999  1.002861  1.003955  1.005145  1.006415  1.007753  1.009144  1.010576  \n",
       "\n",
       "[10000 rows x 101 columns]"
      ]
     },
     "execution_count": 3,
     "metadata": {},
     "output_type": "execute_result"
    }
   ],
   "source": [
    "df"
   ]
  },
  {
   "cell_type": "markdown",
   "metadata": {},
   "source": [
    "## Fitting with Entire Spectra:"
   ]
  },
  {
   "cell_type": "markdown",
   "metadata": {},
   "source": [
    "The first example provided is predicting the coordination number based on training the neural network on the entire spectra."
   ]
  },
  {
   "cell_type": "code",
   "execution_count": 4,
   "metadata": {},
   "outputs": [],
   "source": [
    "X = df.drop(labels='CN', axis=1)\n",
    "y = df['CN']\n",
    "X_train, X_test, y_train, y_test = train_test_split(X, y, test_size=0.20, random_state=519)"
   ]
  },
  {
   "cell_type": "markdown",
   "metadata": {},
   "source": [
    "Starting with one hidden layer, the number of neurons in that layer is optimized by iterating from 1 to 100 (the number of features the neural network is trained on)."
   ]
  },
  {
   "cell_type": "code",
   "execution_count": 5,
   "metadata": {},
   "outputs": [
    {
     "name": "stderr",
     "output_type": "stream",
     "text": [
      "/home/jpothoof/anaconda3/lib/python3.7/site-packages/sklearn/neural_network/_multilayer_perceptron.py:571: ConvergenceWarning: Stochastic Optimizer: Maximum iterations (500) reached and the optimization hasn't converged yet.\n",
      "  % self.max_iter, ConvergenceWarning)\n",
      "/home/jpothoof/anaconda3/lib/python3.7/site-packages/sklearn/neural_network/_multilayer_perceptron.py:571: ConvergenceWarning: Stochastic Optimizer: Maximum iterations (500) reached and the optimization hasn't converged yet.\n",
      "  % self.max_iter, ConvergenceWarning)\n",
      "/home/jpothoof/anaconda3/lib/python3.7/site-packages/sklearn/neural_network/_multilayer_perceptron.py:571: ConvergenceWarning: Stochastic Optimizer: Maximum iterations (500) reached and the optimization hasn't converged yet.\n",
      "  % self.max_iter, ConvergenceWarning)\n",
      "/home/jpothoof/anaconda3/lib/python3.7/site-packages/sklearn/neural_network/_multilayer_perceptron.py:571: ConvergenceWarning: Stochastic Optimizer: Maximum iterations (500) reached and the optimization hasn't converged yet.\n",
      "  % self.max_iter, ConvergenceWarning)\n",
      "/home/jpothoof/anaconda3/lib/python3.7/site-packages/sklearn/neural_network/_multilayer_perceptron.py:571: ConvergenceWarning: Stochastic Optimizer: Maximum iterations (500) reached and the optimization hasn't converged yet.\n",
      "  % self.max_iter, ConvergenceWarning)\n",
      "/home/jpothoof/anaconda3/lib/python3.7/site-packages/sklearn/neural_network/_multilayer_perceptron.py:571: ConvergenceWarning: Stochastic Optimizer: Maximum iterations (500) reached and the optimization hasn't converged yet.\n",
      "  % self.max_iter, ConvergenceWarning)\n",
      "/home/jpothoof/anaconda3/lib/python3.7/site-packages/sklearn/neural_network/_multilayer_perceptron.py:571: ConvergenceWarning: Stochastic Optimizer: Maximum iterations (500) reached and the optimization hasn't converged yet.\n",
      "  % self.max_iter, ConvergenceWarning)\n"
     ]
    },
    {
     "name": "stdout",
     "output_type": "stream",
     "text": [
      "           0\n",
      "0   0.102808\n",
      "1   0.101964\n",
      "2   0.100643\n",
      "3   0.098976\n",
      "4   0.096626\n",
      "5   0.038363\n",
      "6   0.037848\n",
      "7   0.056012\n",
      "8   0.027756\n",
      "9   0.029181\n",
      "10  0.028629\n",
      "11  0.061282\n",
      "12  0.052805\n",
      "13  0.035868\n",
      "14  0.025576\n",
      "15  0.059449\n",
      "16  0.021188\n",
      "17  0.020173\n",
      "18  0.018517\n",
      "19  0.057854\n",
      "20  0.045094\n",
      "21  0.061132\n",
      "22  0.020473\n",
      "23  0.037314\n",
      "24  0.060276\n",
      "25  0.021405\n",
      "26  0.060754\n",
      "27  0.049278\n",
      "28  0.062648\n",
      "29  0.053020\n",
      "30  0.019313\n",
      "31  0.019405\n",
      "32  0.020684\n",
      "33  0.045869\n",
      "34  0.017153\n",
      "35  0.058964\n",
      "36  0.021039\n",
      "37  0.050940\n",
      "38  0.035229\n",
      "39  0.060929\n",
      "40  0.046748\n",
      "41  0.061021\n",
      "42  0.021200\n",
      "43  0.022906\n",
      "44  0.024061\n",
      "45  0.051471\n",
      "46  0.053826\n",
      "47  0.036408\n",
      "48  0.033485\n",
      "49  0.016168\n",
      "50  0.054819\n",
      "51  0.019616\n",
      "52  0.019182\n",
      "53  0.015921\n",
      "54  0.055468\n",
      "55  0.018857\n",
      "56  0.059148\n",
      "57  0.061069\n",
      "58  0.052477\n",
      "59  0.029080\n",
      "60  0.025956\n",
      "61  0.018187\n",
      "62  0.016761\n",
      "63  0.055997\n",
      "64  0.054369\n",
      "65  0.026230\n",
      "66  0.063484\n",
      "67  0.063309\n",
      "68  0.023058\n",
      "69  0.056090\n",
      "70  0.021666\n",
      "71  0.020661\n",
      "72  0.020078\n",
      "73  0.061745\n",
      "74  0.059625\n",
      "75  0.018551\n",
      "76  0.017824\n",
      "77  0.016118\n",
      "78  0.056149\n",
      "79  0.063044\n",
      "80  0.016954\n",
      "81  0.026606\n",
      "82  0.020906\n",
      "83  0.023032\n",
      "84  0.020109\n",
      "85  0.024423\n",
      "86  0.057092\n",
      "87  0.018808\n",
      "88  0.057399\n",
      "89  0.019458\n",
      "90  0.061838\n",
      "91  0.023729\n",
      "92  0.064667\n",
      "93  0.062622\n",
      "94  0.043172\n",
      "95  0.018368\n",
      "96  0.024529\n",
      "97  0.060640\n",
      "98  0.024072\n"
     ]
    }
   ],
   "source": [
    "loss = []\n",
    "for i in range(100):\n",
    "    if i == 0:\n",
    "        pass\n",
    "    else:\n",
    "        nn = MLPRegressor(hidden_layer_sizes=(i), activation='identity', solver='adam', max_iter=500, random_state=28)\n",
    "        nn = nn.fit(X_train, y_train)\n",
    "        loss.append(nn.loss_)\n",
    "\n",
    "lossdf = pd.DataFrame(loss)\n",
    "with pd.option_context('display.max_rows', None, 'display.max_columns', None):  # more options can be specified also\n",
    "    print(lossdf)"
   ]
  },
  {
   "cell_type": "markdown",
   "metadata": {},
   "source": [
    "The most optimal layer is noted to have 54 neurons. I attempted to add a second layer and repeat this process, but the loss was not improved."
   ]
  },
  {
   "cell_type": "code",
   "execution_count": 6,
   "metadata": {},
   "outputs": [
    {
     "name": "stdout",
     "output_type": "stream",
     "text": [
      "54\n",
      "0.01592139919763091\n"
     ]
    }
   ],
   "source": [
    "min_loss = lossdf.idxmin()[0]+1\n",
    "print(min_loss)\n",
    "nn = MLPRegressor(hidden_layer_sizes=(min_loss), activation='identity', solver='adam', max_iter=500, random_state=28)\n",
    "nn = nn.fit(X_train, y_train)\n",
    "loss = nn.loss_\n",
    "print(loss)\n"
   ]
  },
  {
   "cell_type": "markdown",
   "metadata": {},
   "source": [
    "Outputted below are the calculated mean squared error and R^2 value for the training and testing data when fitting with the averaged spectra. This is followed by a parity plot of the predicted y for testing data and the actual testing data for y."
   ]
  },
  {
   "cell_type": "code",
   "execution_count": 7,
   "metadata": {},
   "outputs": [
    {
     "name": "stdout",
     "output_type": "stream",
     "text": [
      "training mse =  0.030029353692895625\n",
      "testing mse = 0.029626558185347204\n",
      "training R2 = 0.840655456059886\n",
      "testing R2 = 0.8368539933332251\n"
     ]
    }
   ],
   "source": [
    "y_train_pred = nn.predict(X_train)\n",
    "y_test_pred = nn.predict(X_test)\n",
    "train_score = nn.score(X_train, y_train)\n",
    "test_score = nn.score(X_test, y_test)\n",
    "train_mse = mean_squared_error(y_train, y_train_pred)\n",
    "test_mse = mean_squared_error(y_test, y_test_pred)\n",
    "print('training mse =  '+ str(train_mse))\n",
    "print('testing mse = ' + str(test_mse))\n",
    "print('training R2 = ' + str(train_score))\n",
    "print('testing R2 = ' + str(test_score))"
   ]
  },
  {
   "cell_type": "code",
   "execution_count": 8,
   "metadata": {},
   "outputs": [
    {
     "data": {
      "text/plain": [
       "[<matplotlib.lines.Line2D at 0x7f83a4341e90>]"
      ]
     },
     "execution_count": 8,
     "metadata": {},
     "output_type": "execute_result"
    },
    {
     "data": {
      "image/png": "[encoded data removed]",
      "text/plain": [
       "<Figure size 432x288 with 1 Axes>"
      ]
     },
     "metadata": {
      "needs_background": "light"
     },
     "output_type": "display_data"
    }
   ],
   "source": [
    "y_pred = nn.predict(X_test)\n",
    "x = np.linspace(8, 12, 50)\n",
    "plt.scatter(y_test, y_pred)\n",
    "plt.plot(x,x, color='red')"
   ]
  },
  {
   "cell_type": "markdown",
   "metadata": {},
   "source": [
    "***"
   ]
  },
  {
   "cell_type": "markdown",
   "metadata": {},
   "source": [
    "## Fitting with 1st Derivative:"
   ]
  },
  {
   "cell_type": "markdown",
   "metadata": {},
   "source": [
    "Next, the first and second derivative are calculated and used as data to fit a neural network."
   ]
  },
  {
   "cell_type": "code",
   "execution_count": 9,
   "metadata": {},
   "outputs": [],
   "source": [
    "d1, d2 = xanes_derivatives(df)"
   ]
  },
  {
   "cell_type": "code",
   "execution_count": 10,
   "metadata": {},
   "outputs": [],
   "source": [
    "X_train, X_test, y_train, y_test = train_test_split(d1, y)"
   ]
  },
  {
   "cell_type": "markdown",
   "metadata": {},
   "source": [
    "The same process is repeated as before to obtain the optimum number of neurons in the single hidden layer."
   ]
  },
  {
   "cell_type": "code",
   "execution_count": 11,
   "metadata": {},
   "outputs": [
    {
     "name": "stdout",
     "output_type": "stream",
     "text": [
      "           0\n",
      "0   0.019190\n",
      "1   0.015061\n",
      "2   0.014911\n",
      "3   0.009111\n",
      "4   0.012145\n",
      "5   0.008089\n",
      "6   0.008434\n",
      "7   0.007367\n",
      "8   0.007468\n",
      "9   0.008449\n",
      "10  0.008272\n",
      "11  0.006972\n",
      "12  0.007452\n",
      "13  0.007165\n",
      "14  0.006649\n",
      "15  0.006656\n",
      "16  0.006753\n",
      "17  0.005886\n",
      "18  0.007389\n",
      "19  0.006462\n",
      "20  0.005644\n",
      "21  0.007023\n",
      "22  0.006624\n",
      "23  0.006828\n",
      "24  0.005992\n",
      "25  0.007369\n",
      "26  0.007208\n",
      "27  0.006005\n",
      "28  0.005943\n",
      "29  0.006062\n",
      "30  0.005397\n",
      "31  0.006221\n",
      "32  0.005899\n",
      "33  0.005933\n",
      "34  0.005828\n",
      "35  0.006351\n",
      "36  0.006085\n",
      "37  0.005467\n",
      "38  0.005264\n",
      "39  0.005450\n",
      "40  0.005465\n",
      "41  0.005367\n",
      "42  0.004971\n",
      "43  0.005601\n",
      "44  0.005754\n",
      "45  0.005493\n",
      "46  0.005593\n",
      "47  0.005739\n",
      "48  0.005074\n",
      "49  0.005387\n",
      "50  0.005183\n",
      "51  0.005825\n",
      "52  0.005581\n",
      "53  0.005735\n",
      "54  0.005006\n",
      "55  0.004804\n",
      "56  0.006517\n",
      "57  0.005364\n",
      "58  0.005587\n",
      "59  0.005387\n",
      "60  0.005178\n",
      "61  0.005061\n",
      "62  0.004855\n",
      "63  0.005340\n",
      "64  0.005380\n",
      "65  0.005305\n",
      "66  0.005793\n",
      "67  0.004976\n",
      "68  0.005179\n",
      "69  0.005268\n",
      "70  0.005388\n",
      "71  0.005317\n",
      "72  0.005099\n",
      "73  0.005142\n",
      "74  0.005517\n",
      "75  0.005266\n",
      "76  0.004774\n",
      "77  0.005313\n",
      "78  0.005572\n",
      "79  0.005297\n",
      "80  0.004891\n",
      "81  0.005195\n",
      "82  0.005045\n",
      "83  0.005437\n",
      "84  0.005525\n",
      "85  0.006023\n",
      "86  0.005193\n",
      "87  0.004986\n",
      "88  0.005029\n",
      "89  0.005202\n",
      "90  0.005985\n",
      "91  0.005156\n",
      "92  0.004423\n",
      "93  0.004960\n",
      "94  0.004919\n",
      "95  0.004747\n",
      "96  0.004725\n",
      "97  0.005914\n",
      "98  0.004721\n"
     ]
    }
   ],
   "source": [
    "loss = []\n",
    "for i in range(100):\n",
    "    if i == 0:\n",
    "        pass\n",
    "    else:\n",
    "        nn = MLPRegressor(hidden_layer_sizes=(i), activation='identity', solver='adam', max_iter=500, random_state=28)\n",
    "        nn = nn.fit(X_train, y_train)\n",
    "        loss.append(nn.loss_)\n",
    "\n",
    "lossdf1 = pd.DataFrame(loss)\n",
    "with pd.option_context('display.max_rows', None, 'display.max_columns', None):  # more options can be specified also\n",
    "    print(lossdf1)"
   ]
  },
  {
   "cell_type": "markdown",
   "metadata": {},
   "source": [
    "As can be seen, using the first derivative instead of the entire spectra yielded a lower loss as well as improved mean squared errors and R^2 values."
   ]
  },
  {
   "cell_type": "code",
   "execution_count": 12,
   "metadata": {},
   "outputs": [
    {
     "name": "stdout",
     "output_type": "stream",
     "text": [
      "93\n",
      "0.004422686966873892\n"
     ]
    }
   ],
   "source": [
    "min_loss1 = lossdf1.idxmin()[0]+1\n",
    "print(min_loss1)\n",
    "nn = MLPRegressor(hidden_layer_sizes=(min_loss1), activation='identity', solver='adam', max_iter=500, random_state=28)\n",
    "nn = nn.fit(X_train, y_train)\n",
    "loss = nn.loss_\n",
    "print(loss)"
   ]
  },
  {
   "cell_type": "code",
   "execution_count": 13,
   "metadata": {},
   "outputs": [
    {
     "name": "stdout",
     "output_type": "stream",
     "text": [
      "training mse =  0.007752372152248402\n",
      "testing mse = 0.008011402852407961\n",
      "training R2 = 0.9585099240789786\n",
      "testing R2 = 0.957350167152212\n"
     ]
    }
   ],
   "source": [
    "y_train_pred = nn.predict(X_train)\n",
    "y_test_pred = nn.predict(X_test)\n",
    "train_score = nn.score(X_train, y_train)\n",
    "test_score = nn.score(X_test, y_test)\n",
    "train_mse = mean_squared_error(y_train, y_train_pred)\n",
    "test_mse = mean_squared_error(y_test, y_test_pred)\n",
    "print('training mse =  '+ str(train_mse))\n",
    "print('testing mse = ' + str(test_mse))\n",
    "print('training R2 = ' + str(train_score))\n",
    "print('testing R2 = ' + str(test_score))"
   ]
  },
  {
   "cell_type": "code",
   "execution_count": 14,
   "metadata": {
    "scrolled": true
   },
   "outputs": [
    {
     "data": {
      "text/plain": [
       "[<matplotlib.lines.Line2D at 0x7f83a34ade50>]"
      ]
     },
     "execution_count": 14,
     "metadata": {},
     "output_type": "execute_result"
    },
    {
     "data": {
      "image/png": "[encoded data removed]",
      "text/plain": [
       "<Figure size 432x288 with 1 Axes>"
      ]
     },
     "metadata": {
      "needs_background": "light"
     },
     "output_type": "display_data"
    }
   ],
   "source": [
    "y_pred = nn.predict(X_test)\n",
    "x = np.linspace(8, 12, 50)\n",
    "plt.scatter(y_test, y_pred)\n",
    "plt.plot(x,x, color='red')"
   ]
  },
  {
   "cell_type": "markdown",
   "metadata": {},
   "source": [
    "This entire process was repeated a second time using the optimized first layer and adding a second layer."
   ]
  },
  {
   "cell_type": "code",
   "execution_count": 15,
   "metadata": {},
   "outputs": [
    {
     "name": "stdout",
     "output_type": "stream",
     "text": [
      "           0\n",
      "0   0.006181\n",
      "1   0.004847\n",
      "2   0.004390\n",
      "3   0.004622\n",
      "4   0.004787\n",
      "5   0.004728\n",
      "6   0.004229\n",
      "7   0.003491\n",
      "8   0.003886\n",
      "9   0.004114\n",
      "10  0.003857\n",
      "11  0.004039\n",
      "12  0.003374\n",
      "13  0.004079\n",
      "14  0.003889\n",
      "15  0.003846\n",
      "16  0.003512\n",
      "17  0.004455\n",
      "18  0.004163\n",
      "19  0.004427\n",
      "20  0.003705\n",
      "21  0.003415\n",
      "22  0.004025\n",
      "23  0.003351\n",
      "24  0.003915\n",
      "25  0.003255\n",
      "26  0.003754\n",
      "27  0.003436\n",
      "28  0.003558\n",
      "29  0.004329\n",
      "30  0.003876\n",
      "31  0.003971\n",
      "32  0.004274\n",
      "33  0.003918\n",
      "34  0.003833\n",
      "35  0.003474\n",
      "36  0.003850\n",
      "37  0.003308\n",
      "38  0.003788\n",
      "39  0.003122\n",
      "40  0.003644\n",
      "41  0.004101\n",
      "42  0.002876\n",
      "43  0.003669\n",
      "44  0.003239\n",
      "45  0.003082\n",
      "46  0.003397\n",
      "47  0.003388\n",
      "48  0.003630\n",
      "49  0.003186\n",
      "50  0.003922\n",
      "51  0.003443\n",
      "52  0.003631\n",
      "53  0.003351\n",
      "54  0.003411\n",
      "55  0.003711\n",
      "56  0.003515\n",
      "57  0.003610\n",
      "58  0.002813\n",
      "59  0.003254\n",
      "60  0.003924\n",
      "61  0.004932\n",
      "62  0.003198\n",
      "63  0.004434\n",
      "64  0.003286\n",
      "65  0.003440\n",
      "66  0.003624\n",
      "67  0.003582\n",
      "68  0.003734\n",
      "69  0.003257\n",
      "70  0.003983\n",
      "71  0.004341\n",
      "72  0.004034\n",
      "73  0.003267\n",
      "74  0.004077\n",
      "75  0.004433\n",
      "76  0.003080\n",
      "77  0.003459\n",
      "78  0.002940\n",
      "79  0.003512\n",
      "80  0.002892\n",
      "81  0.003656\n",
      "82  0.003955\n",
      "83  0.004138\n",
      "84  0.003292\n",
      "85  0.003731\n",
      "86  0.003487\n",
      "87  0.003529\n",
      "88  0.004207\n",
      "89  0.002921\n",
      "90  0.004094\n",
      "91  0.002804\n",
      "92  0.003675\n",
      "93  0.003461\n",
      "94  0.003489\n",
      "95  0.003788\n",
      "96  0.002939\n",
      "97  0.003175\n",
      "98  0.003343\n"
     ]
    }
   ],
   "source": [
    "loss = []\n",
    "for i in range(100):\n",
    "    if i == 0:\n",
    "        pass\n",
    "    else:\n",
    "        nn = MLPRegressor(hidden_layer_sizes=(min_loss1, i), activation='identity', solver='adam', max_iter=500, random_state=28)\n",
    "        nn = nn.fit(X_train, y_train)\n",
    "        loss.append(nn.loss_)\n",
    "\n",
    "lossdf2 = pd.DataFrame(loss)\n",
    "with pd.option_context('display.max_rows', None, 'display.max_columns', None):  # more options can be specified also\n",
    "    print(lossdf2)"
   ]
  },
  {
   "cell_type": "markdown",
   "metadata": {},
   "source": [
    "Through adding the second layer, we are able to obtain and improved loss as well as improved mean squared errors and R^2 values."
   ]
  },
  {
   "cell_type": "code",
   "execution_count": 16,
   "metadata": {},
   "outputs": [
    {
     "name": "stdout",
     "output_type": "stream",
     "text": [
      "92\n",
      "0.0028038804330500202\n"
     ]
    }
   ],
   "source": [
    "min_loss2 = lossdf2.idxmin()[0]+1\n",
    "print(min_loss2)\n",
    "nn = MLPRegressor(hidden_layer_sizes=(min_loss1, min_loss2), activation='identity', solver='adam', max_iter=500, random_state=28)\n",
    "nn = nn.fit(X_train, y_train)\n",
    "loss = nn.loss_\n",
    "print(loss)"
   ]
  },
  {
   "cell_type": "code",
   "execution_count": 17,
   "metadata": {},
   "outputs": [
    {
     "name": "stdout",
     "output_type": "stream",
     "text": [
      "training mse =  0.005954824929494886\n",
      "testing mse = 0.00598164725877307\n",
      "training R2 = 0.9681302530929867\n",
      "testing R2 = 0.9681558572897853\n"
     ]
    }
   ],
   "source": [
    "y_train_pred = nn.predict(X_train)\n",
    "y_test_pred = nn.predict(X_test)\n",
    "train_score = nn.score(X_train, y_train)\n",
    "test_score = nn.score(X_test, y_test)\n",
    "train_mse = mean_squared_error(y_train, y_train_pred)\n",
    "test_mse = mean_squared_error(y_test, y_test_pred)\n",
    "print('training mse =  '+ str(train_mse))\n",
    "print('testing mse = ' + str(test_mse))\n",
    "print('training R2 = ' + str(train_score))\n",
    "print('testing R2 = ' + str(test_score))"
   ]
  },
  {
   "cell_type": "code",
   "execution_count": 18,
   "metadata": {},
   "outputs": [
    {
     "data": {
      "text/plain": [
       "[<matplotlib.lines.Line2D at 0x7f83a3b4dd90>]"
      ]
     },
     "execution_count": 18,
     "metadata": {},
     "output_type": "execute_result"
    },
    {
     "data": {
      "image/png": "[encoded data removed]",
      "text/plain": [
       "<Figure size 432x288 with 1 Axes>"
      ]
     },
     "metadata": {
      "needs_background": "light"
     },
     "output_type": "display_data"
    }
   ],
   "source": [
    "y_pred = nn.predict(X_test)\n",
    "x = np.linspace(8, 12, 50)\n",
    "plt.scatter(y_test, y_pred)\n",
    "plt.plot(x,x, color='red')"
   ]
  },
  {
   "cell_type": "markdown",
   "metadata": {},
   "source": [
    "***"
   ]
  },
  {
   "cell_type": "markdown",
   "metadata": {},
   "source": [
    "## Fitting with 2nd Derivative"
   ]
  },
  {
   "cell_type": "markdown",
   "metadata": {},
   "source": [
    "The same process was repeated again using only the second derivative to train the neural network."
   ]
  },
  {
   "cell_type": "code",
   "execution_count": 19,
   "metadata": {},
   "outputs": [],
   "source": [
    "X_train, X_test, y_train, y_test = train_test_split(d2, y)"
   ]
  },
  {
   "cell_type": "code",
   "execution_count": 20,
   "metadata": {},
   "outputs": [
    {
     "name": "stderr",
     "output_type": "stream",
     "text": [
      "/home/jpothoof/anaconda3/lib/python3.7/site-packages/sklearn/neural_network/_multilayer_perceptron.py:571: ConvergenceWarning: Stochastic Optimizer: Maximum iterations (500) reached and the optimization hasn't converged yet.\n",
      "  % self.max_iter, ConvergenceWarning)\n"
     ]
    },
    {
     "name": "stdout",
     "output_type": "stream",
     "text": [
      "           0\n",
      "0   0.019949\n",
      "1   0.015431\n",
      "2   0.012257\n",
      "3   0.011904\n",
      "4   0.010995\n",
      "5   0.010964\n",
      "6   0.010060\n",
      "7   0.010549\n",
      "8   0.009962\n",
      "9   0.010590\n",
      "10  0.010720\n",
      "11  0.010051\n",
      "12  0.009212\n",
      "13  0.009992\n",
      "14  0.009715\n",
      "15  0.008599\n",
      "16  0.008347\n",
      "17  0.008891\n",
      "18  0.009911\n",
      "19  0.008970\n",
      "20  0.010027\n",
      "21  0.008508\n",
      "22  0.008705\n",
      "23  0.009130\n",
      "24  0.008418\n",
      "25  0.008886\n",
      "26  0.008823\n",
      "27  0.009006\n",
      "28  0.008782\n",
      "29  0.008334\n",
      "30  0.008668\n",
      "31  0.007857\n",
      "32  0.008602\n",
      "33  0.007624\n",
      "34  0.008789\n",
      "35  0.008301\n",
      "36  0.007888\n",
      "37  0.007198\n",
      "38  0.007114\n",
      "39  0.006982\n",
      "40  0.008308\n",
      "41  0.008537\n",
      "42  0.008557\n",
      "43  0.008886\n",
      "44  0.007685\n",
      "45  0.008957\n",
      "46  0.007592\n",
      "47  0.008890\n",
      "48  0.008099\n",
      "49  0.008075\n",
      "50  0.006659\n",
      "51  0.007538\n",
      "52  0.007123\n",
      "53  0.007672\n",
      "54  0.008007\n",
      "55  0.008415\n",
      "56  0.007257\n",
      "57  0.008370\n",
      "58  0.007952\n",
      "59  0.007501\n",
      "60  0.007799\n",
      "61  0.008226\n",
      "62  0.008007\n",
      "63  0.008280\n",
      "64  0.006578\n",
      "65  0.006857\n",
      "66  0.007305\n",
      "67  0.006981\n",
      "68  0.007967\n",
      "69  0.007232\n",
      "70  0.007466\n",
      "71  0.007400\n",
      "72  0.006381\n",
      "73  0.006833\n",
      "74  0.007922\n",
      "75  0.008089\n",
      "76  0.007704\n",
      "77  0.008012\n",
      "78  0.007202\n",
      "79  0.006759\n",
      "80  0.007127\n",
      "81  0.009056\n",
      "82  0.005907\n",
      "83  0.008466\n",
      "84  0.006772\n",
      "85  0.006541\n",
      "86  0.006924\n",
      "87  0.007293\n",
      "88  0.007885\n",
      "89  0.007435\n",
      "90  0.006297\n",
      "91  0.007112\n",
      "92  0.009567\n",
      "93  0.006550\n",
      "94  0.006665\n",
      "95  0.008069\n",
      "96  0.007432\n",
      "97  0.007103\n",
      "98  0.007513\n"
     ]
    }
   ],
   "source": [
    "loss = []\n",
    "for i in range(100):\n",
    "    if i == 0:\n",
    "        pass\n",
    "    else:\n",
    "        nn = MLPRegressor(hidden_layer_sizes=(i), activation='identity', solver='adam', max_iter=500, random_state=28)\n",
    "        nn = nn.fit(X_train, y_train)\n",
    "        loss.append(nn.loss_)\n",
    "\n",
    "lossdf3 = pd.DataFrame(loss)\n",
    "with pd.option_context('display.max_rows', None, 'display.max_columns', None):  # more options can be specified also\n",
    "    print(lossdf3)"
   ]
  },
  {
   "cell_type": "code",
   "execution_count": 21,
   "metadata": {},
   "outputs": [
    {
     "name": "stdout",
     "output_type": "stream",
     "text": [
      "83\n",
      "0.005906514373904167\n"
     ]
    }
   ],
   "source": [
    "min_loss3 = lossdf3.idxmin()[0]+1\n",
    "print(min_loss3)\n",
    "nn = MLPRegressor(hidden_layer_sizes=(min_loss3), activation='identity', solver='adam', max_iter=500, random_state=28)\n",
    "nn = nn.fit(X_train, y_train)\n",
    "loss = nn.loss_\n",
    "print(loss)"
   ]
  },
  {
   "cell_type": "code",
   "execution_count": 22,
   "metadata": {},
   "outputs": [
    {
     "name": "stdout",
     "output_type": "stream",
     "text": [
      "training mse =  0.009687345690006968\n",
      "testing mse = 0.008630496932203541\n",
      "training R2 = 0.9481987457541516\n",
      "testing R2 = 0.9539393421006588\n"
     ]
    }
   ],
   "source": [
    "y_train_pred = nn.predict(X_train)\n",
    "y_test_pred = nn.predict(X_test)\n",
    "train_score = nn.score(X_train, y_train)\n",
    "test_score = nn.score(X_test, y_test)\n",
    "train_mse = mean_squared_error(y_train, y_train_pred)\n",
    "test_mse = mean_squared_error(y_test, y_test_pred)\n",
    "print('training mse =  '+ str(train_mse))\n",
    "print('testing mse = ' + str(test_mse))\n",
    "print('training R2 = ' + str(train_score))\n",
    "print('testing R2 = ' + str(test_score))"
   ]
  },
  {
   "cell_type": "code",
   "execution_count": 23,
   "metadata": {
    "scrolled": true
   },
   "outputs": [
    {
     "data": {
      "text/plain": [
       "[<matplotlib.lines.Line2D at 0x7f83a4b4fed0>]"
      ]
     },
     "execution_count": 23,
     "metadata": {},
     "output_type": "execute_result"
    },
    {
     "data": {
      "image/png": "[encoded data removed]",
      "text/plain": [
       "<Figure size 432x288 with 1 Axes>"
      ]
     },
     "metadata": {
      "needs_background": "light"
     },
     "output_type": "display_data"
    }
   ],
   "source": [
    "y_pred = nn.predict(X_test)\n",
    "x = np.linspace(8, 12, 50)\n",
    "plt.scatter(y_test, y_pred)\n",
    "plt.plot(x,x, color='red')"
   ]
  },
  {
   "cell_type": "code",
   "execution_count": 24,
   "metadata": {},
   "outputs": [
    {
     "name": "stdout",
     "output_type": "stream",
     "text": [
      "           0\n",
      "0   0.007246\n",
      "1   0.006861\n",
      "2   0.004029\n",
      "3   0.004020\n",
      "4   0.003970\n",
      "5   0.003841\n",
      "6   0.004358\n",
      "7   0.003056\n",
      "8   0.003788\n",
      "9   0.005785\n",
      "10  0.005418\n",
      "11  0.004562\n",
      "12  0.002792\n",
      "13  0.003646\n",
      "14  0.004817\n",
      "15  0.003234\n",
      "16  0.003547\n",
      "17  0.004692\n",
      "18  0.003977\n",
      "19  0.003607\n",
      "20  0.004155\n",
      "21  0.002764\n",
      "22  0.004457\n",
      "23  0.004998\n",
      "24  0.003420\n",
      "25  0.003047\n",
      "26  0.003299\n",
      "27  0.002615\n",
      "28  0.004086\n",
      "29  0.002618\n",
      "30  0.005875\n",
      "31  0.002790\n",
      "32  0.002511\n",
      "33  0.002872\n",
      "34  0.002747\n",
      "35  0.003505\n",
      "36  0.002806\n",
      "37  0.003235\n",
      "38  0.002915\n",
      "39  0.002015\n",
      "40  0.003102\n",
      "41  0.003758\n",
      "42  0.003345\n",
      "43  0.002948\n",
      "44  0.003077\n",
      "45  0.002855\n",
      "46  0.002473\n",
      "47  0.003608\n",
      "48  0.004716\n",
      "49  0.003048\n",
      "50  0.002949\n",
      "51  0.002849\n",
      "52  0.002803\n",
      "53  0.003333\n",
      "54  0.003159\n",
      "55  0.003099\n",
      "56  0.002763\n",
      "57  0.004352\n",
      "58  0.003976\n",
      "59  0.002728\n",
      "60  0.002548\n",
      "61  0.002848\n",
      "62  0.003172\n",
      "63  0.002821\n",
      "64  0.002916\n",
      "65  0.002856\n",
      "66  0.003049\n",
      "67  0.003548\n",
      "68  0.002587\n",
      "69  0.002339\n",
      "70  0.003266\n",
      "71  0.002511\n",
      "72  0.002474\n",
      "73  0.003081\n",
      "74  0.002821\n",
      "75  0.002449\n",
      "76  0.003021\n",
      "77  0.002660\n",
      "78  0.002701\n",
      "79  0.003182\n",
      "80  0.002520\n",
      "81  0.003084\n",
      "82  0.002399\n",
      "83  0.003712\n",
      "84  0.003104\n",
      "85  0.002860\n",
      "86  0.003581\n",
      "87  0.002429\n",
      "88  0.002654\n",
      "89  0.003148\n",
      "90  0.002846\n",
      "91  0.002903\n",
      "92  0.003394\n",
      "93  0.003197\n",
      "94  0.002353\n",
      "95  0.002116\n",
      "96  0.002817\n",
      "97  0.002576\n",
      "98  0.002897\n"
     ]
    }
   ],
   "source": [
    "loss = []\n",
    "for i in range(100):\n",
    "    if i == 0:\n",
    "        pass\n",
    "    else:\n",
    "        nn = MLPRegressor(hidden_layer_sizes=(min_loss3, i), activation='identity', solver='adam', max_iter=500, random_state=28)\n",
    "        nn = nn.fit(X_train, y_train)\n",
    "        loss.append(nn.loss_)\n",
    "\n",
    "lossdf4 = pd.DataFrame(loss)\n",
    "with pd.option_context('display.max_rows', None, 'display.max_columns', None):  # more options can be specified also\n",
    "    print(lossdf4)"
   ]
  },
  {
   "cell_type": "code",
   "execution_count": 25,
   "metadata": {},
   "outputs": [
    {
     "name": "stdout",
     "output_type": "stream",
     "text": [
      "40\n",
      "0.0020146274592853157\n"
     ]
    }
   ],
   "source": [
    "min_loss4 = lossdf4.idxmin()[0]+1\n",
    "print(min_loss4)\n",
    "nn = MLPRegressor(hidden_layer_sizes=(min_loss3, min_loss4), activation='identity', solver='adam', max_iter=500, random_state=28)\n",
    "nn = nn.fit(X_train, y_train)\n",
    "loss = nn.loss_\n",
    "print(loss)"
   ]
  },
  {
   "cell_type": "code",
   "execution_count": 26,
   "metadata": {},
   "outputs": [
    {
     "name": "stdout",
     "output_type": "stream",
     "text": [
      "training mse =  0.0031214498174559338\n",
      "testing mse = 0.0029412364585795097\n",
      "training R2 = 0.9833086357415232\n",
      "testing R2 = 0.9843027247001047\n"
     ]
    }
   ],
   "source": [
    "y_train_pred = nn.predict(X_train)\n",
    "y_test_pred = nn.predict(X_test)\n",
    "train_score = nn.score(X_train, y_train)\n",
    "test_score = nn.score(X_test, y_test)\n",
    "train_mse = mean_squared_error(y_train, y_train_pred)\n",
    "test_mse = mean_squared_error(y_test, y_test_pred)\n",
    "print('training mse =  '+ str(train_mse))\n",
    "print('testing mse = ' + str(test_mse))\n",
    "print('training R2 = ' + str(train_score))\n",
    "print('testing R2 = ' + str(test_score))"
   ]
  },
  {
   "cell_type": "code",
   "execution_count": 27,
   "metadata": {},
   "outputs": [
    {
     "data": {
      "text/plain": [
       "[<matplotlib.lines.Line2D at 0x7f83a3a36090>]"
      ]
     },
     "execution_count": 27,
     "metadata": {},
     "output_type": "execute_result"
    },
    {
     "data": {
      "image/png": "[encoded data removed]",
      "text/plain": [
       "<Figure size 432x288 with 1 Axes>"
      ]
     },
     "metadata": {
      "needs_background": "light"
     },
     "output_type": "display_data"
    }
   ],
   "source": [
    "y_pred = nn.predict(X_test)\n",
    "x = np.linspace(8, 12, 50)\n",
    "plt.scatter(y_test, y_pred)\n",
    "plt.plot(x,x, color='red')"
   ]
  },
  {
   "cell_type": "markdown",
   "metadata": {},
   "source": [
    "***"
   ]
  },
  {
   "cell_type": "markdown",
   "metadata": {},
   "source": [
    "## Fitting with 1st and 2nd Derivative:"
   ]
  },
  {
   "cell_type": "markdown",
   "metadata": {},
   "source": [
    "Now we combine the 1st and 2nd derivative into a single dataset to train the neural network."
   ]
  },
  {
   "cell_type": "code",
   "execution_count": 28,
   "metadata": {},
   "outputs": [],
   "source": [
    "df1 = pd.DataFrame(d1)\n",
    "df2 = pd.DataFrame(d2)\n",
    "df3 = pd.concat([df1, df2], axis=1)\n",
    "X_train, X_test, y_train, y_test = train_test_split(df3, y)"
   ]
  },
  {
   "cell_type": "markdown",
   "metadata": {},
   "source": [
    "Since the number of features has increased to 200 for the training data, we increase the layer size to match that."
   ]
  },
  {
   "cell_type": "code",
   "execution_count": 29,
   "metadata": {},
   "outputs": [
    {
     "name": "stdout",
     "output_type": "stream",
     "text": [
      "            0\n",
      "0    0.011175\n",
      "1    0.009516\n",
      "2    0.008285\n",
      "3    0.008112\n",
      "4    0.007938\n",
      "..        ...\n",
      "194  0.005318\n",
      "195  0.003856\n",
      "196  0.003760\n",
      "197  0.003633\n",
      "198  0.004060\n",
      "\n",
      "[199 rows x 1 columns]\n"
     ]
    }
   ],
   "source": [
    "loss = []\n",
    "for i in range(200):\n",
    "    if i == 0:\n",
    "        pass\n",
    "    else:\n",
    "        nn = MLPRegressor(hidden_layer_sizes=(i), activation='identity', solver='adam', max_iter=500, random_state=28)\n",
    "        nn = nn.fit(X_train, y_train)\n",
    "        loss.append(nn.loss_)\n",
    "#     x = np.linspace(8, 12, 50)\n",
    "#     plt.scatter(y_test, y_pred)\n",
    "#     plt.plot(x,x, color='red')\n",
    "lossdf5 = pd.DataFrame(loss)\n",
    "print(lossdf5)"
   ]
  },
  {
   "cell_type": "code",
   "execution_count": 30,
   "metadata": {},
   "outputs": [
    {
     "name": "stdout",
     "output_type": "stream",
     "text": [
      "190\n",
      "0.0031262842569903747\n"
     ]
    }
   ],
   "source": [
    "min_loss5 = lossdf5.idxmin()[0]+1\n",
    "print(min_loss5)\n",
    "nn = MLPRegressor(hidden_layer_sizes=(min_loss5), activation='identity', solver='adam', max_iter=500, random_state=28)\n",
    "nn = nn.fit(X_train, y_train)\n",
    "loss = nn.loss_\n",
    "print(loss)"
   ]
  },
  {
   "cell_type": "code",
   "execution_count": 31,
   "metadata": {},
   "outputs": [
    {
     "name": "stdout",
     "output_type": "stream",
     "text": [
      "training mse =  0.004660393075090652\n",
      "testing mse = 0.004481997294183745\n",
      "training R2 = 0.9753153150268483\n",
      "testing R2 = 0.9753551942175579\n"
     ]
    }
   ],
   "source": [
    "y_train_pred = nn.predict(X_train)\n",
    "y_test_pred = nn.predict(X_test)\n",
    "train_score = nn.score(X_train, y_train)\n",
    "test_score = nn.score(X_test, y_test)\n",
    "train_mse = mean_squared_error(y_train, y_train_pred)\n",
    "test_mse = mean_squared_error(y_test, y_test_pred)\n",
    "print('training mse =  '+ str(train_mse))\n",
    "print('testing mse = ' + str(test_mse))\n",
    "print('training R2 = ' + str(train_score))\n",
    "print('testing R2 = ' + str(test_score))"
   ]
  },
  {
   "cell_type": "code",
   "execution_count": 32,
   "metadata": {
    "scrolled": true
   },
   "outputs": [
    {
     "data": {
      "text/plain": [
       "[<matplotlib.lines.Line2D at 0x7f83a39a1590>]"
      ]
     },
     "execution_count": 32,
     "metadata": {},
     "output_type": "execute_result"
    },
    {
     "data": {
      "image/png": "[encoded data removed]",
      "text/plain": [
       "<Figure size 432x288 with 1 Axes>"
      ]
     },
     "metadata": {
      "needs_background": "light"
     },
     "output_type": "display_data"
    }
   ],
   "source": [
    "y_pred = nn.predict(X_test)\n",
    "x = np.linspace(8, 12, 50)\n",
    "plt.scatter(y_test, y_pred)\n",
    "plt.plot(x,x, color='red')"
   ]
  },
  {
   "cell_type": "code",
   "execution_count": 33,
   "metadata": {},
   "outputs": [
    {
     "name": "stdout",
     "output_type": "stream",
     "text": [
      "            0\n",
      "0    0.003624\n",
      "1    0.003079\n",
      "2    0.003942\n",
      "3    0.003691\n",
      "4    0.003463\n",
      "5    0.003175\n",
      "6    0.003384\n",
      "7    0.003997\n",
      "8    0.003113\n",
      "9    0.004355\n",
      "10   0.002216\n",
      "11   0.003203\n",
      "12   0.002943\n",
      "13   0.003980\n",
      "14   0.002642\n",
      "15   0.003915\n",
      "16   0.003206\n",
      "17   0.002229\n",
      "18   0.001895\n",
      "19   0.003985\n",
      "20   0.002006\n",
      "21   0.002072\n",
      "22   0.002659\n",
      "23   0.002864\n",
      "24   0.003919\n",
      "25   0.002218\n",
      "26   0.002782\n",
      "27   0.003012\n",
      "28   0.003102\n",
      "29   0.001989\n",
      "30   0.002127\n",
      "31   0.002515\n",
      "32   0.002410\n",
      "33   0.002991\n",
      "34   0.002323\n",
      "35   0.001959\n",
      "36   0.002139\n",
      "37   0.003125\n",
      "38   0.002044\n",
      "39   0.002164\n",
      "40   0.002181\n",
      "41   0.002536\n",
      "42   0.002851\n",
      "43   0.002814\n",
      "44   0.002529\n",
      "45   0.003333\n",
      "46   0.002430\n",
      "47   0.002239\n",
      "48   0.002314\n",
      "49   0.002357\n",
      "50   0.002430\n",
      "51   0.002924\n",
      "52   0.002056\n",
      "53   0.002956\n",
      "54   0.002140\n",
      "55   0.002302\n",
      "56   0.002677\n",
      "57   0.002424\n",
      "58   0.001986\n",
      "59   0.002031\n",
      "60   0.002326\n",
      "61   0.002435\n",
      "62   0.003041\n",
      "63   0.002553\n",
      "64   0.002921\n",
      "65   0.001899\n",
      "66   0.001759\n",
      "67   0.001507\n",
      "68   0.002936\n",
      "69   0.002175\n",
      "70   0.001740\n",
      "71   0.002257\n",
      "72   0.002051\n",
      "73   0.001949\n",
      "74   0.002042\n",
      "75   0.001671\n",
      "76   0.002284\n",
      "77   0.001879\n",
      "78   0.001713\n",
      "79   0.001890\n",
      "80   0.001763\n",
      "81   0.001800\n",
      "82   0.002214\n",
      "83   0.002356\n",
      "84   0.001753\n",
      "85   0.002292\n",
      "86   0.001572\n",
      "87   0.002439\n",
      "88   0.002223\n",
      "89   0.002758\n",
      "90   0.002374\n",
      "91   0.002087\n",
      "92   0.002296\n",
      "93   0.002794\n",
      "94   0.001861\n",
      "95   0.001934\n",
      "96   0.002392\n",
      "97   0.001698\n",
      "98   0.001917\n",
      "99   0.002457\n",
      "100  0.003523\n",
      "101  0.001846\n",
      "102  0.001708\n",
      "103  0.001970\n",
      "104  0.002762\n",
      "105  0.001778\n",
      "106  0.001821\n",
      "107  0.003464\n",
      "108  0.002239\n",
      "109  0.002002\n",
      "110  0.002144\n",
      "111  0.001954\n",
      "112  0.002079\n",
      "113  0.002244\n",
      "114  0.002010\n",
      "115  0.002027\n",
      "116  0.002060\n",
      "117  0.002022\n",
      "118  0.003004\n",
      "119  0.001998\n",
      "120  0.002209\n",
      "121  0.001482\n",
      "122  0.002215\n",
      "123  0.002915\n",
      "124  0.002377\n",
      "125  0.002108\n",
      "126  0.001892\n",
      "127  0.002696\n",
      "128  0.001957\n",
      "129  0.002836\n",
      "130  0.002086\n",
      "131  0.001844\n",
      "132  0.001770\n",
      "133  0.001994\n",
      "134  0.002118\n",
      "135  0.002291\n",
      "136  0.002083\n",
      "137  0.002191\n",
      "138  0.002348\n",
      "139  0.002163\n",
      "140  0.002490\n",
      "141  0.001609\n",
      "142  0.002429\n",
      "143  0.002160\n",
      "144  0.002924\n",
      "145  0.001921\n",
      "146  0.001651\n",
      "147  0.002014\n",
      "148  0.002503\n",
      "149  0.001874\n",
      "150  0.002302\n",
      "151  0.001928\n",
      "152  0.002396\n",
      "153  0.002826\n",
      "154  0.002162\n",
      "155  0.002128\n",
      "156  0.002461\n",
      "157  0.002261\n",
      "158  0.002181\n",
      "159  0.002350\n",
      "160  0.002904\n",
      "161  0.002121\n",
      "162  0.001805\n",
      "163  0.002537\n",
      "164  0.001906\n",
      "165  0.002719\n",
      "166  0.002151\n",
      "167  0.001695\n",
      "168  0.002539\n",
      "169  0.003037\n",
      "170  0.001932\n",
      "171  0.002516\n",
      "172  0.001789\n",
      "173  0.001876\n",
      "174  0.002413\n",
      "175  0.001716\n",
      "176  0.001912\n",
      "177  0.001997\n",
      "178  0.002319\n",
      "179  0.002285\n",
      "180  0.002054\n",
      "181  0.002425\n",
      "182  0.002087\n",
      "183  0.002192\n",
      "184  0.001917\n",
      "185  0.002253\n",
      "186  0.002128\n",
      "187  0.001810\n",
      "188  0.001708\n",
      "189  0.003591\n",
      "190  0.001914\n",
      "191  0.001863\n",
      "192  0.001732\n",
      "193  0.002460\n",
      "194  0.002205\n",
      "195  0.002333\n",
      "196  0.002193\n",
      "197  0.002103\n",
      "198  0.002308\n"
     ]
    }
   ],
   "source": [
    "loss = []\n",
    "for i in range(200):\n",
    "    if i == 0:\n",
    "        pass\n",
    "    else:\n",
    "        nn = MLPRegressor(hidden_layer_sizes=(min_loss5, i), activation='identity', solver='adam', max_iter=500, random_state=28)\n",
    "        nn = nn.fit(X_train, y_train)\n",
    "        loss.append(nn.loss_)\n",
    "\n",
    "lossdf6 = pd.DataFrame(loss)\n",
    "with pd.option_context('display.max_rows', None, 'display.max_columns', None):  # more options can be specified also\n",
    "    print(lossdf6)"
   ]
  },
  {
   "cell_type": "markdown",
   "metadata": {},
   "source": [
    "As can be seen below, using both the 1st and 2nd derivative has resulted in the best loss, mean squared error, and R^2 values."
   ]
  },
  {
   "cell_type": "code",
   "execution_count": 34,
   "metadata": {},
   "outputs": [
    {
     "name": "stdout",
     "output_type": "stream",
     "text": [
      "122\n",
      "0.0014820705545183493\n"
     ]
    }
   ],
   "source": [
    "min_loss6 = lossdf6.idxmin()[0]+1\n",
    "print(min_loss6)\n",
    "nn = MLPRegressor(hidden_layer_sizes=(min_loss5, min_loss6), activation='identity', solver='adam', max_iter=500, random_state=28)\n",
    "nn = nn.fit(X_train, y_train)\n",
    "loss = nn.loss_\n",
    "print(loss)"
   ]
  },
  {
   "cell_type": "code",
   "execution_count": 35,
   "metadata": {},
   "outputs": [
    {
     "name": "stdout",
     "output_type": "stream",
     "text": [
      "training mse =  0.002344730971324557\n",
      "testing mse = 0.0022691987947168688\n",
      "training R2 = 0.9875806730373676\n",
      "testing R2 = 0.9875225351764222\n"
     ]
    }
   ],
   "source": [
    "y_train_pred = nn.predict(X_train)\n",
    "y_test_pred = nn.predict(X_test)\n",
    "train_score = nn.score(X_train, y_train)\n",
    "test_score = nn.score(X_test, y_test)\n",
    "train_mse = mean_squared_error(y_train, y_train_pred)\n",
    "test_mse = mean_squared_error(y_test, y_test_pred)\n",
    "print('training mse =  '+ str(train_mse))\n",
    "print('testing mse = ' + str(test_mse))\n",
    "print('training R2 = ' + str(train_score))\n",
    "print('testing R2 = ' + str(test_score))"
   ]
  },
  {
   "cell_type": "code",
   "execution_count": 36,
   "metadata": {},
   "outputs": [
    {
     "data": {
      "text/plain": [
       "[<matplotlib.lines.Line2D at 0x7f83a3926610>]"
      ]
     },
     "execution_count": 36,
     "metadata": {},
     "output_type": "execute_result"
    },
    {
     "data": {
      "image/png": "[encoded data removed]",
      "text/plain": [
       "<Figure size 432x288 with 1 Axes>"
      ]
     },
     "metadata": {
      "needs_background": "light"
     },
     "output_type": "display_data"
    }
   ],
   "source": [
    "y_pred = nn.predict(X_test)\n",
    "x = np.linspace(8, 12, 50)\n",
    "plt.scatter(y_test, y_pred)\n",
    "plt.plot(x,x, color='red')"
   ]
  },
  {
   "cell_type": "code",
   "execution_count": null,
   "metadata": {},
   "outputs": [],
   "source": []
  }
 ],
 "metadata": {
  "kernelspec": {
   "display_name": "Python 3",
   "language": "python",
   "name": "python3"
  },
  "language_info": {
   "codemirror_mode": {
    "name": "ipython",
    "version": 3
   },
   "file_extension": ".py",
   "mimetype": "text/x-python",
   "name": "python",
   "nbconvert_exporter": "python",
   "pygments_lexer": "ipython3",
   "version": "3.7.5"
  }
 },
 "nbformat": 4,
 "nbformat_minor": 4
}
